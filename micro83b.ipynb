{
  "nbformat": 4,
  "nbformat_minor": 0,
  "metadata": {
    "colab": {
      "provenance": [],
      "authorship_tag": "ABX9TyMPsnBMKAK1G5hVdgaDW2Rk",
      "include_colab_link": true
    },
    "kernelspec": {
      "name": "python3",
      "display_name": "Python 3"
    },
    "language_info": {
      "name": "python"
    }
  },
  "cells": [
    {
      "cell_type": "markdown",
      "metadata": {
        "id": "view-in-github",
        "colab_type": "text"
      },
      "source": [
        "<a href=\"https://colab.research.google.com/github/kdemertzis/LNexamples/blob/main/micro83b.ipynb\" target=\"_parent\"><img src=\"https://colab.research.google.com/assets/colab-badge.svg\" alt=\"Open In Colab\"/></a>"
      ]
    },
    {
      "cell_type": "code",
      "source": [
        "import matplotlib.pyplot as plt\n",
        "import numpy as np"
      ],
      "metadata": {
        "id": "-h8uuyQcGdLQ"
      },
      "execution_count": 637,
      "outputs": []
    },
    {
      "cell_type": "code",
      "source": [
        "cluster1 = np.random.normal(3, 1, (4, 2))\n",
        "cluster2 = np.random.normal(8, 1, (4, 2))\n",
        "cluster3 = np.random.normal(15, 1, (4, 2))\n",
        "cluster4 = np.random.normal(20, 1, (4, 2))\n",
        "cluster5 = np.random.normal(27, 2, (4, 2))"
      ],
      "metadata": {
        "id": "Qpil9gl6GeN-"
      },
      "execution_count": 638,
      "outputs": []
    },
    {
      "cell_type": "code",
      "source": [
        "anomaly1 = np.array([[1, 2]])\n",
        "anomaly2 = np.array([[8, 5]])\n",
        "anomaly3 = np.array([[12, 14]])\n",
        "anomaly4 = np.array([[20, 18]])\n",
        "anomaly5 = np.array([[27, 24]])"
      ],
      "metadata": {
        "id": "3nDqaiwnGiV3"
      },
      "execution_count": 639,
      "outputs": []
    },
    {
      "cell_type": "code",
      "source": [
        "plt.scatter(cluster1[:, 0], cluster1[:, 1], c='b', label='Micro-Cluster 1')\n",
        "plt.scatter(cluster2[:, 0], cluster2[:, 1], c='g', label='Micro-Cluster 2')\n",
        "plt.scatter(cluster3[:, 0], cluster3[:, 1], c='r', label='Micro-Cluster 3')\n",
        "plt.scatter(cluster4[:, 0], cluster4[:, 1], c='y', label='Micro-Cluster 4')\n",
        "plt.scatter(cluster5[:, 0], cluster5[:, 1], c='c', label='Micro-Cluster 5')\n",
        "plt.scatter(anomaly1[:, 0], anomaly1[:, 1], c='k', marker='x', label='Anomaly 1')\n",
        "plt.scatter(anomaly2[:, 0], anomaly2[:, 1], c='k', marker='x', label='Anomaly 2')\n",
        "plt.scatter(anomaly3[:, 0], anomaly3[:, 1], c='k', marker='x', label='Anomaly 3')\n",
        "plt.scatter(anomaly4[:, 0], anomaly4[:, 1], c='k', marker='x', label='Anomaly 4')\n",
        "plt.scatter(anomaly5[:, 0], anomaly5[:, 1], c='k', marker='x', label='Anomaly 5')\n",
        "#plt.legend()\n",
        "plt.show()"
      ],
      "metadata": {
        "colab": {
          "base_uri": "https://localhost:8080/",
          "height": 265
        },
        "id": "NhIIB7edGmUK",
        "outputId": "168abfe7-c737-47c8-c2ec-9bc2df244fc4"
      },
      "execution_count": 640,
      "outputs": [
        {
          "output_type": "display_data",
          "data": {
            "text/plain": [
              "<Figure size 432x288 with 1 Axes>"
            ],
            "image/png": "[encoded data removed]"
          },
          "metadata": {
            "needs_background": "light"
          }
        }
      ]
    }
  ]
}