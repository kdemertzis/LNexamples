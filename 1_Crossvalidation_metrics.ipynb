{
  "nbformat": 4,
  "nbformat_minor": 0,
  "metadata": {
    "colab": {
      "name": "1.Crossvalidation_metrics.ipynb",
      "provenance": [],
      "collapsed_sections": [],
      "include_colab_link": true
    },
    "kernelspec": {
      "name": "python3",
      "display_name": "Python 3"
    }
  },
  "cells": [
    {
      "cell_type": "markdown",
      "metadata": {
        "id": "view-in-github",
        "colab_type": "text"
      },
      "source": [
        "<a href=\"https://colab.research.google.com/github/kdemertzis/LNexamples/blob/main/1_Crossvalidation_metrics.ipynb\" target=\"_parent\"><img src=\"https://colab.research.google.com/assets/colab-badge.svg\" alt=\"Open In Colab\"/></a>"
      ]
    },
    {
      "cell_type": "markdown",
      "metadata": {
        "id": "VowCTTxWNb9I"
      },
      "source": [
        "# Τεχνικές διασταυρωμένης επικύρωσης"
      ]
    },
    {
      "cell_type": "markdown",
      "metadata": {
        "id": "vgvneoydNcsQ"
      },
      "source": [
        "Για τον πειραματισμό μας  θα χρησιμοποιήσουμε ως dataset το *Pima-Indians-diabetes*. Θα φορτώσουμε το dataset και θα το χωρίσουμε σε data και σε labels."
      ]
    },
    {
      "cell_type": "code",
      "metadata": {
        "id": "EhR1lEjrF7wF",
        "colab": {
          "base_uri": "https://localhost:8080/"
        },
        "outputId": "3fdbf14c-2661-4217-cb51-e466aeb7b07b"
      },
      "source": [
        "from IPython.display import Image\n",
        "from IPython.display import display\n",
        "\n",
        "import pandas as pd\n",
        "import numpy as np\n",
        "import matplotlib.pyplot as plt\n",
        "\n",
        "# inline plotting instead of popping out\n",
        "%matplotlib inline\n",
        "\n",
        "\n",
        "# e.g., plot_decision_regions()\n",
        "import os, sys\n",
        "module_path = os.path.abspath(os.path.join('.'))\n",
        "sys.path.append(module_path)\n",
        "\n",
        "\n",
        "# Load CSV using Pandas from URL\n",
        "\n",
        "url = \"https://raw.githubusercontent.com/jbrownlee/Datasets/master/pima-indians-diabetes.data.csv\"\n",
        "names = ['preg', 'plas', 'pres', 'skin', 'test', 'mass', 'pedi', 'age', 'class']\n",
        "data = pd.read_csv(url, names=names)\n",
        "print(data.shape)\n",
        "\n",
        "# separate array into input and output components\n",
        "# X: Features Y: Labels\n",
        "\n",
        "y = data['class']\n",
        "X = data.drop('class', axis=1)\n",
        "\n",
        "X.shape, y.shape"
      ],
      "execution_count": null,
      "outputs": [
        {
          "output_type": "stream",
          "text": [
            "(768, 9)\n"
          ],
          "name": "stdout"
        },
        {
          "output_type": "execute_result",
          "data": {
            "text/plain": [
              "((768, 8), (768,))"
            ]
          },
          "metadata": {
            "tags": []
          },
          "execution_count": 1
        }
      ]
    },
    {
      "cell_type": "markdown",
      "metadata": {
        "id": "eRXuY5ZGPD6Q"
      },
      "source": [
        "## Hold out cross validation"
      ]
    },
    {
      "cell_type": "markdown",
      "metadata": {
        "id": "MvxtzEpENaCS"
      },
      "source": [
        "![alt text](https://www.kdnuggets.com/wp-content/uploads/dataiku-holdout-strategy.jpg)"
      ]
    },
    {
      "cell_type": "markdown",
      "metadata": {
        "id": "nhQvXFgcPPje"
      },
      "source": [
        "Βήμα 1: Χωρίζουμε τα data kai ta labels σε training (70%) και σε testing set (30%)"
      ]
    },
    {
      "cell_type": "code",
      "metadata": {
        "id": "ovXjOIweNa-a",
        "colab": {
          "base_uri": "https://localhost:8080/"
        },
        "outputId": "ff224077-8b9f-4566-efeb-c8afbfbb9d8c"
      },
      "source": [
        "from sklearn.model_selection import train_test_split\n",
        "# hold out testing set\n",
        "X_train, X_test, y_train, y_test = train_test_split(X, y, test_size=0.3, random_state=0)\n",
        "\n",
        "X_train.shape, X_test.shape"
      ],
      "execution_count": null,
      "outputs": [
        {
          "output_type": "execute_result",
          "data": {
            "text/plain": [
              "((537, 8), (231, 8))"
            ]
          },
          "metadata": {
            "tags": []
          },
          "execution_count": 2
        }
      ]
    },
    {
      "cell_type": "markdown",
      "metadata": {
        "id": "FdeZ8SxzP30z"
      },
      "source": [
        "Βήμα 1: Έπειτα θα  χωρίζουμε το training set σε 70% και σε 30% όπου το 30% θα το χρησιμοποιήσουμε για validation"
      ]
    },
    {
      "cell_type": "code",
      "metadata": {
        "id": "kUVpllGwQABB",
        "colab": {
          "base_uri": "https://localhost:8080/"
        },
        "outputId": "c537620b-1d23-4212-f180-04c4e5e2c542"
      },
      "source": [
        "# hold out validation set\n",
        "X_train, X_val, y_train, y_val = train_test_split(X_train, y_train, test_size=0.3, random_state=0)\n",
        "\n",
        "X_train.shape, X_val.shape"
      ],
      "execution_count": null,
      "outputs": [
        {
          "output_type": "execute_result",
          "data": {
            "text/plain": [
              "((375, 8), (162, 8))"
            ]
          },
          "metadata": {
            "tags": []
          },
          "execution_count": 3
        }
      ]
    },
    {
      "cell_type": "markdown",
      "metadata": {
        "id": "TbM3wVwDS8O_"
      },
      "source": [
        "Βήμα 2:  Για διαφορετικές υπερπαραμέτρους (n_neighbors = 1, 15, 50) θα εκπαιδεύσουμε έναν k-nearest neighbors classifier, χρησιμοποιώντας το training set με το validation set και θα τυπώσουμε τα αποτελέσματα"
      ]
    },
    {
      "cell_type": "code",
      "metadata": {
        "id": "BXtAmp9GS8gG",
        "colab": {
          "base_uri": "https://localhost:8080/"
        },
        "outputId": "d7bc6059-d103-494d-95c3-e8dab1ff9a04"
      },
      "source": [
        "from sklearn.pipeline import Pipeline\n",
        "from sklearn.neighbors import KNeighborsClassifier\n",
        "from sklearn.metrics import accuracy_score\n",
        "from sklearn.preprocessing import StandardScaler\n",
        "\n",
        "best_k, best_score = -1, -1\n",
        "clfs = {}\n",
        "\n",
        "# hyperparameter tuning\n",
        "for k in [1, 15, 50]: \n",
        "    pipe = Pipeline([['sc', StandardScaler()], ['clf', KNeighborsClassifier(n_neighbors=k)]])\n",
        "    pipe.fit(X_train, y_train)\n",
        "    y_pred = pipe.predict(X_val)\n",
        "    score = accuracy_score(y_val, y_pred)\n",
        "    print('[{}-NN]\\nValidation accuracy: {}'.format(k, score))\n",
        "    if score > best_score:\n",
        "        best_k, best_score = k, score\n",
        "    clfs[k] = pipe\n",
        "    \n",
        "# performance reporting\n",
        "y_pred= clfs[best_k].predict(X_test)\n",
        "print('\\nTest accuracy: %.2f (n_neighbors=%d selected by the holdout method)' % \n",
        "      (accuracy_score(y_test, y_pred), best_k))"
      ],
      "execution_count": null,
      "outputs": [
        {
          "output_type": "stream",
          "text": [
            "[1-NN]\n",
            "Validation accuracy: 0.7407407407407407\n",
            "[15-NN]\n",
            "Validation accuracy: 0.7654320987654321\n",
            "[50-NN]\n",
            "Validation accuracy: 0.7469135802469136\n",
            "\n",
            "Test accuracy: 0.75 (n_neighbors=15 selected by the holdout method)\n"
          ],
          "name": "stdout"
        }
      ]
    },
    {
      "cell_type": "markdown",
      "metadata": {
        "id": "M-Fv18-RU2BN"
      },
      "source": [
        "Βήμα 3: Θα επιλέξουμε το καλύτερο αποτέλεσμα και θα το εφαρμόσουμε στα δεδομένα ελέγχου (test set)"
      ]
    },
    {
      "cell_type": "code",
      "metadata": {
        "id": "jHScH2rzU2Xr",
        "colab": {
          "base_uri": "https://localhost:8080/"
        },
        "outputId": "85574cf1-a11f-4a66-f560-704a6092447c"
      },
      "source": [
        "# performance reporting\n",
        "y_pred= clfs[best_k].predict(X_test)\n",
        "\n",
        "print('Test accuracy: %.2f (n_neighbors=15 selected manually)' % \n",
        "      accuracy_score(y_test, y_pred))   "
      ],
      "execution_count": null,
      "outputs": [
        {
          "output_type": "stream",
          "text": [
            "Test accuracy: 0.75 (n_neighbors=15 selected manually)\n"
          ],
          "name": "stdout"
        }
      ]
    },
    {
      "cell_type": "markdown",
      "metadata": {
        "id": "NczHLVbSX6gx"
      },
      "source": [
        "Ένα σημαντικό μειονέκτημα της  holdout μεθόδου είναι ότι οι επιδόσεις της είναι ευαίσθητες στους τυχαίους διαχωρισμούς και σε μη βέλτιστες υπερπαραμέτρους. Αν θέσουμε n_neighbors = 15 χειροκίνητα τότε ίσως να παρατηρήσουμε ότι οδηγούμαστε σε καλύτερα αποτελέσματα."
      ]
    },
    {
      "cell_type": "code",
      "metadata": {
        "id": "p7Nq5-FzX605",
        "colab": {
          "base_uri": "https://localhost:8080/"
        },
        "outputId": "2431e562-db4b-416d-86cb-68055908bbdf"
      },
      "source": [
        "k=15\n",
        "y_pred= clfs[k].predict(X_test)\n",
        "print('Test accuracy: %.2f (n_neighbors=15 selected manually)' % \n",
        "      (accuracy_score(y_test, y_pred)))"
      ],
      "execution_count": null,
      "outputs": [
        {
          "output_type": "stream",
          "text": [
            "Test accuracy: 0.75 (n_neighbors=15 selected manually)\n"
          ],
          "name": "stdout"
        }
      ]
    },
    {
      "cell_type": "markdown",
      "metadata": {
        "id": "8oxAsKweXPz2"
      },
      "source": [
        "##K-fold Cross Validation\n",
        "\n",
        "![alt text](https://www.kdnuggets.com/wp-content/uploads/dataiku-kfold-strategy.jpg)\n"
      ]
    },
    {
      "cell_type": "markdown",
      "metadata": {
        "id": "SZaSivuIek4b"
      },
      "source": [
        "Βήμα 1: Χωρίζουμε τα data kai ta labels σε training (70%) και σε testing set (30%) "
      ]
    },
    {
      "cell_type": "code",
      "metadata": {
        "id": "VD05qdIiXX37",
        "colab": {
          "base_uri": "https://localhost:8080/"
        },
        "outputId": "26aa669a-a6fc-4f94-8036-0edcd1f120d5"
      },
      "source": [
        "# hold out testing set\n",
        "X_train, X_test, y_train, y_test = train_test_split(X, y, test_size=0.3, random_state=0)\n",
        "\n",
        "X_train.shape, X_test.shape"
      ],
      "execution_count": null,
      "outputs": [
        {
          "output_type": "execute_result",
          "data": {
            "text/plain": [
              "((537, 8), (231, 8))"
            ]
          },
          "metadata": {
            "tags": []
          },
          "execution_count": 7
        }
      ]
    },
    {
      "cell_type": "markdown",
      "metadata": {
        "id": "b1a6KXS4htJP"
      },
      "source": [
        "Για διαφορετικές υπερπαραμέτρους (n_neighbors = 1, 15, 50) θα εκπαιδεύσουμε έναν k-nearest neighbors classifier, χρησιμοποιώντας το training set μαζί με το k fold cross validation."
      ]
    },
    {
      "cell_type": "markdown",
      "metadata": {
        "id": "4bixA7F-htdg"
      },
      "source": [
        "Βήμα 2: "
      ]
    },
    {
      "cell_type": "code",
      "metadata": {
        "id": "8JvzVDqhhtmA",
        "colab": {
          "base_uri": "https://localhost:8080/"
        },
        "outputId": "149b99ed-8086-4d13-d361-c39d4688cd99"
      },
      "source": [
        "from sklearn.pipeline import Pipeline\n",
        "from sklearn.neighbors import KNeighborsClassifier\n",
        "from sklearn.metrics import accuracy_score\n",
        "from sklearn.model_selection import cross_val_score\n",
        "\n",
        "best_k, best_score = -1, -1\n",
        "clfs = {}\n",
        "\n",
        "for k in [1, 15, 50]: # experiment different hyperparameter\n",
        "    pipe = Pipeline([['sc', StandardScaler()], ['clf', KNeighborsClassifier(n_neighbors=k)]])\n",
        "    pipe.fit(X_train, y_train)\n",
        "    # K-Fold CV\n",
        "    scores = cross_val_score(pipe, X_train, y_train, cv=10)\n",
        "    print('[%d-NN]\\nValidation accuracy: %.3f %s' % (k, scores.mean(), scores))\n",
        "    if scores.mean() > best_score:\n",
        "        best_k, best_score = k, scores.mean()\n",
        "    clfs[k] = pipe"
      ],
      "execution_count": null,
      "outputs": [
        {
          "output_type": "stream",
          "text": [
            "[1-NN]\n",
            "Validation accuracy: 0.678 [0.62962963 0.72222222 0.68518519 0.7962963  0.64814815 0.66666667\n",
            " 0.51851852 0.77358491 0.66037736 0.67924528]\n",
            "[15-NN]\n",
            "Validation accuracy: 0.734 [0.72222222 0.72222222 0.75925926 0.72222222 0.81481481 0.74074074\n",
            " 0.64814815 0.64150943 0.75471698 0.81132075]\n",
            "[50-NN]\n",
            "Validation accuracy: 0.743 [0.7037037  0.75925926 0.77777778 0.72222222 0.83333333 0.77777778\n",
            " 0.64814815 0.66037736 0.75471698 0.79245283]\n"
          ],
          "name": "stdout"
        }
      ]
    },
    {
      "cell_type": "markdown",
      "metadata": {
        "id": "aH2RXIs0ixhf"
      },
      "source": [
        "Βήμα 3: To 10-fold Cross Validation  επίλεξε τον καλύτερο ταξινομητή (n_neighbors = 50 ), όπως αναμέναμε.\n",
        "Μόλις επιλέξουμε τις σωστές τιμές υπερπαραμέτρων, επανεκπαιδεύουμε το μοντέλο στο πλήρες training set και λάβουμε μια τελική εκτίμηση απόδοσης για το test set."
      ]
    },
    {
      "cell_type": "code",
      "metadata": {
        "id": "bzsxctlakFS5",
        "colab": {
          "base_uri": "https://localhost:8080/"
        },
        "outputId": "3e8e0da7-9a25-428e-b631-54610f06575a"
      },
      "source": [
        "best_clf = clfs[best_k]\n",
        "best_clf.fit(X_train, y_train)\n",
        "\n",
        "# performance reporting\n",
        "y_pred = best_clf.predict(X_test)\n",
        "print('Test accuracy: %.2f (n_neighbors=%d selected by 10-fold CV)' % \n",
        "      (accuracy_score(y_test, y_pred), best_k))"
      ],
      "execution_count": null,
      "outputs": [
        {
          "output_type": "stream",
          "text": [
            "Test accuracy: 0.77 (n_neighbors=50 selected by 10-fold CV)\n"
          ],
          "name": "stdout"
        }
      ]
    },
    {
      "cell_type": "markdown",
      "metadata": {
        "id": "sOVeZzsTkh72"
      },
      "source": [
        "Συνήθως, ορίζουμε K = 10 στις περισσότερες εφαρμογές και  K = 5 για μεγαλύτερα σύνολα δεδομένων.  Όταν έχουμε πολύ μικρά σύνολα δεδομένων ορίσουμε  K = N, που αντιστοιχεί στο **leave-one-out cross validation**."
      ]
    },
    {
      "cell_type": "markdown",
      "metadata": {
        "id": "Xe9cr7vJMGU5"
      },
      "source": [
        "## Μετρικές για classification"
      ]
    },
    {
      "cell_type": "markdown",
      "metadata": {
        "id": "3GgVEtW5spV4"
      },
      "source": [
        "### Ακρίβεια\n",
        "\n",
        "$\\texttt{accuracy}(y, \\hat{y}) = \\frac{1}{n_\\text{samples}} \\sum_{i=0}^{n_\\text{samples}-1} 1(\\hat{y}_i = y_i)$\n"
      ]
    },
    {
      "cell_type": "code",
      "metadata": {
        "id": "DLGb8-FwsfMP",
        "colab": {
          "base_uri": "https://localhost:8080/"
        },
        "outputId": "703229d3-cdf3-43c8-abca-69447ebe6935"
      },
      "source": [
        "from sklearn.metrics import accuracy_score\n",
        "y_true = [0, 1, 2, 0, 1, 1]\n",
        "y_pred = [0, 2, 1, 0, 0, 1]\n",
        "accuracy_score(y_true, y_pred), accuracy_score(y_true, y_pred, normalize=False)"
      ],
      "execution_count": null,
      "outputs": [
        {
          "output_type": "execute_result",
          "data": {
            "text/plain": [
              "(0.5, 3)"
            ]
          },
          "metadata": {
            "tags": []
          },
          "execution_count": 10
        }
      ]
    },
    {
      "cell_type": "markdown",
      "metadata": {
        "id": "Z3cxBsTS1aXB"
      },
      "source": [
        "Για δυαδικά προβλήματα, μπορούμε να τυπώσουμε  τα εξής: **true negatives, false positives, false negatives** και **true positives**. "
      ]
    },
    {
      "cell_type": "code",
      "metadata": {
        "id": "0HzFnaz21YeA",
        "colab": {
          "base_uri": "https://localhost:8080/"
        },
        "outputId": "751e3d02-a153-413c-825a-af10ba4e834a"
      },
      "source": [
        "from sklearn.metrics import confusion_matrix\n",
        "y_true = [0, 0, 0, 1, 1, 1, 1, 1]\n",
        "y_pred = [0, 1, 0, 1, 0, 1, 0, 1]\n",
        "\n",
        "tn, fp, fn, tp = confusion_matrix(y_true, y_pred).ravel()\n",
        "tn, fp, fn, tp"
      ],
      "execution_count": null,
      "outputs": [
        {
          "output_type": "execute_result",
          "data": {
            "text/plain": [
              "(2, 1, 2, 3)"
            ]
          },
          "metadata": {
            "tags": []
          },
          "execution_count": 11
        }
      ]
    },
    {
      "cell_type": "markdown",
      "metadata": {
        "id": "UUe7ASKP39MJ"
      },
      "source": [
        "### Jaccard Index"
      ]
    },
    {
      "cell_type": "code",
      "metadata": {
        "id": "H1Q2Cfgc39YY",
        "colab": {
          "base_uri": "https://localhost:8080/"
        },
        "outputId": "55c4a4a5-7f02-408b-a5e0-d89794c1c7c2"
      },
      "source": [
        "from sklearn.metrics import jaccard_similarity_score\n",
        "\n",
        "y_pred = [0, 2, 1, 3]\n",
        "y_true = [0, 1, 2, 3]\n",
        "\n",
        "jaccard_similarity_score(y_true, y_pred),jaccard_similarity_score(y_true, y_pred, normalize=False)\n",
        "\n",
        "# return the average of Jaccard similarity coefficient\n",
        "# J(y_pred,y_true) = |y_pred ∩ y_true| / |y_pred ∪ y_true| = |{0,3}| / |{0,1,2,3}| = 2/4 = 0.5\n",
        "\n",
        "#If normalize=False, return the sum of the Jaccard similarity coefficient over the sample set."
      ],
      "execution_count": null,
      "outputs": [
        {
          "output_type": "stream",
          "text": [
            "/usr/local/lib/python3.6/dist-packages/sklearn/metrics/_classification.py:664: FutureWarning: jaccard_similarity_score has been deprecated and replaced with jaccard_score. It will be removed in version 0.23. This implementation has surprising behavior for binary and multiclass classification tasks.\n",
            "  FutureWarning)\n"
          ],
          "name": "stderr"
        },
        {
          "output_type": "execute_result",
          "data": {
            "text/plain": [
              "(0.5, 2)"
            ]
          },
          "metadata": {
            "tags": []
          },
          "execution_count": 1
        }
      ]
    },
    {
      "cell_type": "markdown",
      "metadata": {
        "id": "aXDEinNU03XU"
      },
      "source": [
        "Υπολογισμός του **Confusion Matrix**"
      ]
    },
    {
      "cell_type": "code",
      "metadata": {
        "id": "XIQPikex03Ms",
        "colab": {
          "base_uri": "https://localhost:8080/"
        },
        "outputId": "50be043e-bb0d-4b9f-8e98-c20bb6cfab99"
      },
      "source": [
        "from sklearn.metrics import confusion_matrix\n",
        "y_true = [0, 1, 2, 0, 1, 1]\n",
        "y_pred = [0, 2, 1, 0, 0, 1]\n",
        "\n",
        "confusion_matrix(y_true, y_pred)"
      ],
      "execution_count": null,
      "outputs": [
        {
          "output_type": "execute_result",
          "data": {
            "text/plain": [
              "array([[2, 0, 0],\n",
              "       [1, 1, 1],\n",
              "       [0, 1, 0]])"
            ]
          },
          "metadata": {
            "tags": []
          },
          "execution_count": 13
        }
      ]
    },
    {
      "cell_type": "markdown",
      "metadata": {
        "id": "nLtcsc2ltZAR"
      },
      "source": [
        "###  Classification report\n",
        "\n",
        "Απεικονίζει σε πίνακα το **precision**, το **recall** και το **f1-score** για κάθε κλάση του dataset.\n",
        "Μπορούμε να δούμε και την κάθε μετρική χωριστά."
      ]
    },
    {
      "cell_type": "code",
      "metadata": {
        "id": "DPX15q4ctXxh",
        "colab": {
          "base_uri": "https://localhost:8080/"
        },
        "outputId": "c2435a79-8607-45c4-c4bd-75dfa0ffc5d8"
      },
      "source": [
        "from sklearn.metrics import classification_report\n",
        "y_true = [0, 1, 2, 2, 2]\n",
        "y_pred = [0, 0, 2, 2, 1]\n",
        "target_names = ['class 0', 'class 1', 'class 2']\n",
        "print(classification_report(y_true, y_pred, target_names=target_names))"
      ],
      "execution_count": null,
      "outputs": [
        {
          "output_type": "stream",
          "text": [
            "              precision    recall  f1-score   support\n",
            "\n",
            "     class 0       0.50      1.00      0.67         1\n",
            "     class 1       0.00      0.00      0.00         1\n",
            "     class 2       1.00      0.67      0.80         3\n",
            "\n",
            "    accuracy                           0.60         5\n",
            "   macro avg       0.50      0.56      0.49         5\n",
            "weighted avg       0.70      0.60      0.61         5\n",
            "\n"
          ],
          "name": "stdout"
        }
      ]
    },
    {
      "cell_type": "markdown",
      "metadata": {
        "id": "FVszDVidBM2t"
      },
      "source": [
        "### Καμπύλη AUC (Area Under The Curve) ROC (Receiver Operating Characteristics)\n"
      ]
    },
    {
      "cell_type": "code",
      "metadata": {
        "id": "2sJK4BQgBNZD",
        "colab": {
          "base_uri": "https://localhost:8080/"
        },
        "outputId": "a285c72f-ee8a-45ce-fa9e-53cdb18c0770"
      },
      "source": [
        "from sklearn.metrics import roc_auc_score\n",
        "\n",
        "y_true = np.array([0, 0, 1, 1])\n",
        "y_scores = np.array([0.1, 0.4, 0.35, 0.8])\n",
        "\n",
        "roc_auc_score(y_true, y_scores)"
      ],
      "execution_count": null,
      "outputs": [
        {
          "output_type": "execute_result",
          "data": {
            "text/plain": [
              "0.75"
            ]
          },
          "metadata": {
            "tags": []
          },
          "execution_count": 15
        }
      ]
    },
    {
      "cell_type": "markdown",
      "metadata": {
        "id": "mK1HBsjpH_6q"
      },
      "source": [
        "## Μετρικές για Regression"
      ]
    },
    {
      "cell_type": "markdown",
      "metadata": {
        "id": "mQaSZ--TII4v"
      },
      "source": [
        "$\\text{MAE}(y, \\hat{y}) = \\frac{1}{n_{\\text{samples}}} \\sum_{i=0}^{n_{\\text{samples}}-1} \\left| y_i - \\hat{y}_i \\right|$"
      ]
    },
    {
      "cell_type": "code",
      "metadata": {
        "id": "r2SgSmW2IKv_",
        "colab": {
          "base_uri": "https://localhost:8080/"
        },
        "outputId": "6a2deeda-341f-4aec-a792-7e39236bc17b"
      },
      "source": [
        "# return loss : float or ndarray of floats => A non-negative floating point value (the best value is 0.0), or an array of floating point values, one for each individual target.\n",
        "\n",
        "\n",
        "from sklearn.metrics import mean_absolute_error\n",
        "\n",
        "y_true = [3, -0.5, 2, 7]\n",
        "y_pred = [2.5, 0.0, 2, 8]\n",
        "\n",
        "mean_absolute_error(y_true, y_pred)\n",
        "\n"
      ],
      "execution_count": null,
      "outputs": [
        {
          "output_type": "execute_result",
          "data": {
            "text/plain": [
              "0.5"
            ]
          },
          "metadata": {
            "tags": []
          },
          "execution_count": 16
        }
      ]
    },
    {
      "cell_type": "code",
      "metadata": {
        "id": "p3Ua664-Iv0L",
        "colab": {
          "base_uri": "https://localhost:8080/"
        },
        "outputId": "da03b944-e95d-47a0-fa43-ae5821b35e6b"
      },
      "source": [
        "y_true = [[0, 2], [-1, 1], [7, -6]]\n",
        "y_pred = [[0, 1], [-1, 1], [8, -5]]\n",
        "\n",
        "\n",
        "mean_absolute_error(y_true, y_pred)\n",
        "\n",
        "\n",
        "# multioutputs: Defines aggregating of multiple output values. Array-like value defines weights used to average errors.\n",
        "\n",
        "#‘raw_values’ :Returns a full set of errors in case of multioutput input.\n",
        "# ‘uniform_average’ : Errors of all outputs are averaged with uniform weight.\n",
        "\n",
        "\n",
        "mean_absolute_error(y_true, y_pred, multioutput='raw_values')\n",
        "\n",
        "#mean_absolute_error(y_true, y_pred, multioutput=[0.3, 0.7])"
      ],
      "execution_count": null,
      "outputs": [
        {
          "output_type": "execute_result",
          "data": {
            "text/plain": [
              "array([0.33333333, 0.66666667])"
            ]
          },
          "metadata": {
            "tags": []
          },
          "execution_count": 17
        }
      ]
    },
    {
      "cell_type": "markdown",
      "metadata": {
        "id": "ZQGGAy3DOlcJ"
      },
      "source": [
        "$\\text{MSE}(y, \\hat{y}) = \\frac{1}{n_\\text{samples}} \\sum_{i=0}^{n_\\text{samples} - 1} (y_i - \\hat{y}_i)^2$"
      ]
    },
    {
      "cell_type": "code",
      "metadata": {
        "id": "MPwZIEZaOlmQ",
        "colab": {
          "base_uri": "https://localhost:8080/"
        },
        "outputId": "31508d55-e218-47f9-f21c-d8a610d60ccb"
      },
      "source": [
        "from sklearn.metrics import mean_squared_error\n",
        "y_true = [3, -0.5, 2, 7]\n",
        "y_pred = [2.5, 0.0, 2, 8]\n",
        "mean_squared_error(y_true, y_pred)\n",
        "\n"
      ],
      "execution_count": null,
      "outputs": [
        {
          "output_type": "execute_result",
          "data": {
            "text/plain": [
              "0.375"
            ]
          },
          "metadata": {
            "tags": []
          },
          "execution_count": 18
        }
      ]
    },
    {
      "cell_type": "code",
      "metadata": {
        "id": "ZS5-Hdu2Owqa",
        "colab": {
          "base_uri": "https://localhost:8080/"
        },
        "outputId": "30c5bb2c-d210-4bd7-dd41-e76a58862d7d"
      },
      "source": [
        "y_true = [[0.5, 1],[-1, 1],[7, -6]]\n",
        "y_pred = [[0, 2],[-1, 2],[8, -5]]\n",
        "mean_squared_error(y_true, y_pred)  \n",
        "\n",
        "mean_squared_error(y_true, y_pred, multioutput='raw_values')\n",
        "\n",
        "\n",
        "#mean_squared_error(y_true, y_pred, multioutput=[0.3, 0.7])"
      ],
      "execution_count": null,
      "outputs": [
        {
          "output_type": "execute_result",
          "data": {
            "text/plain": [
              "array([0.41666667, 1.        ])"
            ]
          },
          "metadata": {
            "tags": []
          },
          "execution_count": 19
        }
      ]
    },
    {
      "cell_type": "markdown",
      "metadata": {
        "id": "Ll3d4IRNPUAB"
      },
      "source": [
        "$R^2(y, \\hat{y}) = 1 - \\frac{\\sum_{i=0}^{n_{\\text{samples}} - 1} (y_i - \\hat{y}_i)^2}{\\sum_{i=0}^{n_\\text{samples} - 1} (y_i - \\bar{y})^2}$"
      ]
    },
    {
      "cell_type": "code",
      "metadata": {
        "id": "1iqS6mdFPd_7",
        "colab": {
          "base_uri": "https://localhost:8080/"
        },
        "outputId": "98fa8caa-40bf-4baf-9dd2-3ba00a128198"
      },
      "source": [
        "from sklearn.metrics import r2_score\n",
        "y_true = [3, -0.5, 2, 7]\n",
        "y_pred = [2.5, 0.0, 2, 8]\n",
        "r2_score(y_true, y_pred)  \n",
        "\n",
        "y_true = [[0.5, 1], [-1, 1], [7, -6]]\n",
        "y_pred = [[0, 2], [-1, 2], [8, -5]]\n",
        "r2_score(y_true, y_pred, multioutput='variance_weighted')\n",
        "\n",
        "\n",
        "y_true = [[0.5, 1], [-1, 1], [7, -6]]\n",
        "y_pred = [[0, 2], [-1, 2], [8, -5]]\n",
        "r2_score(y_true, y_pred, multioutput='uniform_average')\n",
        "\n",
        "\n",
        "r2_score(y_true, y_pred, multioutput='raw_values')\n",
        "\n",
        "\n",
        "r2_score(y_true, y_pred, multioutput=[0.3, 0.7])"
      ],
      "execution_count": null,
      "outputs": [
        {
          "output_type": "execute_result",
          "data": {
            "text/plain": [
              "0.9253456221198156"
            ]
          },
          "metadata": {
            "tags": []
          },
          "execution_count": 20
        }
      ]
    }
  ]
}