{
  "nbformat": 4,
  "nbformat_minor": 0,
  "metadata": {
    "colab": {
      "name": "Untitled17.ipynb",
      "provenance": [],
      "authorship_tag": "ABX9TyPELXCCJ11UasJro8r+VhEY",
      "include_colab_link": true
    },
    "kernelspec": {
      "name": "ir",
      "display_name": "R"
    },
    "language_info": {
      "name": "R"
    }
  },
  "cells": [
    {
      "cell_type": "markdown",
      "metadata": {
        "id": "view-in-github",
        "colab_type": "text"
      },
      "source": [
        "<a href=\"https://colab.research.google.com/github/kdemertzis/LNexamples/blob/main/R_Clustering.ipynb\" target=\"_parent\"><img src=\"https://colab.research.google.com/assets/colab-badge.svg\" alt=\"Open In Colab\"/></a>"
      ]
    },
    {
      "cell_type": "code",
      "metadata": {
        "colab": {
          "base_uri": "https://localhost:8080/"
        },
        "id": "VVVwtCKXsay6",
        "outputId": "e92176bb-2700-44bc-8f69-7edc18e97357"
      },
      "source": [
        "install.packages(c(\"tidyverse\"), dependencies = TRUE)\n",
        "install.packages(c(\"magrittr\"), dependencies = TRUE)\n",
        "install.packages(c(\"cluster\"), dependencies = TRUE)\n",
        "install.packages(c(\"cluster.datasets\"), dependencies = TRUE)\n",
        "install.packages(c(\"cowplot\"), dependencies = TRUE)\n",
        "install.packages(c(\"NbClust\"), dependencies = TRUE)\n",
        "install.packages(c(\"clValid\"), dependencies = TRUE)\n",
        "install.packages(c(\"ggfortify\"), dependencies = TRUE)\n",
        "install.packages(c(\"clustree\"), dependencies = TRUE)\n",
        "install.packages(c(\"dendextend\"), dependencies = TRUE)\n",
        "install.packages(c(\"car\"), dependencies = TRUE)\n",
        "install.packages(c(\"factoextra\"), dependencies = TRUE)\n",
        "install.packages(c(\"FactoMineR\"), dependencies = TRUE)\n",
        "install.packages(c(\"corrplot\"), dependencies = TRUE)\n",
        "install.packages(c(\"GGally\"), dependencies = TRUE)\n",
        "install.packages(c(\"ggiraphExtra\"), dependencies = TRUE)\n",
        "install.packages(c(\"knitr\"), dependencies = TRUE)\n",
        "install.packages(c(\"kableExtra\"), dependencies = TRUE)"
      ],
      "execution_count": 14,
      "outputs": [
        {
          "output_type": "stream",
          "text": [
            "Installing package into ‘/usr/local/lib/R/site-library’\n",
            "(as ‘lib’ is unspecified)\n",
            "\n",
            "also installing the dependencies ‘covr’, ‘feather’\n",
            "\n",
            "\n",
            "Installing package into ‘/usr/local/lib/R/site-library’\n",
            "(as ‘lib’ is unspecified)\n",
            "\n",
            "Installing package into ‘/usr/local/lib/R/site-library’\n",
            "(as ‘lib’ is unspecified)\n",
            "\n",
            "Installing package into ‘/usr/local/lib/R/site-library’\n",
            "(as ‘lib’ is unspecified)\n",
            "\n",
            "Installing package into ‘/usr/local/lib/R/site-library’\n",
            "(as ‘lib’ is unspecified)\n",
            "\n",
            "also installing the dependencies ‘formatR’, ‘proxy’, ‘lambda.r’, ‘futile.options’, ‘e1071’, ‘textshaping’, ‘futile.logger’, ‘Cairo’, ‘gridGraphics’, ‘magick’, ‘PASWR’, ‘patchwork’, ‘ragg’, ‘vdiffr’, ‘VennDiagram’\n",
            "\n",
            "\n",
            "Warning message in install.packages(c(\"cowplot\"), dependencies = TRUE):\n",
            "“installation of package ‘textshaping’ had non-zero exit status”\n",
            "Warning message in install.packages(c(\"cowplot\"), dependencies = TRUE):\n",
            "“installation of package ‘Cairo’ had non-zero exit status”\n",
            "Warning message in install.packages(c(\"cowplot\"), dependencies = TRUE):\n",
            "“installation of package ‘magick’ had non-zero exit status”\n",
            "Warning message in install.packages(c(\"cowplot\"), dependencies = TRUE):\n",
            "“installation of package ‘ragg’ had non-zero exit status”\n",
            "Installing package into ‘/usr/local/lib/R/site-library’\n",
            "(as ‘lib’ is unspecified)\n",
            "\n",
            "Installing package into ‘/usr/local/lib/R/site-library’\n",
            "(as ‘lib’ is unspecified)\n",
            "\n",
            "Warning message:\n",
            "“dependencies ‘Biobase’, ‘annotate’, ‘GO.db’, ‘moe430a.db’ are not available”\n",
            "also installing the dependencies ‘RankAggreg’, ‘kohonen’\n",
            "\n",
            "\n",
            "Installing package into ‘/usr/local/lib/R/site-library’\n",
            "(as ‘lib’ is unspecified)\n",
            "\n",
            "Installing package into ‘/usr/local/lib/R/site-library’\n",
            "(as ‘lib’ is unspecified)\n",
            "\n",
            "Warning message:\n",
            "“dependencies ‘SingleCellExperiment’, ‘SummarizedExperiment’ are not available”\n",
            "also installing the dependencies ‘sass’, ‘jquerylib’, ‘sitmo’, ‘tweenr’, ‘polyclip’, ‘globals’, ‘listenv’, ‘parallelly’, ‘httpuv’, ‘xtable’, ‘sourcetools’, ‘bslib’, ‘spatstat.data’, ‘spatstat.utils’, ‘spatstat.sparse’, ‘tensor’, ‘goftest’, ‘deldir’, ‘FNN’, ‘dqrng’, ‘textshaping’, ‘ggforce’, ‘graphlayouts’, ‘fitdistrplus’, ‘future’, ‘future.apply’, ‘ggridges’, ‘ica’, ‘irlba’, ‘leiden’, ‘miniUI’, ‘pbapply’, ‘plotly’, ‘png’, ‘RANN’, ‘RcppAnnoy’, ‘reticulate’, ‘Rtsne’, ‘scattermore’, ‘sctransform’, ‘SeuratObject’, ‘shiny’, ‘spatstat.core’, ‘spatstat.geom’, ‘uwot’, ‘RcppProgress’, ‘downlit’, ‘ragg’, ‘hunspell’, ‘ggraph’, ‘checkmate’, ‘tidygraph’, ‘Seurat’, ‘pkgdown’, ‘spelling’\n",
            "\n",
            "\n",
            "Warning message in install.packages(c(\"clustree\"), dependencies = TRUE):\n",
            "“installation of package ‘textshaping’ had non-zero exit status”\n",
            "Warning message in install.packages(c(\"clustree\"), dependencies = TRUE):\n",
            "“installation of package ‘ragg’ had non-zero exit status”\n",
            "Warning message in install.packages(c(\"clustree\"), dependencies = TRUE):\n",
            "“installation of package ‘pkgdown’ had non-zero exit status”\n",
            "Installing package into ‘/usr/local/lib/R/site-library’\n",
            "(as ‘lib’ is unspecified)\n",
            "\n",
            "also installing the dependencies ‘modeltools’, ‘DEoptimR’, ‘TSP’, ‘qap’, ‘gclus’, ‘registry’, ‘egg’, ‘flexmix’, ‘prabclus’, ‘diptest’, ‘robustbase’, ‘kernlab’, ‘GlobalOptions’, ‘seriation’, ‘ape’, ‘microbenchmark’, ‘heatmaply’, ‘dynamicTreeCut’, ‘pvclust’, ‘DendSer’, ‘fpc’, ‘circlize’\n",
            "\n",
            "\n",
            "Installing package into ‘/usr/local/lib/R/site-library’\n",
            "(as ‘lib’ is unspecified)\n",
            "\n",
            "also installing the dependencies ‘bdsmatrix’, ‘estimability’, ‘mitools’, ‘alr4’, ‘coxme’, ‘effects’, ‘rgl’, ‘survey’\n",
            "\n",
            "\n",
            "Installing package into ‘/usr/local/lib/R/site-library’\n",
            "(as ‘lib’ is unspecified)\n",
            "\n",
            "Installing package into ‘/usr/local/lib/R/site-library’\n",
            "(as ‘lib’ is unspecified)\n",
            "\n",
            "also installing the dependencies ‘pcaPP’, ‘rrcov’, ‘shinyjs’, ‘mice’, ‘mvtnorm’, ‘doParallel’, ‘FactoInvestigate’, ‘colourpicker’, ‘shinydashboard’, ‘shinyjqui’, ‘missMDA’, ‘Factoshiny’\n",
            "\n",
            "\n",
            "Installing package into ‘/usr/local/lib/R/site-library’\n",
            "(as ‘lib’ is unspecified)\n",
            "\n",
            "also installing the dependency ‘prettydoc’\n",
            "\n",
            "\n",
            "Installing package into ‘/usr/local/lib/R/site-library’\n",
            "(as ‘lib’ is unspecified)\n",
            "\n",
            "also installing the dependencies ‘jpeg’, ‘coda’, ‘som’, ‘lars’, ‘pls’, ‘Formula’, ‘latticeExtra’, ‘htmlTable’, ‘statnet.common’, ‘rJava’, ‘broom.helpers’, ‘chemometrics’, ‘geosphere’, ‘Hmisc’, ‘intergraph’, ‘labelled’, ‘mapproj’, ‘network’, ‘scagnostics’, ‘sna’, ‘emmeans’\n",
            "\n",
            "\n",
            "Installing package into ‘/usr/local/lib/R/site-library’\n",
            "(as ‘lib’ is unspecified)\n",
            "\n",
            "also installing the dependencies ‘gdtools’, ‘flextable’, ‘officer’, ‘nortest’, ‘TH.data’, ‘ztable’, ‘moonBook’, ‘gcookbook’\n",
            "\n",
            "\n",
            "Warning message in install.packages(c(\"ggiraphExtra\"), dependencies = TRUE):\n",
            "“installation of package ‘gdtools’ had non-zero exit status”\n",
            "Warning message in install.packages(c(\"ggiraphExtra\"), dependencies = TRUE):\n",
            "“installation of package ‘flextable’ had non-zero exit status”\n",
            "Warning message in install.packages(c(\"ggiraphExtra\"), dependencies = TRUE):\n",
            "“installation of package ‘ztable’ had non-zero exit status”\n",
            "Warning message in install.packages(c(\"ggiraphExtra\"), dependencies = TRUE):\n",
            "“installation of package ‘moonBook’ had non-zero exit status”\n",
            "Installing package into ‘/usr/local/lib/R/site-library’\n",
            "(as ‘lib’ is unspecified)\n",
            "\n",
            "also installing the dependencies ‘R.methodsS3’, ‘R.oo’, ‘R.utils’, ‘filehash’, ‘sysfonts’, ‘showtextdb’, ‘textshaping’, ‘R.cache’, ‘testit’, ‘tikzDevice’, ‘JuliaCall’, ‘magick’, ‘gifski’, ‘showtext’, ‘ragg’, ‘styler’\n",
            "\n",
            "\n",
            "Warning message in install.packages(c(\"knitr\"), dependencies = TRUE):\n",
            "“installation of package ‘textshaping’ had non-zero exit status”\n",
            "Warning message in install.packages(c(\"knitr\"), dependencies = TRUE):\n",
            "“installation of package ‘magick’ had non-zero exit status”\n",
            "Warning message in install.packages(c(\"knitr\"), dependencies = TRUE):\n",
            "“installation of package ‘gifski’ had non-zero exit status”\n",
            "Warning message in install.packages(c(\"knitr\"), dependencies = TRUE):\n",
            "“installation of package ‘ragg’ had non-zero exit status”\n",
            "Installing package into ‘/usr/local/lib/R/site-library’\n",
            "(as ‘lib’ is unspecified)\n",
            "\n",
            "also installing the dependencies ‘magick’, ‘formattable’, ‘sparkline’\n",
            "\n",
            "\n",
            "Warning message in install.packages(c(\"kableExtra\"), dependencies = TRUE):\n",
            "“installation of package ‘magick’ had non-zero exit status”\n"
          ],
          "name": "stderr"
        }
      ]
    },
    {
      "cell_type": "code",
      "metadata": {
        "colab": {
          "base_uri": "https://localhost:8080/",
          "height": 129
        },
        "id": "cpPpvta62UYJ",
        "outputId": "eea4e665-0b61-4520-d916-956a5ec7ada9"
      },
      "source": [
        "library(tidyverse)\n",
        "library(magrittr)\n",
        "library(cluster)\n",
        "library(cluster.datasets)\n",
        "library(cowplot)\n",
        "library(NbClust)\n",
        "library(clValid)\n",
        "library(ggfortify)\n",
        "library(clustree)\n",
        "library(dendextend)\n",
        "library(factoextra)\n",
        "library(FactoMineR)\n",
        "library(corrplot)\n",
        "library(GGally)\n",
        "library(ggiraphExtra)\n",
        "library(knitr)\n",
        "library(kableExtra)"
      ],
      "execution_count": 3,
      "outputs": [
        {
          "output_type": "error",
          "ename": "ERROR",
          "evalue": "ignored",
          "traceback": [
            "Error in library(cowplot): there is no package called ‘cowplot’\nTraceback:\n",
            "1. library(cowplot)"
          ]
        }
      ]
    },
    {
      "cell_type": "code",
      "metadata": {
        "id": "UC4egppfBHT0"
      },
      "source": [
        "data(\"all.mammals.milk.1956\")\n",
        "raw_mammals <- all.mammals.milk.1956\n",
        "# subset dataset\n",
        "mammals <- raw_mammals %>% select(-name) # set rownames\n",
        "mammals <- as_tibble(mammals)"
      ],
      "execution_count": 6,
      "outputs": []
    },
    {
      "cell_type": "code",
      "metadata": {
        "colab": {
          "base_uri": "https://localhost:8080/"
        },
        "id": "T9fbK4JsBLUu",
        "outputId": "d445e5f8-129b-4b06-8a04-2006ee7a61db"
      },
      "source": [
        "# Glimpse the data set\n",
        "glimpse(mammals)"
      ],
      "execution_count": 7,
      "outputs": [
        {
          "output_type": "stream",
          "text": [
            "Rows: 25\n",
            "Columns: 5\n",
            "$ water   \u001b[3m\u001b[90m<dbl>\u001b[39m\u001b[23m 90.1, 88.5, 88.4, 90.3, 90.4, 87.7, 86.9, 82.1, 81.9, 81.6, 81…\n",
            "$ protein \u001b[3m\u001b[90m<dbl>\u001b[39m\u001b[23m 2.6, 1.4, 2.2, 1.7, 0.6, 3.5, 4.8, 5.9, 7.4, 10.1, 6.6, 3.9, 2…\n",
            "$ fat     \u001b[3m\u001b[90m<dbl>\u001b[39m\u001b[23m 1.0, 3.5, 2.7, 1.4, 4.5, 3.4, 1.7, 7.9, 7.2, 6.3, 5.9, 3.2, 1.…\n",
            "$ lactose \u001b[3m\u001b[90m<dbl>\u001b[39m\u001b[23m 6.9, 6.0, 6.4, 6.2, 4.4, 4.8, 5.7, 4.7, 2.7, 4.4, 4.9, 5.6, 5.…\n",
            "$ ash     \u001b[3m\u001b[90m<dbl>\u001b[39m\u001b[23m 0.35, 0.24, 0.18, 0.40, 0.10, 0.71, 0.90, 0.78, 0.85, 0.75, 0.…\n"
          ],
          "name": "stdout"
        }
      ]
    },
    {
      "cell_type": "code",
      "metadata": {
        "id": "wvAbz4Jzd6wn"
      },
      "source": [
        "colnames(mammals) <- c(\"V1\", \"V2\", \"V3\", \"V4\", \"V5\")"
      ],
      "execution_count": 11,
      "outputs": []
    },
    {
      "cell_type": "code",
      "metadata": {
        "colab": {
          "base_uri": "https://localhost:8080/"
        },
        "id": "hs3AKtBNeSdM",
        "outputId": "2467a1cd-f8d2-4a34-bffb-0e7c747604dd"
      },
      "source": [
        "# Glimpse the data set\n",
        "glimpse(mammals)"
      ],
      "execution_count": 12,
      "outputs": [
        {
          "output_type": "stream",
          "text": [
            "Rows: 25\n",
            "Columns: 5\n",
            "$ V1 \u001b[3m\u001b[90m<dbl>\u001b[39m\u001b[23m 90.1, 88.5, 88.4, 90.3, 90.4, 87.7, 86.9, 82.1, 81.9, 81.6, 81.6, 8…\n",
            "$ V2 \u001b[3m\u001b[90m<dbl>\u001b[39m\u001b[23m 2.6, 1.4, 2.2, 1.7, 0.6, 3.5, 4.8, 5.9, 7.4, 10.1, 6.6, 3.9, 2.0, 7…\n",
            "$ V3 \u001b[3m\u001b[90m<dbl>\u001b[39m\u001b[23m 1.0, 3.5, 2.7, 1.4, 4.5, 3.4, 1.7, 7.9, 7.2, 6.3, 5.9, 3.2, 1.8, 5.…\n",
            "$ V4 \u001b[3m\u001b[90m<dbl>\u001b[39m\u001b[23m 6.9, 6.0, 6.4, 6.2, 4.4, 4.8, 5.7, 4.7, 2.7, 4.4, 4.9, 5.6, 5.5, 3.…\n",
            "$ V5 \u001b[3m\u001b[90m<dbl>\u001b[39m\u001b[23m 0.35, 0.24, 0.18, 0.40, 0.10, 0.71, 0.90, 0.78, 0.85, 0.75, 0.93, 0…\n"
          ],
          "name": "stdout"
        }
      ]
    },
    {
      "cell_type": "code",
      "metadata": {
        "colab": {
          "base_uri": "https://localhost:8080/",
          "height": 255
        },
        "id": "l2UqaBG7Cpzc",
        "outputId": "852ff99d-07dc-42bc-f8d6-f863828dd178"
      },
      "source": [
        "# Summary of data set\n",
        "summary(mammals) "
      ],
      "execution_count": 13,
      "outputs": [
        {
          "output_type": "display_data",
          "data": {
            "text/plain": [
              "       V1              V2               V3              V4       \n",
              " Min.   :44.90   Min.   : 0.600   Min.   : 1.00   Min.   :0.000  \n",
              " 1st Qu.:71.30   1st Qu.: 3.000   1st Qu.: 3.40   1st Qu.:2.700  \n",
              " Median :82.00   Median : 5.900   Median : 6.30   Median :4.700  \n",
              " Mean   :78.18   Mean   : 6.212   Mean   :10.31   Mean   :4.132  \n",
              " 3rd Qu.:87.70   3rd Qu.: 9.700   3rd Qu.:13.10   3rd Qu.:5.600  \n",
              " Max.   :90.40   Max.   :12.300   Max.   :42.00   Max.   :6.900  \n",
              "       V5        \n",
              " Min.   :0.1000  \n",
              " 1st Qu.:0.5300  \n",
              " Median :0.8000  \n",
              " Mean   :0.8292  \n",
              " 3rd Qu.:0.9300  \n",
              " Max.   :2.3000  "
            ]
          },
          "metadata": {
            "tags": []
          }
        }
      ]
    },
    {
      "cell_type": "code",
      "metadata": {
        "colab": {
          "base_uri": "https://localhost:8080/",
          "height": 471
        },
        "id": "DJrOHz0tC1wi",
        "outputId": "0ae1a908-4367-4c2e-96f7-ea071ea9952a"
      },
      "source": [
        "# Historgram for each attribute\n",
        "mammals %>% \n",
        "  gather(Attributes, value, 1:5) %>% \n",
        "  ggplot(aes(x=value)) +\n",
        "  geom_histogram(fill = \"lightblue2\", color = \"black\") + \n",
        "  facet_wrap(~Attributes, scales = \"free_x\") +\n",
        "  labs(x = \"Value\", y = \"Frequency\")"
      ],
      "execution_count": 14,
      "outputs": [
        {
          "output_type": "stream",
          "text": [
            "`stat_bin()` using `bins = 30`. Pick better value with `binwidth`.\n",
            "\n"
          ],
          "name": "stderr"
        },
        {
          "output_type": "display_data",
          "data": {
            "image/png": "[encoded data removed]",
            "text/plain": [
              "plot without title"
            ]
          },
          "metadata": {
            "tags": [],
            "image/png": {
              "width": 420,
              "height": 420
            }
          }
        }
      ]
    },
    {
      "cell_type": "code",
      "metadata": {
        "colab": {
          "base_uri": "https://localhost:8080/",
          "height": 95
        },
        "id": "4R9ko4UmC_jO",
        "outputId": "12615a91-4f3f-457c-92e1-bdb23db4d039"
      },
      "source": [
        "corrplot(cor(mammals), type = \"upper\", method = \"ellipse\", tl.cex = 0.9)"
      ],
      "execution_count": 15,
      "outputs": [
        {
          "output_type": "error",
          "ename": "ERROR",
          "evalue": "ignored",
          "traceback": [
            "Error in corrplot(cor(mammals), type = \"upper\", method = \"ellipse\", tl.cex = 0.9): could not find function \"corrplot\"\nTraceback:\n"
          ]
        }
      ]
    },
    {
      "cell_type": "code",
      "metadata": {
        "id": "YdfCU335DB1w"
      },
      "source": [
        "mammals_scaled <- scale(mammals)\n",
        "rownames(mammals_scaled) <- raw_mammals$name"
      ],
      "execution_count": 16,
      "outputs": []
    },
    {
      "cell_type": "code",
      "metadata": {
        "colab": {
          "base_uri": "https://localhost:8080/",
          "height": 95
        },
        "id": "UkKaPih9DFdI",
        "outputId": "02980eec-92f0-4d15-cd5c-ef970ae981c7"
      },
      "source": [
        "res.pca <- PCA(mammals_scaled,  graph = FALSE)\n",
        "# Visualize eigenvalues/variances\n",
        "fviz_screeplot(res.pca, addlabels = TRUE, ylim = c(0, 50))"
      ],
      "execution_count": 17,
      "outputs": [
        {
          "output_type": "error",
          "ename": "ERROR",
          "evalue": "ignored",
          "traceback": [
            "Error in PCA(mammals_scaled, graph = FALSE): could not find function \"PCA\"\nTraceback:\n"
          ]
        }
      ]
    },
    {
      "cell_type": "code",
      "metadata": {
        "colab": {
          "base_uri": "https://localhost:8080/",
          "height": 95
        },
        "id": "5RPbQcgrDJNp",
        "outputId": "e89f61f0-acd2-47a7-ca06-ce2a5bd3e84c"
      },
      "source": [
        "# Extract the results for variables\n",
        "var <- get_pca_var(res.pca)\n",
        "# Contributions of variables to PC1\n",
        "fviz_contrib(res.pca, choice = \"var\", axes = 1, top = 10)\n",
        "# Contributions of variables to PC2\n",
        "fviz_contrib(res.pca, choice = \"var\", axes = 2, top = 10)\n",
        "# Control variable colors using their contributions to the principle axis\n",
        "fviz_pca_var(res.pca, col.var=\"contrib\",\n",
        "             gradient.cols = c(\"#00AFBB\", \"#E7B800\", \"#FC4E07\"),\n",
        "             repel = TRUE # Avoid text overlapping\n",
        "             ) + theme_minimal() + ggtitle(\"Variables - PCA\")"
      ],
      "execution_count": 18,
      "outputs": [
        {
          "output_type": "error",
          "ename": "ERROR",
          "evalue": "ignored",
          "traceback": [
            "Error in get_pca_var(res.pca): could not find function \"get_pca_var\"\nTraceback:\n"
          ]
        }
      ]
    },
    {
      "cell_type": "code",
      "metadata": {
        "id": "aMmixn7IDOQe"
      },
      "source": [
        "km2 <- kmeans(mammals_scaled, centers = 2, nstart = 30)"
      ],
      "execution_count": 19,
      "outputs": []
    },
    {
      "cell_type": "code",
      "metadata": {
        "id": "dNxlsXtJDSvH"
      },
      "source": [
        "kmean_calc <- function(df, ...){\n",
        "  kmeans(df, scaled = ..., nstart = 30)\n",
        "}\n",
        "km2 <- kmean_calc(mammals_scaled, 2)\n",
        "km3 <- kmean_calc(mammals_scaled, 3)\n",
        "km4 <- kmeans(mammals_scaled, 4)\n",
        "km5 <- kmeans(mammals_scaled, 5)\n",
        "km6 <- kmeans(mammals_scaled, 6)\n",
        "km7 <- kmeans(mammals_scaled, 7)\n",
        "km8 <- kmeans(mammals_scaled, 8)\n",
        "km9 <- kmeans(mammals_scaled, 9)\n",
        "km10 <- kmeans(mammals_scaled, 10)\n",
        "km11 <- kmeans(mammals_scaled, 11)\n",
        "p1 <- fviz_cluster(km2, data = mammals_scaled, frame.type = \"convex\") + theme_minimal() + ggtitle(\"k = 2\") \n",
        "p2 <- fviz_cluster(km3, data = mammals_scaled, frame.type = \"convex\") + theme_minimal() + ggtitle(\"k = 3\")\n",
        "p3 <- fviz_cluster(km4, data = mammals_scaled, frame.type = \"convex\") + theme_minimal() + ggtitle(\"k = 4\")\n",
        "p4 <- fviz_cluster(km5, data = mammals_scaled, frame.type = \"convex\") + theme_minimal() + ggtitle(\"k = 5\")\n",
        "p5 <- fviz_cluster(km6, data = mammals_scaled, frame.type = \"convex\") + theme_minimal() + ggtitle(\"k = 6\")\n",
        "p6 <- fviz_cluster(km7, data = mammals_scaled, frame.type = \"convex\") + theme_minimal() + ggtitle(\"k = 7\")\n",
        "plot_grid(p1, p2, p3, p4, p5, p6, labels = c(\"k2\", \"k3\", \"k4\", \"k5\", \"k6\", \"k7\"))"
      ],
      "execution_count": null,
      "outputs": []
    },
    {
      "cell_type": "code",
      "metadata": {
        "id": "rswM5PToDbLs"
      },
      "source": [
        "set.seed(31)\n",
        "# function to compute total within-cluster sum of squares\n",
        "fviz_nbclust(mammals_scaled, kmeans, method = \"wss\", k.max = 24) + theme_minimal() + ggtitle(\"the Elbow Method\")"
      ],
      "execution_count": null,
      "outputs": []
    },
    {
      "cell_type": "code",
      "metadata": {
        "id": "bKhV6kQUDc-3"
      },
      "source": [
        "gap_stat <- clusGap(mammals_scaled, FUN = kmeans, nstart = 30, K.max = 24, B = 50)\n",
        "fviz_gap_stat(gap_stat) + theme_minimal() + ggtitle(\"fviz_gap_stat: Gap Statistic\")"
      ],
      "execution_count": null,
      "outputs": []
    },
    {
      "cell_type": "code",
      "metadata": {
        "id": "lhtL5CQdDhUA"
      },
      "source": [
        "fviz_nbclust(mammals_scaled, kmeans, method = \"silhouette\", k.max = 24) + theme_minimal() + ggtitle(\"The Silhouette Plot\")"
      ],
      "execution_count": null,
      "outputs": []
    },
    {
      "cell_type": "code",
      "metadata": {
        "id": "rHPYVFWSDuuG"
      },
      "source": [
        "ssc <- data.frame(\n",
        "  kmeans = c(2,3,4,5,6,7,8),\n",
        "  within_ss = c(mean(km2$withinss), mean(km3$withinss), mean(km4$withinss), mean(km5$withinss), mean(km6$withinss), mean(km7$withinss), mean(km8$withinss)),\n",
        "  between_ss = c(km2$betweenss, km3$betweenss, km4$betweenss, km5$betweenss, km6$betweenss, km7$betweenss, km8$betweenss)\n",
        ")\n",
        "ssc %<>% gather(., key = \"measurement\", value = value, -kmeans)\n",
        "#ssc$value <- log10(ssc$value)\n",
        "ssc %>% ggplot(., aes(x=kmeans, y=log10(value), fill = measurement)) + geom_bar(stat = \"identity\", position = \"dodge\") + ggtitle(\"Cluster Model Comparison\") + xlab(\"Number of Clusters\") + ylab(\"Log10 Total Sum of Squares\") + scale_x_discrete(name = \"Number of Clusters\", limits = c(\"0\", \"2\", \"3\", \"4\", \"5\", \"6\", \"7\", \"8\"))"
      ],
      "execution_count": null,
      "outputs": []
    },
    {
      "cell_type": "code",
      "metadata": {
        "id": "hxDyBwy2D0AJ"
      },
      "source": [
        "res.nbclust <- NbClust(mammals_scaled, distance = \"euclidean\",\n",
        "                  min.nc = 2, max.nc = 9, \n",
        "                  method = \"complete\", index =\"all\")\n",
        "factoextra::fviz_nbclust(res.nbclust) + theme_minimal() + ggtitle(\"NbClust's optimal number of clusters\")"
      ],
      "execution_count": null,
      "outputs": []
    },
    {
      "cell_type": "code",
      "metadata": {
        "id": "l8_TiqwKD4od"
      },
      "source": [
        "tmp <- NULL\n",
        "for (k in 1:11){\n",
        "  tmp[k] <- kmeans(mammals_scaled, k, nstart = 30)\n",
        "}\n",
        "df <- data.frame(tmp)\n",
        "# add a prefix to the column names\n",
        "colnames(df) <- seq(1:11)\n",
        "colnames(df) <- paste0(\"k\",colnames(df))\n",
        "# get individual PCA\n",
        "df.pca <- prcomp(df, center = TRUE, scale. = FALSE)\n",
        "ind.coord <- df.pca$x\n",
        "ind.coord <- ind.coord[,1:2]\n",
        "df <- bind_cols(as.data.frame(df), as.data.frame(ind.coord))\n",
        "clustree(df, prefix = \"k\")"
      ],
      "execution_count": null,
      "outputs": []
    },
    {
      "cell_type": "code",
      "metadata": {
        "id": "ahhoD4XWD-Lu"
      },
      "source": [
        "df_subset <- df %>% select(1:8,12:13)\n",
        "clustree_overlay(df_subset, prefix = \"k\", x_value = \"PC1\", y_value = \"PC2\")"
      ],
      "execution_count": null,
      "outputs": []
    },
    {
      "cell_type": "code",
      "metadata": {
        "id": "sM77RJjZECUh"
      },
      "source": [
        "overlay_list <- clustree_overlay(df_subset, prefix = \"k\", x_value = \"PC1\",\n",
        "                                 y_value = \"PC2\", plot_sides = TRUE)\n",
        "overlay_list$x_side\n",
        "overlay_list$y_side"
      ],
      "execution_count": null,
      "outputs": []
    },
    {
      "cell_type": "code",
      "metadata": {
        "id": "cOMeUNvOEMZH"
      },
      "source": [
        "intern <- clValid(mammals_scaled, nClust = 2:24, \n",
        "              clMethods = c(\"hierarchical\",\"kmeans\",\"pam\"), validation = \"internal\")\n",
        "# Summary\n",
        "summary(intern) %>% kable() %>% kable_styling()"
      ],
      "execution_count": null,
      "outputs": []
    },
    {
      "cell_type": "code",
      "metadata": {
        "id": "AgCRgVVQEVrU"
      },
      "source": [
        "# Compute dissimilarity matrix with euclidean distances\n",
        "d <- dist(mammals_scaled, method = \"euclidean\")\n",
        "# Hierarchical clustering using Ward's method\n",
        "res.hc <- hclust(d, method = \"ward.D2\" )\n",
        "# Cut tree into 5 groups\n",
        "grp <- cutree(res.hc, k = 5)\n",
        "# Visualize\n",
        "plot(res.hc, cex = 0.6) # plot tree\n",
        "rect.hclust(res.hc, k = 5, border = 2:5) # add rectangle"
      ],
      "execution_count": null,
      "outputs": []
    },
    {
      "cell_type": "code",
      "metadata": {
        "id": "BSfnM-FOEZnO"
      },
      "source": [
        "# Execution of k-means with k=5\n",
        "final <- kmeans(mammals_scaled, 5, nstart = 30)\n",
        "fviz_cluster(final, data = mammals_scaled) + theme_minimal() + ggtitle(\"k = 5\")"
      ],
      "execution_count": null,
      "outputs": []
    },
    {
      "cell_type": "code",
      "metadata": {
        "id": "DvRa7P3QEc2X"
      },
      "source": [
        "as.data.frame(mammals_scaled) %>% mutate(Cluster = final$cluster) %>% group_by(Cluster) %>% summarise_all(\"mean\") %>% kable() %>% kable_styling()"
      ],
      "execution_count": null,
      "outputs": []
    }
  ]
}