{
  "nbformat": 4,
  "nbformat_minor": 0,
  "metadata": {
    "colab": {
      "name": "2_DM_Preproccesing.ipynb",
      "provenance": [],
      "collapsed_sections": [],
      "include_colab_link": true
    },
    "kernelspec": {
      "name": "python3",
      "display_name": "Python 3"
    },
    "accelerator": "GPU"
  },
  "cells": [
    {
      "cell_type": "markdown",
      "metadata": {
        "id": "view-in-github",
        "colab_type": "text"
      },
      "source": [
        "<a href=\"https://colab.research.google.com/github/kdemertzis/LNexamples/blob/main/2_DM_Preproccesing.ipynb\" target=\"_parent\"><img src=\"https://colab.research.google.com/assets/colab-badge.svg\" alt=\"Open In Colab\"/></a>"
      ]
    },
    {
      "cell_type": "markdown",
      "metadata": {
        "collapsed": true,
        "id": "-iA6-r5aBN39"
      },
      "source": [
        "# Πώς να προετοιμάσετε τα δεδομένα σας για αλγορίθμους μηχανικής μάθησης στη Python με Scikit-Learn\n",
        "\n",
        "\n",
        "Η προεπεξεργασία των δεδομένων, όπως είδαμε, είναι μια προαπαιτούμενη διεργασία. Ανάλογα με τη δομή του προβλήματος, προεπεξεργαζόμαστε τα δεδομένα έτσι ώστε να είναι κατάλληλα για τους αλγόριθμους μηχανικής μάθησης που σκοπεύουμε να χρησιμοποιήσουμε.Οι μετασχηματισμοί υπολογίζονται με τέτοιο τρόπο ώστε να μπορούν να εφαρμοστούν στα δεδομένα εκπαίδευσης και σε τυχόν  μελλοντικά δείγματα δεδομένων. \n",
        "\n",
        "Συνήθως δημιουργούμε  προβολές του συνόλου των δεδομένων μας, χρησιμοποιώντας διαφορετικούς μετασχηματισμούς, κατάλληλες για διαφορετικούς αλγορίθμους μηχανικής μάθησης. \n",
        "\n",
        "\n",
        "![scikit-laern logo](https://scikit-learn.org/stable/_static/scikit-learn-logo-small.png)\n",
        "\n",
        "To [scikit-learn](https://scikit-learn.org/stable/index.html), το οποίο και θα χρησιμοποιήσουμε, είναι μια open source συλλογή από απλά και αποτελεσματικά εργαλεία για την εξόρυξη και την ανάλυση δεδομένων, χτισμένη σε NumPy, SciPy και matplotlib. Μεταξύ άλλων, περιλαμβάνει κάποιες πληροφορίες σχετικά με τον τρόπο χρήσης διαφορετικών μεθόδων προεπεξεργασίας. Μπορείτε να ανατρέξετε περαιτέρω στο [API preprocess](https://scikit-learn.org/stable/modules/classes.html#module-sklearn.preprocessing).\n"
      ]
    },
    {
      "cell_type": "markdown",
      "metadata": {
        "id": "PRcYQFVvBN3_"
      },
      "source": [
        "Σε αυτό το Notebook θα παρουσιαστούν 4 διαφορετικές και αυτόνομες μέθοδοι προεπεξεργασίας δεδομένων που μπορούν να χρησιμοποιηθούν για αλγορίθμους μηχανικής μάθησης.\n",
        "\n",
        "![UCI ML Logo](http://archive.ics.uci.edu/ml/assets/logo.gif \"UCI Machine Learning Repository\")\n",
        "\n",
        "Το dataset που θα χρησιμοποιήσουμε είναι το Pima Indian diabetes απο το [UCI Machine Learning Repository], το διασημότερο αποθετήριο datasets για Machine Learning.(http://archive.ics.uci.edu/ml/index.php).\n",
        "\n",
        "Το \"Pima Indians Diabetes data set (ή Pima)\" περιλαμβάνει 768 δείγματα από γυναίκες άνω των 21 με καταγωγή από τους ινδιάνους Pima (Pima people). Με βάση 8 βιολογικά χαρακτηριστικά προσπαθούμε να αποφασίσουμε αν ένα άτομο είναι διαβητικό ή όχι.\n",
        "\n",
        "![1889 Photograph shows half-length portrait of two Pima Indians, facing front, wearing bead necklaces.](https://i.pinimg.com/236x/60/05/76/600576905d4ad5bb1a9c3e3387b397ca--pima-indians-native-american-indians.jpg \"1889 Photograph shows half-length portrait of two Pima Indians, facing front, wearing bead necklaces.\")\n",
        "\n",
        "Αυτό είναι ένα δυαδικό πρόβλημα ταξινόμησης όπου όλα τα χαρακτηριστικά είναι αριθμητικά και έχουν διαφορετικές κλίμακες. Το pima dataset αποτελεί ένα καλό παράδειγμα για το πώς ένα σύνολο δεδομένων μπορεί να επωφεληθεί από την προεπεξεργασία.\n",
        "\n",
        "Τα **αρχικά στάδια** είναι όμοια για οποιαδήποτε μέθοδο προεπεξεργασίας και να χρησιμοποιήσουμε και είναι τα εξής: \n",
        "\n",
        "1. \"Φορτώνουμε\" το σύνολο δεδομένων από μια διεύθυνση URL ή απευθείας διαβάστε το αν ανήκει στο toy datasets του scikit-learn.\n",
        "2. Εφαρμόζουμε ένα μετασχηματισμό προεπεξεργασίας στις μεταβλητές εισόδου.\n",
        "3. Συγκεντρώνουμε τα δεδομένα για να δείξουμε την αλλαγή. \n",
        "4. Διαχωρίζουμε το σύνολο δεδομένων στις μεταβλητές εισόδου και εξόδου για μηχανική μάθηση.\n",
        "\n",
        "Το Scikit-learn έχει για κάποια datasets (ονομάζονται toy datasets), μεταξύ των οποίων και το pima καθώς και έτοιμες συναρτήσεις για να τα φορτώνουμε χωρίς να χρειαστεί να διαβάσουμε text file. \n",
        "\n",
        "### Φόρτωση dataset\n"
      ]
    },
    {
      "cell_type": "code",
      "metadata": {
        "trusted": true,
        "id": "uX6zjL5NBN4B",
        "colab": {
          "base_uri": "https://localhost:8080/",
          "height": 34
        },
        "outputId": "e1db544c-9be0-40c6-8e0c-f1a270ebeeaf"
      },
      "source": [
        "# Load CSV using Pandas from URL\n",
        "\n",
        "import pandas as pd\n",
        "import scipy as sc\n",
        "import numpy as np\n",
        "from sklearn.preprocessing import MinMaxScaler\n",
        "\n",
        "url = \"https://raw.githubusercontent.com/jbrownlee/Datasets/master/pima-indians-diabetes.data.csv\"\n",
        "\n",
        "# Because thε CSV doesn't contain any header, we add column names using the description from the original dataset website\n",
        "  # Number of times pregnant / Plasma glucose concentration a 2 hours in an oral glucose tolerance test\n",
        "  # Diastolic blood pressure (mm Hg) / Triceps skin fold thickness (mm)\n",
        "  # 2-Hour serum insulin (mu U/ml) / Body mass index (weight in kg/(height in m)^2)\n",
        "  # Diabetes pedigree function / Age (years)\n",
        "\n",
        "names = ['NumberPreg', 'PlasGlucconce', 'BloodPres', 'SkinThick', 'TwoHourSerIns', 'BMI', 'DiPedFunc', 'Age', 'Class']\n",
        "dataset = pd.read_csv(url, names=names)\n",
        "\n",
        "# Check the shape of the data: we have 768 rows and 9 columns:\n",
        "# the first 8 columns are features while the last one\n",
        "# is the supervised label (1 = has diabetes, 0 = no diabetes)\n",
        "\n",
        "print(dataset.shape)\n",
        "array = dataset.values"
      ],
      "execution_count": null,
      "outputs": [
        {
          "output_type": "stream",
          "text": [
            "(768, 9)\n"
          ],
          "name": "stdout"
        }
      ]
    },
    {
      "cell_type": "code",
      "metadata": {
        "trusted": true,
        "id": "hPu4GH_JBN4K",
        "colab": {
          "base_uri": "https://localhost:8080/",
          "height": 197
        },
        "outputId": "4864bb99-6865-4362-f7f9-f35b9757a49e"
      },
      "source": [
        "# Visualise a table with the first rows of the dataset, to\n",
        "# better understand the data format\n",
        "dataset.head()"
      ],
      "execution_count": null,
      "outputs": [
        {
          "output_type": "execute_result",
          "data": {
            "text/html": [
              "<div>\n",
              "<style scoped>\n",
              "    .dataframe tbody tr th:only-of-type {\n",
              "        vertical-align: middle;\n",
              "    }\n",
              "\n",
              "    .dataframe tbody tr th {\n",
              "        vertical-align: top;\n",
              "    }\n",
              "\n",
              "    .dataframe thead th {\n",
              "        text-align: right;\n",
              "    }\n",
              "</style>\n",
              "<table border=\"1\" class=\"dataframe\">\n",
              "  <thead>\n",
              "    <tr style=\"text-align: right;\">\n",
              "      <th></th>\n",
              "      <th>NumberPreg</th>\n",
              "      <th>PlasGlucconce</th>\n",
              "      <th>BloodPres</th>\n",
              "      <th>SkinThick</th>\n",
              "      <th>TwoHourSerIns</th>\n",
              "      <th>BMI</th>\n",
              "      <th>DiPedFunc</th>\n",
              "      <th>Age</th>\n",
              "      <th>Class</th>\n",
              "    </tr>\n",
              "  </thead>\n",
              "  <tbody>\n",
              "    <tr>\n",
              "      <th>0</th>\n",
              "      <td>6</td>\n",
              "      <td>148</td>\n",
              "      <td>72</td>\n",
              "      <td>35</td>\n",
              "      <td>0</td>\n",
              "      <td>33.6</td>\n",
              "      <td>0.627</td>\n",
              "      <td>50</td>\n",
              "      <td>1</td>\n",
              "    </tr>\n",
              "    <tr>\n",
              "      <th>1</th>\n",
              "      <td>1</td>\n",
              "      <td>85</td>\n",
              "      <td>66</td>\n",
              "      <td>29</td>\n",
              "      <td>0</td>\n",
              "      <td>26.6</td>\n",
              "      <td>0.351</td>\n",
              "      <td>31</td>\n",
              "      <td>0</td>\n",
              "    </tr>\n",
              "    <tr>\n",
              "      <th>2</th>\n",
              "      <td>8</td>\n",
              "      <td>183</td>\n",
              "      <td>64</td>\n",
              "      <td>0</td>\n",
              "      <td>0</td>\n",
              "      <td>23.3</td>\n",
              "      <td>0.672</td>\n",
              "      <td>32</td>\n",
              "      <td>1</td>\n",
              "    </tr>\n",
              "    <tr>\n",
              "      <th>3</th>\n",
              "      <td>1</td>\n",
              "      <td>89</td>\n",
              "      <td>66</td>\n",
              "      <td>23</td>\n",
              "      <td>94</td>\n",
              "      <td>28.1</td>\n",
              "      <td>0.167</td>\n",
              "      <td>21</td>\n",
              "      <td>0</td>\n",
              "    </tr>\n",
              "    <tr>\n",
              "      <th>4</th>\n",
              "      <td>0</td>\n",
              "      <td>137</td>\n",
              "      <td>40</td>\n",
              "      <td>35</td>\n",
              "      <td>168</td>\n",
              "      <td>43.1</td>\n",
              "      <td>2.288</td>\n",
              "      <td>33</td>\n",
              "      <td>1</td>\n",
              "    </tr>\n",
              "  </tbody>\n",
              "</table>\n",
              "</div>"
            ],
            "text/plain": [
              "   NumberPreg  PlasGlucconce  BloodPres  SkinThick  ...   BMI  DiPedFunc  Age  Class\n",
              "0           6            148         72         35  ...  33.6      0.627   50      1\n",
              "1           1             85         66         29  ...  26.6      0.351   31      0\n",
              "2           8            183         64          0  ...  23.3      0.672   32      1\n",
              "3           1             89         66         23  ...  28.1      0.167   21      0\n",
              "4           0            137         40         35  ...  43.1      2.288   33      1\n",
              "\n",
              "[5 rows x 9 columns]"
            ]
          },
          "metadata": {
            "tags": []
          },
          "execution_count": 2
        }
      ]
    },
    {
      "cell_type": "code",
      "metadata": {
        "trusted": true,
        "id": "QGcWYTBgBN4P"
      },
      "source": [
        "# separate array into input and output components\n",
        "# X: Features Y: Labels\n",
        "X = array[:,0:8]\n",
        "Y = array[:,8]"
      ],
      "execution_count": null,
      "outputs": []
    },
    {
      "cell_type": "markdown",
      "metadata": {
        "id": "DiJXNqSJEEOn"
      },
      "source": [
        "### Κανονικοποίηση"
      ]
    },
    {
      "cell_type": "code",
      "metadata": {
        "trusted": true,
        "id": "ZjSiwRaHBN4T",
        "colab": {
          "base_uri": "https://localhost:8080/",
          "height": 283
        },
        "outputId": "dfaf56ad-9f6b-4964-f319-8d16cfb80aed"
      },
      "source": [
        "# Normalization\n",
        "# display data before and after normalization\n",
        "# Normalize data (length of 1)\n",
        "from sklearn.preprocessing import Normalizer\n",
        "np.set_printoptions(precision=3)\n",
        "\n",
        "# data\n",
        "print()\n",
        "print(X[0:5,:])\n",
        "\n",
        "scaler = Normalizer().fit(X)\n",
        "normalizedX = scaler.transform(X)\n",
        "\n",
        "# transformed data\n",
        "print(normalizedX[0:5,:])\n"
      ],
      "execution_count": null,
      "outputs": [
        {
          "output_type": "stream",
          "text": [
            "[[6.000e+00 1.480e+02 7.200e+01 3.500e+01 0.000e+00 3.360e+01 6.270e-01\n",
            "  5.000e+01]\n",
            " [1.000e+00 8.500e+01 6.600e+01 2.900e+01 0.000e+00 2.660e+01 3.510e-01\n",
            "  3.100e+01]\n",
            " [8.000e+00 1.830e+02 6.400e+01 0.000e+00 0.000e+00 2.330e+01 6.720e-01\n",
            "  3.200e+01]\n",
            " [1.000e+00 8.900e+01 6.600e+01 2.300e+01 9.400e+01 2.810e+01 1.670e-01\n",
            "  2.100e+01]\n",
            " [0.000e+00 1.370e+02 4.000e+01 3.500e+01 1.680e+02 4.310e+01 2.288e+00\n",
            "  3.300e+01]]\n",
            "[[0.034 0.828 0.403 0.196 0.    0.188 0.004 0.28 ]\n",
            " [0.008 0.716 0.556 0.244 0.    0.224 0.003 0.261]\n",
            " [0.04  0.924 0.323 0.    0.    0.118 0.003 0.162]\n",
            " [0.007 0.588 0.436 0.152 0.622 0.186 0.001 0.139]\n",
            " [0.    0.596 0.174 0.152 0.731 0.188 0.01  0.144]]\n"
          ],
          "name": "stdout"
        }
      ]
    },
    {
      "cell_type": "markdown",
      "metadata": {
        "id": "F8kYRqWtBN4Y"
      },
      "source": [
        "### Πίνακας συσχέτισης δεδομένων\n",
        "\n",
        "Ο πίνακας συσχέτισης είναι ένα σημαντικό εργαλείο για την κατανόηση της συσχέτισης μεταξύ των διαφόρων χαρακτηριστικών. \n",
        "Οι τιμές κυμαίνονται από -1 έως 1 και όσο πιο κοντά είναι στη τιμή 1, τόσο μεγαλύτερη είναι η σχέση μεταξύ δύο χαρακτηριστικών.\n",
        "Ας υπολογίσουμε τη συσχέτιση μεταξύ των χαρακτηριστικών για το σύνολο δεδομένων μας.\n",
        "\n"
      ]
    },
    {
      "cell_type": "code",
      "metadata": {
        "trusted": true,
        "id": "ZZfy2HpmBN4a",
        "colab": {
          "base_uri": "https://localhost:8080/",
          "height": 317
        },
        "outputId": "28801e74-26af-4bb5-ee12-84175421fed8"
      },
      "source": [
        "corr = dataset.corr()\n",
        "corr"
      ],
      "execution_count": null,
      "outputs": [
        {
          "output_type": "execute_result",
          "data": {
            "text/html": [
              "<div>\n",
              "<style scoped>\n",
              "    .dataframe tbody tr th:only-of-type {\n",
              "        vertical-align: middle;\n",
              "    }\n",
              "\n",
              "    .dataframe tbody tr th {\n",
              "        vertical-align: top;\n",
              "    }\n",
              "\n",
              "    .dataframe thead th {\n",
              "        text-align: right;\n",
              "    }\n",
              "</style>\n",
              "<table border=\"1\" class=\"dataframe\">\n",
              "  <thead>\n",
              "    <tr style=\"text-align: right;\">\n",
              "      <th></th>\n",
              "      <th>NumberPreg</th>\n",
              "      <th>PlasGlucconce</th>\n",
              "      <th>BloodPres</th>\n",
              "      <th>SkinThick</th>\n",
              "      <th>TwoHourSerIns</th>\n",
              "      <th>BMI</th>\n",
              "      <th>DiPedFunc</th>\n",
              "      <th>Age</th>\n",
              "      <th>Class</th>\n",
              "    </tr>\n",
              "  </thead>\n",
              "  <tbody>\n",
              "    <tr>\n",
              "      <th>NumberPreg</th>\n",
              "      <td>1.000000</td>\n",
              "      <td>0.129459</td>\n",
              "      <td>0.141282</td>\n",
              "      <td>-0.081672</td>\n",
              "      <td>-0.073535</td>\n",
              "      <td>0.017683</td>\n",
              "      <td>-0.033523</td>\n",
              "      <td>0.544341</td>\n",
              "      <td>0.221898</td>\n",
              "    </tr>\n",
              "    <tr>\n",
              "      <th>PlasGlucconce</th>\n",
              "      <td>0.129459</td>\n",
              "      <td>1.000000</td>\n",
              "      <td>0.152590</td>\n",
              "      <td>0.057328</td>\n",
              "      <td>0.331357</td>\n",
              "      <td>0.221071</td>\n",
              "      <td>0.137337</td>\n",
              "      <td>0.263514</td>\n",
              "      <td>0.466581</td>\n",
              "    </tr>\n",
              "    <tr>\n",
              "      <th>BloodPres</th>\n",
              "      <td>0.141282</td>\n",
              "      <td>0.152590</td>\n",
              "      <td>1.000000</td>\n",
              "      <td>0.207371</td>\n",
              "      <td>0.088933</td>\n",
              "      <td>0.281805</td>\n",
              "      <td>0.041265</td>\n",
              "      <td>0.239528</td>\n",
              "      <td>0.065068</td>\n",
              "    </tr>\n",
              "    <tr>\n",
              "      <th>SkinThick</th>\n",
              "      <td>-0.081672</td>\n",
              "      <td>0.057328</td>\n",
              "      <td>0.207371</td>\n",
              "      <td>1.000000</td>\n",
              "      <td>0.436783</td>\n",
              "      <td>0.392573</td>\n",
              "      <td>0.183928</td>\n",
              "      <td>-0.113970</td>\n",
              "      <td>0.074752</td>\n",
              "    </tr>\n",
              "    <tr>\n",
              "      <th>TwoHourSerIns</th>\n",
              "      <td>-0.073535</td>\n",
              "      <td>0.331357</td>\n",
              "      <td>0.088933</td>\n",
              "      <td>0.436783</td>\n",
              "      <td>1.000000</td>\n",
              "      <td>0.197859</td>\n",
              "      <td>0.185071</td>\n",
              "      <td>-0.042163</td>\n",
              "      <td>0.130548</td>\n",
              "    </tr>\n",
              "    <tr>\n",
              "      <th>BMI</th>\n",
              "      <td>0.017683</td>\n",
              "      <td>0.221071</td>\n",
              "      <td>0.281805</td>\n",
              "      <td>0.392573</td>\n",
              "      <td>0.197859</td>\n",
              "      <td>1.000000</td>\n",
              "      <td>0.140647</td>\n",
              "      <td>0.036242</td>\n",
              "      <td>0.292695</td>\n",
              "    </tr>\n",
              "    <tr>\n",
              "      <th>DiPedFunc</th>\n",
              "      <td>-0.033523</td>\n",
              "      <td>0.137337</td>\n",
              "      <td>0.041265</td>\n",
              "      <td>0.183928</td>\n",
              "      <td>0.185071</td>\n",
              "      <td>0.140647</td>\n",
              "      <td>1.000000</td>\n",
              "      <td>0.033561</td>\n",
              "      <td>0.173844</td>\n",
              "    </tr>\n",
              "    <tr>\n",
              "      <th>Age</th>\n",
              "      <td>0.544341</td>\n",
              "      <td>0.263514</td>\n",
              "      <td>0.239528</td>\n",
              "      <td>-0.113970</td>\n",
              "      <td>-0.042163</td>\n",
              "      <td>0.036242</td>\n",
              "      <td>0.033561</td>\n",
              "      <td>1.000000</td>\n",
              "      <td>0.238356</td>\n",
              "    </tr>\n",
              "    <tr>\n",
              "      <th>Class</th>\n",
              "      <td>0.221898</td>\n",
              "      <td>0.466581</td>\n",
              "      <td>0.065068</td>\n",
              "      <td>0.074752</td>\n",
              "      <td>0.130548</td>\n",
              "      <td>0.292695</td>\n",
              "      <td>0.173844</td>\n",
              "      <td>0.238356</td>\n",
              "      <td>1.000000</td>\n",
              "    </tr>\n",
              "  </tbody>\n",
              "</table>\n",
              "</div>"
            ],
            "text/plain": [
              "               NumberPreg  PlasGlucconce  ...       Age     Class\n",
              "NumberPreg       1.000000       0.129459  ...  0.544341  0.221898\n",
              "PlasGlucconce    0.129459       1.000000  ...  0.263514  0.466581\n",
              "BloodPres        0.141282       0.152590  ...  0.239528  0.065068\n",
              "SkinThick       -0.081672       0.057328  ... -0.113970  0.074752\n",
              "TwoHourSerIns   -0.073535       0.331357  ... -0.042163  0.130548\n",
              "BMI              0.017683       0.221071  ...  0.036242  0.292695\n",
              "DiPedFunc       -0.033523       0.137337  ...  0.033561  0.173844\n",
              "Age              0.544341       0.263514  ...  1.000000  0.238356\n",
              "Class            0.221898       0.466581  ...  0.238356  1.000000\n",
              "\n",
              "[9 rows x 9 columns]"
            ]
          },
          "metadata": {
            "tags": []
          },
          "execution_count": 29
        }
      ]
    },
    {
      "cell_type": "markdown",
      "metadata": {
        "id": "lnKrMikZBN4e"
      },
      "source": [
        "Μόνο από τον πίνακα και χωρίς γνώσεις ιατρικής μπορούμε να αποφανθούμε ότι όσο μεγαλύτερη είναι η ηλικία ή ο ΔΜΣ ενός ασθενούς, \n",
        "τόσο μεγαλύτερες πιθανότητες έχει ο ασθενής να αναπτύξει διαβήτη τύπου 2."
      ]
    },
    {
      "cell_type": "code",
      "metadata": {
        "trusted": true,
        "id": "mPTQFmTHBN4g",
        "colab": {
          "base_uri": "https://localhost:8080/",
          "height": 351
        },
        "outputId": "5f583117-3872-4e21-b7e0-f84eaa415d39"
      },
      "source": [
        "%matplotlib inline\n",
        "import seaborn as sns\n",
        "sns.heatmap(corr, annot = True)"
      ],
      "execution_count": null,
      "outputs": [
        {
          "output_type": "execute_result",
          "data": {
            "text/plain": [
              "<matplotlib.axes._subplots.AxesSubplot at 0x7f70dd768630>"
            ]
          },
          "metadata": {
            "tags": []
          },
          "execution_count": 30
        },
        {
          "output_type": "display_data",
          "data": {
            "image/png": "[encoded data removed]",
            "text/plain": [
              "<Figure size 432x288 with 2 Axes>"
            ]
          },
          "metadata": {
            "tags": [],
            "needs_background": "light"
          }
        }
      ]
    },
    {
      "cell_type": "markdown",
      "metadata": {
        "id": "b3MsbRxGXZoN"
      },
      "source": [
        "### Προεπεξεργασία δεδομένων\n",
        "\n",
        "Αφού εισάγαμε τα δεδομένα και κάναμε μια πρώτη επισκόπηση και τα φέραμε στη σωστή μορφοποίηση, περνάμε στο επόμενο στάδιο, αυτό της προεπεξεργασίας (data preprocessing). Σε πολλά προβλήματα ταξινόμησης (και machine learning γενικότερα) η προεπεξεργασία είναι ένα πολύ σημαντικό κομμάτι (και συχνά πολύ χρονοβόρο) ολόκληρης της διαδικασίας το οποίο όμως συχνά έχει πολύ μεγάλο αντίκτυπο στην επίδοση του συστήματος. \n",
        "\n",
        "Τα βήματα προεπεξεργασίας στοχεύουν:\n",
        "* Στην αφαίρεση ή αντικατάσταση απουσιάζουσων τιμών από το dataset.\n",
        "* Στη μετατροπή των κατηγορικών μεταβλητών κατάλληλα ώστε να μπορούν να τους διαχειριστούν αλγόριθμοι μηχανικής μάθησης.\n",
        "* Στην επιλογή ή εξαγωγή των κατάλληλων χαρακτηριστικών για το μοντέλο μας."
      ]
    },
    {
      "cell_type": "markdown",
      "metadata": {
        "id": "iISEDfRKXZoO"
      },
      "source": [
        "#### Απουσιάζουσες τιμές χαρακτηριστικών\n",
        "\n",
        "Επειδή τα datasets δημιουργούνται από μετρήσεις ή αντικείμενα του πραγματικού κόσμου, δεν είναι σπάνιο να υπάρχουν απουσιάζουσες τιμές κάποιων χαρακτηριστικών σε έναν αριθμό δειγμάτων. Ωστόσο η είσοδος στους αλγόριθμους ΜΜ πρέπει να είναι πλήρης. \n"
      ]
    },
    {
      "cell_type": "code",
      "metadata": {
        "trusted": true,
        "id": "v44q7cTxXZoR",
        "colab": {
          "base_uri": "https://localhost:8080/",
          "height": 158
        },
        "outputId": "b2c8a031-2afb-465f-d3f9-6082dd2ee778"
      },
      "source": [
        "from io import StringIO\n",
        "\n",
        "csv_data = '''A,B,C,D \\n 1.0,2.0,3.0,4.0 \\n 5.0,6.0,,8.0 \\n 10.0,11.0,12.0,'''\n",
        "print(csv_data)\n",
        "\n",
        "df = pd.read_csv(StringIO(csv_data))\n",
        "print(df)"
      ],
      "execution_count": null,
      "outputs": [
        {
          "output_type": "stream",
          "text": [
            "A,B,C,D \n",
            " 1.0,2.0,3.0,4.0 \n",
            " 5.0,6.0,,8.0 \n",
            " 10.0,11.0,12.0,\n",
            "      A     B     C   D \n",
            "0   1.0   2.0   3.0  4.0\n",
            "1   5.0   6.0   NaN  8.0\n",
            "2  10.0  11.0  12.0  NaN\n"
          ],
          "name": "stdout"
        }
      ]
    },
    {
      "cell_type": "markdown",
      "metadata": {
        "id": "gc-WXCRFXZoV"
      },
      "source": [
        "Με την StringIO διαβάζουμε σε ένα dataframe από ένα string σαν να ήταν CSV αρχείο στο δίσκο. Παρατηρούμε ότι στο CSV λείπουν δύο τιμές τις οποίες το dataframe αντιλαμβάνεται και αντικαθιστά με \"NaN\" (\"Not A Number\").\n",
        "\n",
        "Μια στρατηγική θα ήταν να αφαιρέσουμε τα δείγματα (γραμμές) που έχουν χαρακτηριστικά με απουσιάζουσες τιμές ή παρόμοια τα χαρακτηριστικά αν σε κάποια δείγματα απουσιάζουν\n"
      ]
    },
    {
      "cell_type": "code",
      "metadata": {
        "id": "hOzJL54LFvwp",
        "colab": {
          "base_uri": "https://localhost:8080/",
          "height": 105
        },
        "outputId": "46192824-b9bb-4857-e55d-0c37d3a8a59a"
      },
      "source": [
        "df.isnull().any() #Check for null values"
      ],
      "execution_count": null,
      "outputs": [
        {
          "output_type": "execute_result",
          "data": {
            "text/plain": [
              "A     False\n",
              "B     False\n",
              "C      True\n",
              "D      True\n",
              "dtype: bool"
            ]
          },
          "metadata": {
            "tags": []
          },
          "execution_count": 11
        }
      ]
    },
    {
      "cell_type": "code",
      "metadata": {
        "trusted": true,
        "id": "_UOHwTqKXZoW",
        "colab": {
          "base_uri": "https://localhost:8080/",
          "height": 77
        },
        "outputId": "fa91bc38-b310-4757-a6aa-f49b80ba8cca"
      },
      "source": [
        "df.dropna(axis=0) # κρατάμε μόνο τα δείγματα με αριθμητικές τιμές"
      ],
      "execution_count": null,
      "outputs": [
        {
          "output_type": "execute_result",
          "data": {
            "text/html": [
              "<div>\n",
              "<style scoped>\n",
              "    .dataframe tbody tr th:only-of-type {\n",
              "        vertical-align: middle;\n",
              "    }\n",
              "\n",
              "    .dataframe tbody tr th {\n",
              "        vertical-align: top;\n",
              "    }\n",
              "\n",
              "    .dataframe thead th {\n",
              "        text-align: right;\n",
              "    }\n",
              "</style>\n",
              "<table border=\"1\" class=\"dataframe\">\n",
              "  <thead>\n",
              "    <tr style=\"text-align: right;\">\n",
              "      <th></th>\n",
              "      <th>A</th>\n",
              "      <th>B</th>\n",
              "      <th>C</th>\n",
              "      <th>D</th>\n",
              "    </tr>\n",
              "  </thead>\n",
              "  <tbody>\n",
              "    <tr>\n",
              "      <th>0</th>\n",
              "      <td>1.0</td>\n",
              "      <td>2.0</td>\n",
              "      <td>3.0</td>\n",
              "      <td>4.0</td>\n",
              "    </tr>\n",
              "  </tbody>\n",
              "</table>\n",
              "</div>"
            ],
            "text/plain": [
              "     A    B    C   D \n",
              "0  1.0  2.0  3.0  4.0"
            ]
          },
          "metadata": {
            "tags": []
          },
          "execution_count": 15
        }
      ]
    },
    {
      "cell_type": "code",
      "metadata": {
        "trusted": true,
        "id": "cO-5y2E-XZoZ",
        "colab": {
          "base_uri": "https://localhost:8080/",
          "height": 137
        },
        "outputId": "b5fa783c-ab76-4a67-f513-899121a87160"
      },
      "source": [
        "df.dropna(axis=1) # κρατάμε μόνο τα χαρακτηριστικά με αριθμητικές τιμές"
      ],
      "execution_count": null,
      "outputs": [
        {
          "output_type": "execute_result",
          "data": {
            "text/html": [
              "<div>\n",
              "<style scoped>\n",
              "    .dataframe tbody tr th:only-of-type {\n",
              "        vertical-align: middle;\n",
              "    }\n",
              "\n",
              "    .dataframe tbody tr th {\n",
              "        vertical-align: top;\n",
              "    }\n",
              "\n",
              "    .dataframe thead th {\n",
              "        text-align: right;\n",
              "    }\n",
              "</style>\n",
              "<table border=\"1\" class=\"dataframe\">\n",
              "  <thead>\n",
              "    <tr style=\"text-align: right;\">\n",
              "      <th></th>\n",
              "      <th>A</th>\n",
              "      <th>B</th>\n",
              "    </tr>\n",
              "  </thead>\n",
              "  <tbody>\n",
              "    <tr>\n",
              "      <th>0</th>\n",
              "      <td>1.0</td>\n",
              "      <td>2.0</td>\n",
              "    </tr>\n",
              "    <tr>\n",
              "      <th>1</th>\n",
              "      <td>5.0</td>\n",
              "      <td>6.0</td>\n",
              "    </tr>\n",
              "    <tr>\n",
              "      <th>2</th>\n",
              "      <td>10.0</td>\n",
              "      <td>11.0</td>\n",
              "    </tr>\n",
              "  </tbody>\n",
              "</table>\n",
              "</div>"
            ],
            "text/plain": [
              "      A     B\n",
              "0   1.0   2.0\n",
              "1   5.0   6.0\n",
              "2  10.0  11.0"
            ]
          },
          "metadata": {
            "tags": []
          },
          "execution_count": 33
        }
      ]
    },
    {
      "cell_type": "code",
      "metadata": {
        "id": "Nqm0hllEGGii"
      },
      "source": [
        "#df.dropna(inplace=True) # Drop null values"
      ],
      "execution_count": null,
      "outputs": []
    },
    {
      "cell_type": "markdown",
      "metadata": {
        "id": "M8_tzvNLXZoc"
      },
      "source": [
        "(η μέθοδος dropna έχει πολλά ακόμη [options](https://pandas.pydata.org/pandas-docs/stable/generated/pandas.DataFrame.dropna.html))\n",
        "\n",
        "Σημειώστε ότι αυτή μεθοδολογία είναι η μόνη μορφή προεπεξεργασίας που καλύτερο είναι να γίνει **πριν διαχωρίσουμε σε train και test**. Aν έχουμε κάνει το διαχωρισμό θα πρέπει οποιοδήποτε χαρακτηριστικό (στήλη) αφαιρέσουμε στο ένα, να το αφαιρέσουμε και στο άλλο.\n",
        "\n",
        "Μπορεί αυτή η προσέγγιση να είναι μοιάζει απλή ωστόσο ειδικά αν απουσιάζουν πολλές τιμές συνήθως δεν θέλουμε να θυσιάσουμε δεδομένα (δείγματα ) ούτε να αφαιρέσουμε χαρακτηριστικά που μπορεί να περιλαμβάνουν σημαντική πληροφορία για το διαχωρισμό των κλάσεων.\n",
        "\n",
        "Πρακτικά συνήθως χρησιμοποιούμε το μετασχηματιστή “[Imputer](http://scikit-learn.org/stable/modules/impute.html)” του scikit learn που αντικαθιστά κάθε απουσιάζουσα τιμή χαρακτηριστικού με τη μέση τιμή (συνεχείς μεταβλητές) ή την πιο συχνή τιμή (κατηγορικές μεταβλητές) του χαρακτηριστικού στο train set. \n",
        "\n",
        "\n",
        "Αν θεωρήσουμε ότι το df είναι το training set τότε:\n"
      ]
    },
    {
      "cell_type": "code",
      "metadata": {
        "trusted": true,
        "id": "KGTRoCTVXZod",
        "colab": {
          "base_uri": "https://localhost:8080/",
          "height": 70
        },
        "outputId": "04fdfafa-1547-45e7-f701-c42dbe8b4d34"
      },
      "source": [
        "import numpy as np\n",
        "from sklearn.impute import SimpleImputer\n",
        "\n",
        "imr = SimpleImputer(missing_values=np.nan, strategy='mean')\n",
        "\n",
        "imr = imr.fit(df.values)\n",
        "\n",
        "imputed_data = imr.transform(df.values)\n",
        "\n",
        "imputed_data"
      ],
      "execution_count": null,
      "outputs": [
        {
          "output_type": "execute_result",
          "data": {
            "text/plain": [
              "array([[ 1. ,  2. ,  3. ,  4. ],\n",
              "       [ 5. ,  6. ,  7.5,  8. ],\n",
              "       [10. , 11. , 12. ,  6. ]])"
            ]
          },
          "metadata": {
            "tags": []
          },
          "execution_count": 25
        }
      ]
    },
    {
      "cell_type": "markdown",
      "metadata": {
        "id": "o4Au5MPtXZog"
      },
      "source": [
        "Αν τώρα έχουμε ένα test set με missing values οι τιμές θα αντικατασταθούν με τις μέσες / πιο συχνές τιμές που έχουν υπολογιστεί στο **train set**."
      ]
    },
    {
      "cell_type": "code",
      "metadata": {
        "trusted": true,
        "id": "VAdrKLuGXZoi",
        "colab": {
          "base_uri": "https://localhost:8080/",
          "height": 105
        },
        "outputId": "f658b6d7-980a-4baf-85cf-0881d5bb6eb9"
      },
      "source": [
        "csv_data = '''A,B,C,D \\n 3.0,4.0,,1.0 \\n 5.0,2.0,10.0,6.0'''\n",
        "\n",
        "test_df = pd.read_csv(StringIO(csv_data))\n",
        "print(test_df)\n",
        "\n",
        "imputed_test_data = imr.transform(test_df.values)\n",
        "\n",
        "imputed_test_data"
      ],
      "execution_count": null,
      "outputs": [
        {
          "output_type": "stream",
          "text": [
            "     A    B     C   D \n",
            "0  3.0  4.0   NaN  1.0\n",
            "1  5.0  2.0  10.0  6.0\n"
          ],
          "name": "stdout"
        },
        {
          "output_type": "execute_result",
          "data": {
            "text/plain": [
              "array([[ 3. ,  4. ,  7.5,  1. ],\n",
              "       [ 5. ,  2. , 10. ,  6. ]])"
            ]
          },
          "metadata": {
            "tags": []
          },
          "execution_count": 27
        }
      ]
    },
    {
      "cell_type": "markdown",
      "metadata": {
        "id": "QLIyu3ubXZoo"
      },
      "source": [
        "#### Αριθμητικά και κατηγορικά χαρακτηριστικά\n",
        "Σε κάποιες περιπτώσεις τα datasets περιέχουν εκτός από αριθμητικά και κατηγορικά χαρακτηριστικά στη μορφή string. Για παράδειγμα:"
      ]
    },
    {
      "cell_type": "code",
      "metadata": {
        "trusted": true,
        "id": "2Nzbrxa-XZop",
        "colab": {
          "base_uri": "https://localhost:8080/",
          "height": 70
        },
        "outputId": "a0d587b2-84de-4c8e-9d4a-34cedd09b879"
      },
      "source": [
        "# Όνομα Ηλικία Βάρος Κάτοικος\n",
        "MixedType = np.array([\n",
        "    ['John', 25, 63.2, 'UK'],\n",
        "    ['Maria', 62, 54.3, 'US'],\n",
        "    ['Nick', 18, 70.3, 'US'],\n",
        "])\n",
        "print(MixedType)"
      ],
      "execution_count": null,
      "outputs": [
        {
          "output_type": "stream",
          "text": [
            "[['John' '25' '63.2' 'UK']\n",
            " ['Maria' '62' '54.3' 'US']\n",
            " ['Nick' '18' '70.3' 'US']]\n"
          ],
          "name": "stdout"
        }
      ]
    },
    {
      "cell_type": "markdown",
      "metadata": {
        "id": "Np8AoH8TXZot"
      },
      "source": [
        "Για να μπορέσει ο αλγόριθμος να λειτουργήσει, θα μπορούσε κανείς να σκεφτεί να αντικαταστήσει κάθε διαφορετική τιμή κάθε κατηγορικού χαρακτηριστικού με μια αριθμητική τιμή. Στο προηγούμενο παράδειγμα να θέσει John=0, Maria=1, Nick=2 και Europe=0, US=1. Αυτό όμως είναι λάθος γιατί θεωρεί ότι το σύνολο τιμών των δύο κατηγορικών μεταβλητών είναι διατεταγμένο (ordered) κάτι που προφανώς δεν ισχύει και θα οδηγήσει σε λάθη τον ταξινομητή.\n",
        "\n",
        "Μια λύση είναι να μετατρέψουμε κάθε κατηγορικό χαρακτηριστικό με m τιμές σε m binary χαρακτηριστικά από τα οποία μόνο ένα είναι ενεργό κάθε φορά:"
      ]
    },
    {
      "cell_type": "code",
      "metadata": {
        "trusted": true,
        "id": "rOkz-KcqXZou",
        "colab": {
          "base_uri": "https://localhost:8080/",
          "height": 158
        },
        "outputId": "9f417b95-ca51-46e8-d3ad-165a85793ac8"
      },
      "source": [
        "# μετατρέπουμε σε dataframe και τυπώνουμε\n",
        "mtdf = pd.DataFrame(MixedType)\n",
        "print(mtdf)\n",
        "\n",
        "# Οι στήλες 1 και 4 έχουν κατηγορικές μεταβλητές.\n",
        "# Με την \"get_dummies\" κάνουμε τη μετατροπή σε binary χαρακτηριστικά που περιγράψαμε\n",
        "dummies = pd.get_dummies(mtdf, columns=[0,3])\n",
        "print(dummies)\n",
        "\n",
        "# Μετατρέπουμε σε αριθμητικές τιμές (pd.to_numeric) και σε numpy array (.values)\n",
        "np_dummies = dummies.apply(pd.to_numeric).values\n",
        "#print(np_dummies)"
      ],
      "execution_count": null,
      "outputs": [
        {
          "output_type": "stream",
          "text": [
            "       0   1     2   3\n",
            "0   John  25  63.2  UK\n",
            "1  Maria  62  54.3  US\n",
            "2   Nick  18  70.3  US\n",
            "    1     2  0_John  0_Maria  0_Nick  3_UK  3_US\n",
            "0  25  63.2       1        0       0     1     0\n",
            "1  62  54.3       0        1       0     0     1\n",
            "2  18  70.3       0        0       1     0     1\n"
          ],
          "name": "stdout"
        }
      ]
    },
    {
      "cell_type": "markdown",
      "metadata": {
        "id": "kY4v6EAnBN4j"
      },
      "source": [
        "### Οπτικοποίηση του συνόλου δεδομένων\n",
        "\n",
        "Η απεικόνιση των δεδομένων είναι ένα σημαντικό βήμα της ανάλυσης δεδομένων. Με μια γραφική απεικόνιση των δεδομένων έχουμε καλύτερη κατανόηση των διαφόρων χαρακτηριστικών της κατανομής των τιμών: για παράδειγμα στο pima dataset μπορούμε να καταλάβουμε ποια είναι η μέση ηλικία των ανθρώπων ή ο μέσος ΔΜΣ κλπ. \n",
        "\n",
        "Θα μπορούσαμε φυσικά να περιορίστουμε στην απεικόνιση του πίνακα συσχέτιση, αλλά θα μπορούσαμε να χάσουμε σημαντικά πράγματα που μπορεί να επηρεάσουν την ακρίβεια του μοντέλου μας."
      ]
    },
    {
      "cell_type": "code",
      "metadata": {
        "trusted": true,
        "id": "YIq_TeNtBN4k",
        "colab": {
          "base_uri": "https://localhost:8080/",
          "height": 1000
        },
        "outputId": "03aad570-122f-40de-b7d6-06451d27593c"
      },
      "source": [
        "import matplotlib.pyplot as plt\n",
        "#Binning 50\n",
        "dataset.hist(bins=50, figsize=(20, 15))\n",
        "plt.show()\n",
        "#Binning 20\n",
        "import matplotlib.pyplot as plt\n",
        "dataset.hist(bins=10, figsize=(20, 15))\n",
        "plt.show()\n"
      ],
      "execution_count": null,
      "outputs": [
        {
          "output_type": "display_data",
          "data": {
            "image/png": "[encoded data removed]",
            "text/plain": [
              "<Figure size 1440x1080 with 9 Axes>"
            ]
          },
          "metadata": {
            "tags": [],
            "needs_background": "light"
          }
        },
        {
          "output_type": "display_data",
          "data": {
            "image/png": "[encoded data removed]",
            "text/plain": [
              "<Figure size 1440x1080 with 9 Axes>"
            ]
          },
          "metadata": {
            "tags": [],
            "needs_background": "light"
          }
        }
      ]
    },
    {
      "cell_type": "markdown",
      "metadata": {
        "id": "uUioKzLBBN4o"
      },
      "source": [
        "Έχουμε παρατηρήσει από την προηγούμενη ανάλυση ότι ορισμένοι ασθενείς έχουν ελλιπή στοιχεία για ορισμένα από τα χαρακτηριστικά π.χ. BMI=0, BloodPress=0. Οι αλγόριθμοι μηχανικής μάθησης δεν λειτουργούν πολύ καλά όταν τα δεδομένα λείπουν, οπότε πρέπει να βρούμε μια λύση για να \"καθαρίσουμε\" τα δεδομένα που έχουμε. \n",
        "\n",
        "Η ευκολότερη επιλογή θα μπορούσε να είναι η διαγραφή όλων των ασθενών με κενές/μηδενικές τιμές, αλλά με αυτόν τον τρόπο θα εξαλείψαμε πολλά σημαντικά δεδομένα. Μια άλλη επιλογή είναι να υπολογίσουμε τη ενδιάμεση τιμή για μια συγκεκριμένη στήλη και να αντικαταστήσουμε αυτήν την τιμή όπου (στην ίδια στήλη) έχουμε μηδέν ή null. Ας δούμε πώς να εφαρμόσουμε αυτή τη δεύτερη μέθοδο.\n"
      ]
    },
    {
      "cell_type": "code",
      "metadata": {
        "trusted": true,
        "id": "bE_dlsn-BN4p"
      },
      "source": [
        "# Το 0 για στήλες όπως η 'Number of times pregnant' έχει ουσία, άρα δεν το αντικαθιστούμε.\n",
        "\n",
        "# Calculate the median value for BMI\n",
        "median_bmi = dataset['BMI'].median()\n",
        "# Substitute it in the BMI column of the\n",
        "# dataset where values are 0\n",
        "dataset['BMI'] = dataset['BMI'].replace(to_replace=0, value=median_bmi)\n",
        "\n",
        "# Calculate the median value for BloodP\n",
        "median_bloodp = dataset['BloodPres'].median()\n",
        "# Substitute it in the BloodP column of the\n",
        "# dataset where values are 0\n",
        "dataset['BloodPres'] = dataset['BloodPres'].replace(to_replace=0, value=median_bloodp)\n",
        "\n",
        "# Calculate the median value for DiPedFunc(Diabetes pedigree function)\n",
        "median_DiPedFunc = dataset['DiPedFunc'].median()\n",
        "# Substitute it in the DiPedFunc column of the\n",
        "# dataset where values are 0\n",
        "dataset['DiPedFunc'] = dataset['DiPedFunc'].replace(to_replace=0, value=median_DiPedFunc)\n",
        "\n",
        "# Calculate the median value for SkinThick\n",
        "median_skinthick = dataset['SkinThick'].median()\n",
        "# Substitute it in the SkinThick column of the\n",
        "# dataset where values are 0\n",
        "dataset['SkinThick'] = dataset['SkinThick'].replace(to_replace=0, value=median_skinthick)\n",
        "\n",
        "# Calculate the median value for TwoHourSerIns\n",
        "median_twohourserins = dataset['TwoHourSerIns'].median()\n",
        "# Substitute it in the TwoHourSerIns column of the\n",
        "# dataset where values are 0\n",
        "dataset['TwoHourSerIns'] = dataset['TwoHourSerIns'].replace(to_replace=0, value=median_twohourserins)\n",
        "\n"
      ],
      "execution_count": null,
      "outputs": []
    },
    {
      "cell_type": "markdown",
      "metadata": {
        "id": "-PTpRod-BN4r"
      },
      "source": [
        "### Διαχωρισμός του συνόλου δεδομένων\n",
        "\n",
        "Πρωτού φτιάξουμε το μοντέλο, χωρίζουμε τα δεδομένα μας, τυχαία, σε ένα σύνολο εκπαίδευσης και σε ένα σύνολο ελέγχου.\n",
        "\n",
        "Παρακάτω βλέπουμε ένα παράδειγμα διαχωρισμού του dataset με αναλογία 60-40:\n",
        "\n",
        "\n",
        "![data split](https://res.cloudinary.com/dyd911kmh/image/upload/f_auto,q_auto:best/v1543836883/image_6_cfpjpr.png)\n",
        "\n",
        "\n",
        "Χρησιμοποιούμε το train set για να εκτιμούμε και να βελτιώνουμε το μοντέλο της μηχανικής μάθησης (π.χ. ένας ταξινομητής για το pima dataset) κατά την ανάπτυξή του. \n",
        "\n",
        "Δεν επιτρέπεται σε κανένα σημείο η χρήση των δεδομένων test για την εκπαίδευση του μοντέλου.\n",
        "\n",
        "Χρησιμοποιούμε μετά το test set για να αξιολογήσουμε στατιστικά την απόδοση του μοντέλου μας.\n",
        "\n",
        "Το sklearn έχει τη συνάρτηση train_test_split() που ανακατεύει τυχαία τα δείγματα και τα διαχωρίζει σε train και test με βάση κάποιο ποσοστό που θα της δώσουμε."
      ]
    },
    {
      "cell_type": "code",
      "metadata": {
        "trusted": true,
        "id": "K09R8L3sBN4t"
      },
      "source": [
        "# Split the training dataset in 80% / 20%\n",
        "from sklearn.model_selection import train_test_split\n",
        "train_set, test_set = train_test_split(dataset, test_size=0.2, random_state=42)"
      ],
      "execution_count": null,
      "outputs": []
    },
    {
      "cell_type": "code",
      "metadata": {
        "trusted": true,
        "id": "HY_VoT-QBN4x"
      },
      "source": [
        "# Separate labels from the rest of the dataset\n",
        "train_set_labels = train_set[\"Class\"].copy()\n",
        "train_set = train_set.drop(\"Class\", axis=1)\n",
        "\n",
        "test_set_labels = test_set[\"Class\"].copy()\n",
        "test_set = test_set.drop(\"Class\", axis=1)"
      ],
      "execution_count": null,
      "outputs": []
    },
    {
      "cell_type": "markdown",
      "metadata": {
        "id": "sXNMc7dnBN40"
      },
      "source": [
        "### Κλιμάκωση χαρακτηριστικών\n",
        "\n",
        "Οι περισσότεροι από τους αλγόριθμους μηχανική μάθησης δεν λειτουργούν πολύ καλά αν τα χαρακτηριστικά έχουν διαφορετικό σύνολο τιμών. Στην περίπτωσή μας, για παράδειγμα, το χαρακτηριστικό ηλικία κυμαίνεται από 20 έως 80 ετών, ενώ ο αριθμός των περιπτώσεων που μια ασθενής ήταν έγκυος κυμαίνεται από το 0 έως το 17 οπότε πρέπει να εφαρμόσουμε έναν σωστό μετασχηματισμό."
      ]
    },
    {
      "cell_type": "markdown",
      "metadata": {
        "id": "_Mo_4TmCBN4B"
      },
      "source": [
        "Όταν τα δεδομένα  αποτελούνται από χαρακτηριστικά με διαφορετικές κλίμακες, πολλοί αλγόριθμοι μηχανικής μάθησης μπορούν να\n",
        "επωφεληθούν από την ανακατάταξη (rescaling) των χαρακτηριστικών έτσι ώστε όλα να έχουν τις ίδιες κλίμακες.\n",
        "\n",
        "Συχνά αυτό αναφέρεται ως κανονικοποίηση (normalization) και τα χαρακτηριστικά συχνά μετατρέπονται σε κλίμακα μεταξύ 0 και 1. \n",
        "Αυτό είναι χρήσιμο για τους αλγόριθμους βελτιστοποίησης που χρησιμοποιούν, στον πυρήνα τους, μεθόδους όπως η φθίνουσα κλίσης (gradient descent). \n",
        "Είναι επίσης χρήσιμο για τους αλγορίθμους με βάρη εισόδου όπως η παλινδρόμηση και τα νευρωνικά δίκτυα και αλγόριθμοι που χρησιμοποιούν μέτρα απόστασης όπως ο K-Nearest Neighbours.\n",
        "\n",
        "Η κλάση MinMaxScaler του scikit-learn χρησιμοποιείται για τον σκοπό αυτόν.\n",
        "\n"
      ]
    },
    {
      "cell_type": "code",
      "metadata": {
        "trusted": true,
        "id": "PeqxZSVHBN41"
      },
      "source": [
        "# Apply a scaler\n",
        "from sklearn.preprocessing import MinMaxScaler as Scaler\n",
        "\n",
        "scaler = Scaler()\n",
        "\n",
        "scaler.fit(train_set)\n",
        "\n",
        "train_set_scaled = scaler.transform(train_set)\n",
        "test_set_scaled = scaler.transform(test_set)"
      ],
      "execution_count": null,
      "outputs": []
    },
    {
      "cell_type": "markdown",
      "metadata": {
        "id": "-monZ3NyBN44"
      },
      "source": [
        "### Κλιμάκωση τιμών"
      ]
    },
    {
      "cell_type": "code",
      "metadata": {
        "trusted": true,
        "id": "uFOAXMrcBN45",
        "colab": {
          "base_uri": "https://localhost:8080/",
          "height": 197
        },
        "outputId": "42072e46-a952-4766-97c0-7af0cb143e45"
      },
      "source": [
        "df = pd.DataFrame(data=train_set_scaled)\n",
        "df.head()"
      ],
      "execution_count": null,
      "outputs": [
        {
          "output_type": "execute_result",
          "data": {
            "text/html": [
              "<div>\n",
              "<style scoped>\n",
              "    .dataframe tbody tr th:only-of-type {\n",
              "        vertical-align: middle;\n",
              "    }\n",
              "\n",
              "    .dataframe tbody tr th {\n",
              "        vertical-align: top;\n",
              "    }\n",
              "\n",
              "    .dataframe thead th {\n",
              "        text-align: right;\n",
              "    }\n",
              "</style>\n",
              "<table border=\"1\" class=\"dataframe\">\n",
              "  <thead>\n",
              "    <tr style=\"text-align: right;\">\n",
              "      <th></th>\n",
              "      <th>0</th>\n",
              "      <th>1</th>\n",
              "      <th>2</th>\n",
              "      <th>3</th>\n",
              "      <th>4</th>\n",
              "      <th>5</th>\n",
              "      <th>6</th>\n",
              "      <th>7</th>\n",
              "    </tr>\n",
              "  </thead>\n",
              "  <tbody>\n",
              "    <tr>\n",
              "      <th>0</th>\n",
              "      <td>0.117647</td>\n",
              "      <td>0.422111</td>\n",
              "      <td>0.000000</td>\n",
              "      <td>0.000000</td>\n",
              "      <td>0.000000</td>\n",
              "      <td>0.000000</td>\n",
              "      <td>0.096499</td>\n",
              "      <td>0.000000</td>\n",
              "    </tr>\n",
              "    <tr>\n",
              "      <th>1</th>\n",
              "      <td>0.529412</td>\n",
              "      <td>0.562814</td>\n",
              "      <td>0.672131</td>\n",
              "      <td>0.380952</td>\n",
              "      <td>0.000000</td>\n",
              "      <td>0.420268</td>\n",
              "      <td>0.514091</td>\n",
              "      <td>0.483333</td>\n",
              "    </tr>\n",
              "    <tr>\n",
              "      <th>2</th>\n",
              "      <td>0.058824</td>\n",
              "      <td>0.698492</td>\n",
              "      <td>0.377049</td>\n",
              "      <td>0.301587</td>\n",
              "      <td>0.098109</td>\n",
              "      <td>0.427720</td>\n",
              "      <td>0.245944</td>\n",
              "      <td>0.016667</td>\n",
              "    </tr>\n",
              "    <tr>\n",
              "      <th>3</th>\n",
              "      <td>0.000000</td>\n",
              "      <td>0.809045</td>\n",
              "      <td>0.409836</td>\n",
              "      <td>0.000000</td>\n",
              "      <td>0.000000</td>\n",
              "      <td>0.326379</td>\n",
              "      <td>0.075149</td>\n",
              "      <td>0.733333</td>\n",
              "    </tr>\n",
              "    <tr>\n",
              "      <th>4</th>\n",
              "      <td>0.352941</td>\n",
              "      <td>0.673367</td>\n",
              "      <td>0.655738</td>\n",
              "      <td>0.587302</td>\n",
              "      <td>0.437352</td>\n",
              "      <td>0.688525</td>\n",
              "      <td>0.068318</td>\n",
              "      <td>0.416667</td>\n",
              "    </tr>\n",
              "  </tbody>\n",
              "</table>\n",
              "</div>"
            ],
            "text/plain": [
              "          0         1         2  ...         5         6         7\n",
              "0  0.117647  0.422111  0.000000  ...  0.000000  0.096499  0.000000\n",
              "1  0.529412  0.562814  0.672131  ...  0.420268  0.514091  0.483333\n",
              "2  0.058824  0.698492  0.377049  ...  0.427720  0.245944  0.016667\n",
              "3  0.000000  0.809045  0.409836  ...  0.326379  0.075149  0.733333\n",
              "4  0.352941  0.673367  0.655738  ...  0.688525  0.068318  0.416667\n",
              "\n",
              "[5 rows x 8 columns]"
            ]
          },
          "metadata": {
            "tags": []
          },
          "execution_count": 40
        }
      ]
    },
    {
      "cell_type": "markdown",
      "metadata": {
        "id": "YlhZA4FwBN5D"
      },
      "source": [
        "### Επιλογή και εκπαίδευση μοντέλου\n",
        "\n",
        "Δεν είναι δυνατόν να γνωρίζουμε εκ των προτέρων ποιος αλγόριθμος θα λειτουργήσει καλύτερα με το σύνολο δεδομένων μας. Πρέπει να συγκρίνουμε μερικούς και να επιλέξουμε αυτόν με το \"καλύτερο αποτέλεσμα\". \n",
        "\n",
        "Για να συγκρίνουμε πολλούς αλγορίθμους με το ίδιο σύνολο δεδομένων, χρησιμοποιούμε το model_selection του sklearn. Δημιουργούμε μια λίστα αλγορίθμων και στη συνέχεια τα βαθμολογούμε με την ίδια μέθοδο σύγκρισης. Στο τέλος επιλέγουμε αυτό με το καλύτερο αποτέλεσμα.\n",
        "\n"
      ]
    },
    {
      "cell_type": "code",
      "metadata": {
        "trusted": true,
        "id": "3w59YeFBBN5E"
      },
      "source": [
        "# Import all the algorithms we want to test\n",
        "from sklearn.linear_model import LogisticRegression\n",
        "from sklearn.neighbors import KNeighborsClassifier\n",
        "from sklearn.naive_bayes import GaussianNB\n",
        "from sklearn.svm import SVC\n",
        "from sklearn.svm import LinearSVC\n",
        "from sklearn.ensemble import RandomForestClassifier\n",
        "from sklearn.tree import DecisionTreeRegressor"
      ],
      "execution_count": null,
      "outputs": []
    },
    {
      "cell_type": "code",
      "metadata": {
        "trusted": true,
        "id": "XvEjg-5iBN5I"
      },
      "source": [
        "# Import the slearn utility to compare algorithms\n",
        "from sklearn import model_selection\n",
        "\n",
        "# Prepare an array with all the algorithms\n",
        "models = []\n",
        "models.append(('LR', LogisticRegression()))\n",
        "models.append(('KNN', KNeighborsClassifier()))\n",
        "models.append(('NB', GaussianNB()))\n",
        "models.append(('SVC', SVC()))\n",
        "models.append(('LSVC', LinearSVC()))\n",
        "models.append(('RFC', RandomForestClassifier()))\n",
        "models.append(('DTR', DecisionTreeRegressor()))\n"
      ],
      "execution_count": null,
      "outputs": []
    },
    {
      "cell_type": "code",
      "metadata": {
        "trusted": true,
        "id": "J_fj0U2oBN5N"
      },
      "source": [
        "# Prepare the configuration to run the test\n",
        "seed = 7\n",
        "results = []\n",
        "names = []\n",
        "X = train_set_scaled\n",
        "Y = train_set_labels"
      ],
      "execution_count": null,
      "outputs": []
    },
    {
      "cell_type": "markdown",
      "metadata": {
        "id": "pawqK3tlXZpX"
      },
      "source": [
        "#### Ρύθμιση υπερπαραμέτρων με διασταυρούμενη επικύρωση (Cross Validation)\n",
        "Ένας προφανής τρόπος να βρούμε τη βέλτιστη τιμή του k, να πραγματοποιήσουμε δηλαδή επικύρωση του μοντέλου, είναι ο ακόλουθος. Για k=1 μέχρι k=κάποιο n, κάνουμε fit τον ταξινομητή στο train set και μετράμε την απόδοση στο test set. Ο ταξινομητής με k που δίνει το μικρότερο σφάλμα ταξιμόνόμησης σύμφωνα με κάποιο κριτήριο (εδώ η πιστότητα) στο test set θα είναι ο βέλτιστος. \n",
        "\n",
        "Όμως, αν ακολουθήσουμε αυτή τη στρατηγική, ουσιαστικά κάνουμε υπερεκπαίδευση, καθώς χρησιμοποιούμε το test set ως training set, δηλαδή βελτιστοποιούμε κάποιο κριτήριο σφάλματος πάνω στο test set. Αυτό μπορεί να είναι επιβλαβές για την ικανότητα γενίκευσης του ταξινομητή: το test set χρησιμεύει μόνο για την τελική εκτίμηση της απόδοσης του ταξινομητή.\n",
        "\n",
        "Για να ακολουθήσουμε σωστά το πρωτόκολλο, αυτό που πρέπει να κάνουμε είναι να χρησιμοποιήσουμε μόνο το πραγματικό training set για να διαλέξουμε τις βέλτιστες υπερπαραμέτρους. \n",
        "\n",
        "Θα μπορούσαμε να κρατήσουμε ένα ποσοστό δειγμάτων ως σύνολο επικύρωσης (validation set πχ άλλο ένα 1/3) του training set και να ακολουθήσουμε την προηγούμενη διαδικασία: εκπαίδευση στο 1/3 training set, επικύρωση σε 1/3 και τελικά αξιολόγηση στο 1/3 data set. \n",
        "\n",
        "Ωστόσο αυτή η μεθοδολογία \"αχρηστεύει\" μεγάλο μέρος του dataset (τα 2/3) ως προς την εκπαίδευση του ταξινομητή. Πρακτικά λοιπόν, προτιμούμε να χρησιμοποιούμε τη μέθοδο της διασταυρούμενης επικύρωσης (Cross Validation).\n",
        "\n",
        "Στο Cross Validation αρχικά χωρίζουμε το training set σε έναν αριθμό \"πτυχών\" (folds). Συνηθισμένες τιμές είναι το 5 και το 10 (5-fold και 10-fold CV). \n",
        "\n",
        "Στη συνέχεια, για κάθε k-fold (άσχετο από το k του kNN), θεωρούμε ότι τα k μείον 1 folds είναι training set και ότι το fold που αφήσαμε έξω είναι το test set. \n",
        "\n",
        "Υπολογίζουμε τη μετρική σφάλματός μας στο test set που ορίζει το fold. Επαναλαμβάνουμε τη διαδικασία για τα k folds για κάθε τιμή των υπερπαραμέτρων και υπολογίζουμε τη μέση τιμή της μετρικής του σφάλματος. \n",
        "\n",
        "Με αυτό τον τρόπο, αφενός είμαστε αμερόληπτοι στην αξιολόγηση αφήνοντας τελείως έξω το test set και αφετέρου χρησιμοποιούμε αποτελεσματικά τα δεδομένα εκπαίδευσης: τα χρησιμοποιούμε όλα και παίρνοντας τη μέση τιμή εξαλείφουμε πιθανές ανωμαλίες στα δεδομένα.\n",
        "\n",
        "![Cross validation](https://sebastianraschka.com/images/faq/evaluate-a-model/k-fold.png \"Cross Validation\")\n",
        "\n",
        "To Scikit Learn έχει συναρτήσεις για να κάνει αυτόματα cross validation (να ορίζει folds και να  υπολογίζει τιμές και μέσους όρους). Θα κάνουμε 10 fold cross validation για να υπολογίσουμε τo accuracy κάθε μοντέλου."
      ]
    },
    {
      "cell_type": "code",
      "metadata": {
        "trusted": true,
        "id": "bhbhn2U2BN5S",
        "colab": {
          "base_uri": "https://localhost:8080/",
          "height": 141
        },
        "outputId": "7d7dc365-0901-4ac4-da86-63b541358843"
      },
      "source": [
        "# Every algorithm is tested and results are\n",
        "# collected and printed\n",
        "for name, model in models:\n",
        "    kfold = model_selection.KFold(n_splits=10, shuffle=True, random_state=seed)\n",
        "    cv_results = model_selection.cross_val_score(model, X, Y, cv=kfold, scoring='accuracy')\n",
        "    results.append(cv_results)\n",
        "    names.append(name)\n",
        "    msg = \"%s: %f (%f)\" % (name, cv_results.mean(), cv_results.std())\n",
        "    print(msg)"
      ],
      "execution_count": null,
      "outputs": [
        {
          "output_type": "stream",
          "text": [
            "LR: 0.744421 (0.047609)\n",
            "KNN: 0.749180 (0.044498)\n",
            "NB: 0.737758 (0.046567)\n",
            "SVC: 0.760629 (0.037630)\n",
            "LSVC: 0.755843 (0.043886)\n",
            "RFC: 0.765521 (0.047027)\n",
            "DTR: 0.720175 (0.056680)\n"
          ],
          "name": "stdout"
        }
      ]
    },
    {
      "cell_type": "code",
      "metadata": {
        "trusted": true,
        "id": "OXHzDfxeBN5Y",
        "colab": {
          "base_uri": "https://localhost:8080/",
          "height": 294
        },
        "outputId": "3f75c4b9-1ddd-4633-e45e-3c4064dd7aa8"
      },
      "source": [
        "# boxplot algorithm comparison\n",
        "import matplotlib.pyplot as plt\n",
        "fig = plt.figure()\n",
        "fig.suptitle('Algorithm Comparison')\n",
        "ax = fig.add_subplot(111)\n",
        "plt.boxplot(results)\n",
        "ax.set_xticklabels(names)\n",
        "plt.show()\n"
      ],
      "execution_count": null,
      "outputs": [
        {
          "output_type": "display_data",
          "data": {
            "image/png": "[encoded data removed]",
            "text/plain": [
              "<Figure size 432x288 with 1 Axes>"
            ]
          },
          "metadata": {
            "tags": [],
            "needs_background": "light"
          }
        }
      ]
    },
    {
      "cell_type": "markdown",
      "metadata": {
        "id": "mx5gHLOgBN5e"
      },
      "source": [
        "Ο πιο αποδοτικός αλγόριθμος για αυτό το σύνολο δεδομένων είναι ο Random Forest Classifier. Οι προεπιλεγμένες παράμετροι για έναν αλγόριθμο είναι σπάνια οι καλύτερες για το σύνολο των δεδομένων μας. \n",
        "\n",
        "Χρησιμοποιώντας το sklearn μπορούμε εύκολα να δημιουργήσουμε ένα πλέγμα παραμέτρων και να δοκιμάσουμε όλους τους πιθανούς συνδυασμούς. \n",
        "\n",
        "Η εκπαίδευση ενός μοντέλου μηχανικής μάθησης για την επίλυση ενός προβλήματος με ένα συγκεκριμένο σύνολο δεδομένων είναι μια διαδικασία δοκιμής / αποτυχίας / βελτίωσης."
      ]
    }
  ]
}