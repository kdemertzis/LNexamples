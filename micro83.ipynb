{
  "nbformat": 4,
  "nbformat_minor": 0,
  "metadata": {
    "colab": {
      "provenance": [],
      "authorship_tag": "ABX9TyNkkiVUeUakwwM4Atq3vVkz",
      "include_colab_link": true
    },
    "kernelspec": {
      "name": "python3",
      "display_name": "Python 3"
    },
    "language_info": {
      "name": "python"
    }
  },
  "cells": [
    {
      "cell_type": "markdown",
      "metadata": {
        "id": "view-in-github",
        "colab_type": "text"
      },
      "source": [
        "<a href=\"https://colab.research.google.com/github/kdemertzis/LNexamples/blob/main/micro83.ipynb\" target=\"_parent\"><img src=\"https://colab.research.google.com/assets/colab-badge.svg\" alt=\"Open In Colab\"/></a>"
      ]
    },
    {
      "cell_type": "code",
      "source": [
        "import matplotlib.pyplot as plt\n",
        "import numpy as np"
      ],
      "metadata": {
        "id": "-h8uuyQcGdLQ"
      },
      "execution_count": 66,
      "outputs": []
    },
    {
      "cell_type": "code",
      "source": [
        "cluster1 = np.random.normal(5, 1, (50, 2))\n",
        "cluster2 = np.random.normal(10, 1, (50, 2))\n",
        "cluster3 = np.random.normal(15, 1, (50, 2))"
      ],
      "metadata": {
        "id": "Qpil9gl6GeN-"
      },
      "execution_count": 67,
      "outputs": []
    },
    {
      "cell_type": "code",
      "source": [
        "anomaly1 = np.array([[6, 6]])\n",
        "anomaly2 = np.array([[9, 9]])\n",
        "anomaly3 = np.array([[14, 14]])"
      ],
      "metadata": {
        "id": "3nDqaiwnGiV3"
      },
      "execution_count": 68,
      "outputs": []
    },
    {
      "cell_type": "code",
      "source": [
        "plt.scatter(cluster1[:, 0], cluster1[:, 1], c='b', label='Cluster 1')\n",
        "plt.scatter(cluster2[:, 0], cluster2[:, 1], c='g', label='Cluster 2')\n",
        "plt.scatter(cluster3[:, 0], cluster3[:, 1], c='r', label='Cluster 3')\n",
        "plt.scatter(anomaly1[:, 0], anomaly1[:, 1], c='k', marker='x', label='Anomaly 1')\n",
        "plt.scatter(anomaly2[:, 0], anomaly2[:, 1], c='k', marker='x', label='Anomaly 2')\n",
        "plt.scatter(anomaly3[:, 0], anomaly3[:, 1], c='k', marker='x', label='Anomaly 3')\n",
        "plt.legend()\n",
        "plt.show()"
      ],
      "metadata": {
        "colab": {
          "base_uri": "https://localhost:8080/",
          "height": 265
        },
        "id": "NhIIB7edGmUK",
        "outputId": "a96c75b3-86fc-4af8-e25d-d5e670554676"
      },
      "execution_count": 69,
      "outputs": [
        {
          "output_type": "display_data",
          "data": {
            "text/plain": [
              "<Figure size 432x288 with 1 Axes>"
            ],
            "image/png": "[encoded data removed]"
          },
          "metadata": {
            "needs_background": "light"
          }
        }
      ]
    }
  ]
}