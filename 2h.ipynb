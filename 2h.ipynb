{
  "nbformat": 4,
  "nbformat_minor": 0,
  "metadata": {
    "colab": {
      "provenance": [],
      "authorship_tag": "ABX9TyOEfhKNJIqqnf/4S38yT+gc",
      "include_colab_link": true
    },
    "kernelspec": {
      "name": "python3",
      "display_name": "Python 3"
    },
    "language_info": {
      "name": "python"
    }
  },
  "cells": [
    {
      "cell_type": "markdown",
      "metadata": {
        "id": "view-in-github",
        "colab_type": "text"
      },
      "source": [
        "<a href=\"https://colab.research.google.com/github/kdemertzis/LNexamples/blob/main/2h.ipynb\" target=\"_parent\"><img src=\"https://colab.research.google.com/assets/colab-badge.svg\" alt=\"Open In Colab\"/></a>"
      ]
    },
    {
      "cell_type": "code",
      "execution_count": null,
      "metadata": {
        "colab": {
          "base_uri": "https://localhost:8080/"
        },
        "id": "MOoOedO_8yhb",
        "outputId": "d697c354-2155-4cca-f605-ebd7a065deed"
      },
      "outputs": [
        {
          "output_type": "stream",
          "name": "stdout",
          "text": [
            "Πόσα βιβλία; 12\n",
            "Κόστος ενός βιβλίου; 23\n",
            "Κόστος παραγγελίας = 233.8\n"
          ]
        }
      ],
      "source": [
        "# -*- coding: utf-8 -*-\n",
        "\"\"\"\n",
        "## **Slide 13**\n",
        "\"\"\"\n",
        "X = int(input(\"Πόσα βιβλία; \"))\n",
        "B = int(input(\"Κόστος ενός βιβλίου; \"))\n",
        "\n",
        "print(\"Κόστος παραγγελίας =\",X*B*0.8+X+1)"
      ]
    },
    {
      "cell_type": "code",
      "source": [
        "\"\"\"## **Slide 14**\"\"\"\n",
        "# Υπολογισμός κόστους παραγγελίας ab βιβλίων\n",
        "# με κόστος kb και κόστος μεταφοράς km\n",
        "ab = -1 # αρχικοποίηση αριθμού βιβλίων\n",
        "kb = -1 # αρχικοποίηση κόστους βιβλίου\n",
        "\n",
        "# Εισαγωγή αριθμού βιβλίων\n",
        "while ab <= 0: # αμυντικός προγραμματισμός ώστε ο αριθμός βιβλίων να είναι θετικός αριθμός\n",
        "  try:         # χρήση try ως αμυντικός προγραμματισμός για είσοδο \n",
        "    ab = int(input(\"Αριθμός βιβλίων: \"))\n",
        "  except ValueError: # σε περίπτωση με έγκυρης εισόδου\n",
        "    print(\"Ο αριθμός βιβλίων δεν είναι θετικός ακέραιος αριθμός.\")\n",
        "    continue\n",
        "# Εισαγωγή κόστους βιβλίου\n",
        "while kb <= 0: # αμυντικός προγραμματισμός το κόστος ενός βιβλίου να είναι θετικός αριθμός\n",
        "  try:         # χρήση try ως αμυντικός προγραμματισμός για είσοδο \n",
        "    kb = int(input(\"Κόστος ενός βιβλίου: \"))\n",
        "  except ValueError: # σε περίπτωση με έγκυρης εισόδου\n",
        "    print(\"Ο αριθμός βιβλίων δεν είναι θετικός ακέραιος αριθμός.\")\n",
        "    continue\n",
        "if ab ==1:\n",
        "  km = 2 #κόστος μεταφοράς ενός βιβλίου\n",
        "  print(\"Κόστος παραγγελίας = \", ab*kb*0.8 + km,\"€\")\n",
        "else:\n",
        "  km = 1 #κόστος μεταφοράς καθενός του επιπλέον του ενός βιβλίου\n",
        "  print(\"Κόστος παραγγελίας = \",ab*kb*0.8+km*(ab-1)+2,\"€\")"
      ],
      "metadata": {
        "colab": {
          "base_uri": "https://localhost:8080/"
        },
        "id": "WDoHq2dq9odF",
        "outputId": "7f7ed162-61d7-4ede-c50b-8fa2bc8cdfff"
      },
      "execution_count": null,
      "outputs": [
        {
          "output_type": "stream",
          "name": "stdout",
          "text": [
            "Αριθμός βιβλίων: 12\n",
            "Κόστος ενός βιβλίου: 23\n",
            "Κόστος παραγγελίας =  233.8 €\n"
          ]
        }
      ]
    },
    {
      "cell_type": "code",
      "source": [
        "\"\"\"## **Slide 15**\"\"\"\n",
        "kostos_metaforas1 = 2.0 # μεταφορικά πρώτου βιβλίου\n",
        "kostos_metaforas2 = 1.0 # μεταφορικά υπόλοιπων βιβλίων\n",
        "ekptosi = 0.8 # έκπτωση\n",
        "# Εισαγωγή αριθμού βιβλίων και κόστους βιβλίου\n",
        "while True:\n",
        "  try: # χρήση try ως αμυντικός προγραμματισμός για είσοδο\n",
        "    vivlia = int(input(\"Αριθμός βιβλίων: \"))\n",
        "    kostos_vivliou = float(input(\"Κόστος ενός βιβλίου: \"))\n",
        "    if vivlia>0 and kostos_vivliou>0: break\n",
        "    else: print(\"Παρακαλώ δώστε θετικό αριθμό\")\n",
        "  except ValueError: # σε περίπτωση με έγκυρης εισόδου\n",
        "    print(\"Το πλήθος βιβλίων πρέπει να είναι θετικός ακέραιος και το κόστος βιβλίου θετικός αριθμός.\")\n",
        "# υπολογισμός και εκτύπωση συνολικού κόστους παραγγελίας\n",
        "kostos = vivlia * kostos_vivliou * ekptosi + kostos_metaforas1 + kostos_metaforas2 * (vivlia - 1)\n",
        "print(f\"Κόστος παραγγελίας = {kostos:.2f} €\")"
      ],
      "metadata": {
        "colab": {
          "base_uri": "https://localhost:8080/"
        },
        "id": "ifsUwpfv9spl",
        "outputId": "7095e6e7-b336-4afe-a4d3-c032a9d57924"
      },
      "execution_count": null,
      "outputs": [
        {
          "output_type": "stream",
          "name": "stdout",
          "text": [
            "Αριθμός βιβλίων: 12\n",
            "Κόστος ενός βιβλίου: 23\n",
            "Κόστος παραγγελίας = 233.80 €\n"
          ]
        }
      ]
    },
    {
      "cell_type": "code",
      "source": [
        "\"\"\"## **Slide 17**\"\"\"\n",
        "mylist = [1, 2, \"a\", 3.4]\n",
        "print(mylist[0])\n",
        "print(mylist[3])"
      ],
      "metadata": {
        "colab": {
          "base_uri": "https://localhost:8080/"
        },
        "id": "rd4pX8Ku99P7",
        "outputId": "6a7c8034-b98c-4390-fa9f-eb7e0a4763c6"
      },
      "execution_count": null,
      "outputs": [
        {
          "output_type": "stream",
          "name": "stdout",
          "text": [
            "1\n",
            "3.4\n"
          ]
        }
      ]
    },
    {
      "cell_type": "code",
      "source": [
        "\"\"\"## **Slide 18**\"\"\"\n",
        "mylist[2] = 100\n",
        "print(mylist)\n",
        "\n",
        "print([1,2] + [8,9])"
      ],
      "metadata": {
        "colab": {
          "base_uri": "https://localhost:8080/"
        },
        "id": "N1NCI72I-A3V",
        "outputId": "99b6cc36-44c5-477a-f3a8-6f596f8f51dd"
      },
      "execution_count": null,
      "outputs": [
        {
          "output_type": "stream",
          "name": "stdout",
          "text": [
            "[1, 2, 100, 3.4]\n",
            "[1, 2, 8, 9]\n"
          ]
        }
      ]
    },
    {
      "cell_type": "code",
      "source": [
        "\"\"\"## **Slide 19**\"\"\"\n",
        "first_list = [\"example\", 0, 1, 2]\n",
        "print(first_list[3])\n",
        "\n",
        "print(first_list[0:3])\n",
        "\n",
        "print(first_list[-2:])"
      ],
      "metadata": {
        "colab": {
          "base_uri": "https://localhost:8080/"
        },
        "id": "stcq5fnu-FiQ",
        "outputId": "e4022877-541f-4466-f081-ddd7295cc5b5"
      },
      "execution_count": null,
      "outputs": [
        {
          "output_type": "stream",
          "name": "stdout",
          "text": [
            "2\n",
            "['example', 0, 1]\n",
            "[1, 2]\n"
          ]
        }
      ]
    },
    {
      "cell_type": "code",
      "source": [
        "\"\"\"## **Slide 21**\"\"\"\n",
        "mylist = [\"example\", 0, 1, 2]\n",
        "mylist = mylist + [2,3]\n",
        "print(mylist)\n",
        "\n",
        "mylist.append(4)\n",
        "print(mylist)\n",
        "\n",
        "mylist.extend([4,\"test\"])\n",
        "print(mylist)\n",
        "\n",
        "mylist.remove(2)\n",
        "print(mylist)\n",
        "\n",
        "mylist.pop()\n",
        "print(mylist)"
      ],
      "metadata": {
        "colab": {
          "base_uri": "https://localhost:8080/"
        },
        "id": "aozw2-A_-JjQ",
        "outputId": "2f38ae1b-f845-4f67-f9fe-1ae1660eda1d"
      },
      "execution_count": null,
      "outputs": [
        {
          "output_type": "stream",
          "name": "stdout",
          "text": [
            "['example', 0, 1, 2, 2, 3]\n",
            "['example', 0, 1, 2, 2, 3, 4]\n",
            "['example', 0, 1, 2, 2, 3, 4, 4, 'test']\n",
            "['example', 0, 1, 2, 3, 4, 4, 'test']\n",
            "['example', 0, 1, 2, 3, 4, 4]\n"
          ]
        }
      ]
    },
    {
      "cell_type": "code",
      "source": [
        "\"\"\"## **Slide 22**\"\"\"\n",
        "print(mylist.count(4))\n",
        "\n",
        "mylist[0] = 'hi'\n",
        "print(mylist)\n",
        "\n",
        "print(mylist.index(4))\n",
        "\n",
        "del mylist[0]\n",
        "print(mylist)"
      ],
      "metadata": {
        "colab": {
          "base_uri": "https://localhost:8080/"
        },
        "id": "vl60MZSL-Onk",
        "outputId": "c8735933-9f2c-4952-846d-e3f406805932"
      },
      "execution_count": null,
      "outputs": [
        {
          "output_type": "stream",
          "name": "stdout",
          "text": [
            "2\n",
            "['hi', 0, 1, 2, 3, 4, 4]\n",
            "5\n",
            "[0, 1, 2, 3, 4, 4]\n"
          ]
        }
      ]
    },
    {
      "cell_type": "code",
      "source": [
        "\"\"\"## **Slide 23**\"\"\"\n",
        "li1 = [1,2,3,4]\n",
        "li2 = [5,6,7,8]\n",
        "\n",
        "print(li1 + li2)\n",
        "print(li1 * 3)"
      ],
      "metadata": {
        "id": "rTK_nOK8-SRs"
      },
      "execution_count": null,
      "outputs": []
    },
    {
      "cell_type": "code",
      "source": [
        "\"\"\"## **Slide 24**\"\"\"\n",
        "squares = []\n",
        "for x in range(10):\n",
        "  squares.append(x**2)\n",
        "print(squares)\n",
        "\n",
        "\n",
        "squares = [x**2 for x in range(10)]\n",
        "print(squares)"
      ],
      "metadata": {
        "colab": {
          "base_uri": "https://localhost:8080/"
        },
        "id": "atECOMUP-VzH",
        "outputId": "d583294e-7773-482c-db59-99b652282544"
      },
      "execution_count": null,
      "outputs": [
        {
          "output_type": "stream",
          "name": "stdout",
          "text": [
            "[0, 1, 4, 9, 16, 25, 36, 49, 64, 81]\n",
            "[0, 1, 4, 9, 16, 25, 36, 49, 64, 81]\n"
          ]
        }
      ]
    },
    {
      "cell_type": "code",
      "source": [
        "\"\"\"## **Slide 25**\"\"\"\n",
        "li = ['a', 'b', ['cc', 'dd', ['eee', 'fff']], 'g', 'h']\n",
        "\n",
        "print(li[2])\n",
        "print(li[2][2])\n",
        "print(li[2][2][0])"
      ],
      "metadata": {
        "colab": {
          "base_uri": "https://localhost:8080/"
        },
        "id": "T4DtyBB0-Zbn",
        "outputId": "f013f53e-7786-4899-891b-049782f72960"
      },
      "execution_count": null,
      "outputs": [
        {
          "output_type": "stream",
          "name": "stdout",
          "text": [
            "['cc', 'dd', ['eee', 'fff']]\n",
            "['eee', 'fff']\n",
            "eee\n"
          ]
        }
      ]
    },
    {
      "cell_type": "code",
      "source": [
        "\"\"\"## **Slide 26**\"\"\"\n",
        "li = ['a', 'b', 'c', 'd', 'e', 'f', 'g', 'h', 'i']\n",
        "\n",
        "print(li[2:7])\n",
        "print(li[2:7:2])\n",
        "print(li[:3])\n",
        "print(li[6:])"
      ],
      "metadata": {
        "colab": {
          "base_uri": "https://localhost:8080/"
        },
        "id": "hGE3rZwA-dDY",
        "outputId": "2e5b8825-6181-46c2-9671-01c080087a1b"
      },
      "execution_count": null,
      "outputs": [
        {
          "output_type": "stream",
          "name": "stdout",
          "text": [
            "['c', 'd', 'e', 'f', 'g']\n",
            "['c', 'e', 'g']\n",
            "['a', 'b', 'c']\n",
            "['g', 'h', 'i']\n"
          ]
        }
      ]
    },
    {
      "cell_type": "code",
      "source": [
        "\"\"\"## **Slide 27**\"\"\"\n",
        "li1 = ['a', 'b', 'c', 'd', 'e']\n",
        "li2 = li1\n",
        "print(li1, \"\\n\", li2)\n",
        "\n",
        "li2[0] = \"new_value\"\n",
        "print(li1, \"\\n\", li2)\n",
        "\n",
        "print(li2 is li1)"
      ],
      "metadata": {
        "colab": {
          "base_uri": "https://localhost:8080/"
        },
        "id": "_NnQQ1IB-gf-",
        "outputId": "4b4ed6cf-ed97-41ed-d99c-8aa906786430"
      },
      "execution_count": null,
      "outputs": [
        {
          "output_type": "stream",
          "name": "stdout",
          "text": [
            "['a', 'b', 'c', 'd', 'e'] \n",
            " ['a', 'b', 'c', 'd', 'e']\n",
            "['new_value', 'b', 'c', 'd', 'e'] \n",
            " ['new_value', 'b', 'c', 'd', 'e']\n",
            "True\n"
          ]
        }
      ]
    },
    {
      "cell_type": "code",
      "source": [
        "\"\"\"## **Slide 28**\"\"\"\n",
        "li1 = ['a', 'b', 'c', 'd', 'e']\n",
        "li2 = li1[:]\n",
        "print(li1, \"\\n\", li2)\n",
        "\n",
        "li2[0] = \"new_value\"\n",
        "print(li1, \"\\n\", li2)\n",
        "\n",
        "print(li2 is li1)"
      ],
      "metadata": {
        "colab": {
          "base_uri": "https://localhost:8080/"
        },
        "id": "XffeNDPG-j0k",
        "outputId": "ca4d9d61-b5c3-4b18-fc0c-dd0c37d15e9f"
      },
      "execution_count": null,
      "outputs": [
        {
          "output_type": "stream",
          "name": "stdout",
          "text": [
            "['a', 'b', 'c', 'd', 'e'] \n",
            " ['a', 'b', 'c', 'd', 'e']\n",
            "['a', 'b', 'c', 'd', 'e'] \n",
            " ['new_value', 'b', 'c', 'd', 'e']\n",
            "False\n"
          ]
        }
      ]
    },
    {
      "cell_type": "code",
      "source": [
        "\"\"\"## **Slide 32**\"\"\"\n",
        "li = [10, 5, 125, 44, 2]\n",
        "min_num = li[0]\n",
        "\n",
        "for a in li:\n",
        "  if a < min_num:\n",
        "    min_num = a\n",
        "            \n",
        "print( \"Min: \", min_num)\n",
        "\n",
        "\n",
        "li = [10, 5, 125, 44, 2]\n",
        "max_num = li[0]\n",
        "\n",
        "for a in li:\n",
        "  if a > max_num:\n",
        "    max_num = a\n",
        "            \n",
        "print( \"Max: \", max_num)"
      ],
      "metadata": {
        "colab": {
          "base_uri": "https://localhost:8080/"
        },
        "id": "IjtrzF_Z-nZY",
        "outputId": "0faade79-2bc5-41a7-ccc9-c13e3c1a6b38"
      },
      "execution_count": null,
      "outputs": [
        {
          "output_type": "stream",
          "name": "stdout",
          "text": [
            "Min:  2\n",
            "Max:  125\n"
          ]
        }
      ]
    },
    {
      "cell_type": "code",
      "source": [
        "\"\"\"## **Slide 32**\"\"\"\n",
        "li = [10, 5, 125, 44, 2]\n",
        "num = int(input(\"Δώστε έναν αριθμό: \"))\n",
        "index = 0\n",
        "msg = \"O αριθμός {}, δεν υπάρχει στην λίστα.\".format(num)\n",
        "\n",
        "for x in li:\n",
        "  if x == num:\n",
        "    msg = \"Ο αριθμός {}  είναι στην θέση {} .\".format(num, index)\n",
        "    break\n",
        "  index +=1\n",
        "\n",
        "print(msg, \"\\nΤέλος προγράμματος\")"
      ],
      "metadata": {
        "colab": {
          "base_uri": "https://localhost:8080/"
        },
        "id": "8-g_P4LG-sox",
        "outputId": "90a9eaf8-3a27-40b2-c31e-3cf4bca10154"
      },
      "execution_count": null,
      "outputs": [
        {
          "output_type": "stream",
          "name": "stdout",
          "text": [
            "Δώστε έναν αριθμό: 12\n",
            "O αριθμός 12, δεν υπάρχει στην λίστα. \n",
            "Τέλος προγράμματος\n"
          ]
        }
      ]
    },
    {
      "cell_type": "code",
      "source": [
        "\"\"\"## **Slide 33**\"\"\"\n",
        "li = [10, 5, 125, 44, 2]\n",
        "num = int(input(\"Δώστε έναν αριθμό: \"))\n",
        "for i,x in enumerate(li):\n",
        "  if x == num:\n",
        "    print(\"Ο αριθμός {} είναι στην θέση {}.\".format(num, i))\n",
        "    break\n",
        "  else:\n",
        "    print(\"O αριθμός {} δεν υπάρχει στην λίστα.\".format(num))\n"
      ],
      "metadata": {
        "colab": {
          "base_uri": "https://localhost:8080/"
        },
        "id": "eBMe8oik-yhF",
        "outputId": "f911e43f-2561-49e0-c6f2-5d04c0153f52"
      },
      "execution_count": null,
      "outputs": [
        {
          "output_type": "stream",
          "name": "stdout",
          "text": [
            "Δώστε έναν αριθμό: 125\n",
            "O αριθμός 125 δεν υπάρχει στην λίστα.\n",
            "O αριθμός 125 δεν υπάρχει στην λίστα.\n",
            "Ο αριθμός 125 είναι στην θέση 2.\n"
          ]
        }
      ]
    },
    {
      "cell_type": "code",
      "source": [
        "\"\"\"### **Slide 34**\"\"\"\n",
        "li = [10, 5, 125, 44, 2]\n",
        "num = int(input(\"Δώστε έναν αριθμό: \"))\n",
        "if num not in li:\n",
        "  print(\"O αριθμός\", num, \"δεν υπάρχει στην λίστα.\")\n",
        "else:\n",
        "  print(\"Ο αριθμός\", num, \"είναι στην θέση\", li.index(num))\n",
        "print(\"Τέλος προγράμματος\")"
      ],
      "metadata": {
        "colab": {
          "base_uri": "https://localhost:8080/"
        },
        "id": "Py5dnQ86-9SL",
        "outputId": "fa654310-c6dd-4957-a08f-305e235e124c"
      },
      "execution_count": null,
      "outputs": [
        {
          "output_type": "stream",
          "name": "stdout",
          "text": [
            "Δώστε έναν αριθμό: 2\n",
            "Ο αριθμός 2 είναι στην θέση 4\n",
            "Τέλος προγράμματος\n"
          ]
        }
      ]
    },
    {
      "cell_type": "code",
      "source": [
        "\"\"\"### **Slide 38**\"\"\"\n",
        "t = ('example', 0, 1, 2) \n",
        "t[-3:]"
      ],
      "metadata": {
        "colab": {
          "base_uri": "https://localhost:8080/"
        },
        "id": "0b5uZ8AI_Czv",
        "outputId": "98e7ba3f-c41f-4526-9ec6-6d3a4a76497a"
      },
      "execution_count": null,
      "outputs": [
        {
          "output_type": "execute_result",
          "data": {
            "text/plain": [
              "(0, 1, 2)"
            ]
          },
          "metadata": {},
          "execution_count": 20
        }
      ]
    },
    {
      "cell_type": "code",
      "source": [
        "\"\"\"## **Slide 39**\"\"\"\n",
        "t1 = ('example', 0, 1, 2) \n",
        "l = list(t1)\n",
        "print(l)\n",
        "\n",
        "t2 = tuple(l)\n",
        "print(t2)"
      ],
      "metadata": {
        "colab": {
          "base_uri": "https://localhost:8080/"
        },
        "id": "h99L3vRC_GJ3",
        "outputId": "1dd89d07-4fd0-41de-8911-b6d9462fa845"
      },
      "execution_count": null,
      "outputs": [
        {
          "output_type": "stream",
          "name": "stdout",
          "text": [
            "['example', 0, 1, 2]\n",
            "('example', 0, 1, 2)\n"
          ]
        }
      ]
    },
    {
      "cell_type": "code",
      "source": [
        "\"\"\"## **Slide 40**\"\"\"\n",
        "a = (10)\n",
        "print(type(a))\n",
        "\n",
        "b = (10,)\n",
        "print(type(b))\n",
        "\n",
        "pi = 3,14\n",
        "print(type(pi))"
      ],
      "metadata": {
        "colab": {
          "base_uri": "https://localhost:8080/"
        },
        "id": "UBkdiDDY_J3J",
        "outputId": "e5a1f196-c433-44a3-aaed-a37d394f39b5"
      },
      "execution_count": null,
      "outputs": [
        {
          "output_type": "stream",
          "name": "stdout",
          "text": [
            "<class 'int'>\n",
            "<class 'tuple'>\n",
            "<class 'tuple'>\n"
          ]
        }
      ]
    },
    {
      "cell_type": "code",
      "source": [
        "\"\"\"## **Slide 41**\"\"\"\n",
        "t = ('red', 'green', ('blue', 'yellow'), 'black')\n",
        "print(t[0])\n",
        "print(t[-1])\n",
        "print(t[1:3])\n",
        "print(t[2][0])"
      ],
      "metadata": {
        "colab": {
          "base_uri": "https://localhost:8080/"
        },
        "id": "Al8NRAOu_OFp",
        "outputId": "29e84be1-2368-462e-b81a-f360a7b17ac1"
      },
      "execution_count": null,
      "outputs": [
        {
          "output_type": "stream",
          "name": "stdout",
          "text": [
            "red\n",
            "black\n",
            "('green', ('blue', 'yellow'))\n",
            "blue\n"
          ]
        }
      ]
    },
    {
      "cell_type": "code",
      "source": [
        "\"\"\"## **Slide 43**\"\"\"\n",
        "t = ('a', 'b', 'c', 'd', 'e')\n",
        "print(\"T: \", t)\n",
        "val = input(\"Δώστε μια συμβολοσειρά :\")\n",
        "\n",
        "t[2] = val \n",
        "\n",
        "print(\"T: \", t)\n",
        "print(\"T type:\", type(t))\n",
        "print(\"Τέλος προγράμματος\")\n",
        "\n",
        "\n",
        "t = ('a', 'b', 'c', 'd', 'e')\n",
        "print(\"T: \", t)\n",
        "val = input(\"Δώστε μια συμβολοσειρά :\")\n",
        "\n",
        "li = list(t)\n",
        "li[2] = val \n",
        "t = tuple(li)\n",
        "\n",
        "print(\"T: \", t)\n",
        "print(\"T type:\", type(t))\n",
        "print(\"Τέλος προγράμματος\")"
      ],
      "metadata": {
        "colab": {
          "base_uri": "https://localhost:8080/",
          "height": 270
        },
        "id": "Sp1yFkPX_SE5",
        "outputId": "ad9d546c-13f9-49d4-b19b-4cbbd5e94b8a"
      },
      "execution_count": null,
      "outputs": [
        {
          "name": "stdout",
          "output_type": "stream",
          "text": [
            "T:  ('a', 'b', 'c', 'd', 'e')\n",
            "Δώστε μια συμβολοσειρά :d\n"
          ]
        },
        {
          "output_type": "error",
          "ename": "TypeError",
          "evalue": "ignored",
          "traceback": [
            "\u001b[0;31m---------------------------------------------------------------------------\u001b[0m",
            "\u001b[0;31mTypeError\u001b[0m                                 Traceback (most recent call last)",
            "\u001b[0;32m<ipython-input-25-5bd4a6c43cb6>\u001b[0m in \u001b[0;36m<module>\u001b[0;34m\u001b[0m\n\u001b[1;32m      4\u001b[0m \u001b[0mval\u001b[0m \u001b[0;34m=\u001b[0m \u001b[0minput\u001b[0m\u001b[0;34m(\u001b[0m\u001b[0;34m\"Δώστε μια συμβολοσειρά :\"\u001b[0m\u001b[0;34m)\u001b[0m\u001b[0;34m\u001b[0m\u001b[0;34m\u001b[0m\u001b[0m\n\u001b[1;32m      5\u001b[0m \u001b[0;34m\u001b[0m\u001b[0m\n\u001b[0;32m----> 6\u001b[0;31m \u001b[0mt\u001b[0m\u001b[0;34m[\u001b[0m\u001b[0;36m2\u001b[0m\u001b[0;34m]\u001b[0m \u001b[0;34m=\u001b[0m \u001b[0mval\u001b[0m\u001b[0;34m\u001b[0m\u001b[0;34m\u001b[0m\u001b[0m\n\u001b[0m\u001b[1;32m      7\u001b[0m \u001b[0;34m\u001b[0m\u001b[0m\n\u001b[1;32m      8\u001b[0m \u001b[0mprint\u001b[0m\u001b[0;34m(\u001b[0m\u001b[0;34m\"T: \"\u001b[0m\u001b[0;34m,\u001b[0m \u001b[0mt\u001b[0m\u001b[0;34m)\u001b[0m\u001b[0;34m\u001b[0m\u001b[0;34m\u001b[0m\u001b[0m\n",
            "\u001b[0;31mTypeError\u001b[0m: 'tuple' object does not support item assignment"
          ]
        }
      ]
    },
    {
      "cell_type": "code",
      "source": [
        "\"\"\"## **Slide 47**\"\"\"\n",
        "s1 = {'example', 0, 1, 2}\n",
        "s1.add(3)\n",
        "print(s1) \n",
        "\n",
        "s1.update([4, 5, 6])\n",
        "print(s1)\n",
        " \n",
        "s1.add(3)\n",
        "print(s1)\n",
        "\n",
        "s1.discard('example')\n",
        "print(s1)\n"
      ],
      "metadata": {
        "colab": {
          "base_uri": "https://localhost:8080/"
        },
        "id": "s2nxfBcD_d9R",
        "outputId": "20383909-4c1e-4fa9-b19c-089e8933efe2"
      },
      "execution_count": null,
      "outputs": [
        {
          "output_type": "stream",
          "name": "stdout",
          "text": [
            "{0, 1, 2, 3, 'example'}\n",
            "{0, 1, 2, 3, 4, 5, 6, 'example'}\n",
            "{0, 1, 2, 3, 4, 5, 6, 'example'}\n",
            "{0, 1, 2, 3, 4, 5, 6}\n"
          ]
        }
      ]
    },
    {
      "cell_type": "code",
      "source": [
        "\"\"\"## **Slide 48**\"\"\"\n",
        "a = {1,2,3}\n",
        "b = {2,1,3}\n",
        "print(a == b)\n",
        "\n",
        "b.add(4)\n",
        "print(a == b)\n",
        "\n",
        "print(1 in a)"
      ],
      "metadata": {
        "colab": {
          "base_uri": "https://localhost:8080/"
        },
        "id": "YxfbB-8p_j2u",
        "outputId": "498e34f0-9b32-4caa-91d6-4a4d6cfae1d5"
      },
      "execution_count": null,
      "outputs": [
        {
          "output_type": "stream",
          "name": "stdout",
          "text": [
            "True\n",
            "False\n",
            "True\n"
          ]
        }
      ]
    },
    {
      "cell_type": "code",
      "source": [
        "\"\"\"## **Slide 50**\"\"\"\n",
        "s1 = {'example', 0, 1, 2}\n",
        "s2 = {1, 2, 3}\n",
        "print('example' in s1)\n",
        " \n",
        "print(4 in s2)\n",
        " \n",
        "print(s1.union(s2))\n",
        " \n",
        "print(s1.intersection(s2))\n",
        " \n",
        "print(s2.difference(s1))\n",
        "\n",
        "print(s2.symmetric_difference(s1))\n"
      ],
      "metadata": {
        "colab": {
          "base_uri": "https://localhost:8080/"
        },
        "id": "SuopRFOs_nXp",
        "outputId": "1a1b8f4e-74f8-4100-974b-f6dc0d108c2a"
      },
      "execution_count": null,
      "outputs": [
        {
          "output_type": "stream",
          "name": "stdout",
          "text": [
            "True\n",
            "False\n",
            "{0, 1, 2, 3, 'example'}\n",
            "{1, 2}\n",
            "{3}\n",
            "{0, 3, 'example'}\n"
          ]
        }
      ]
    },
    {
      "cell_type": "code",
      "source": [
        "\"\"\"### **Slide 52**\"\"\"\n",
        "A = {'a', '2', 'test', 'b', 23}\n",
        "B = {'a', '3', 'b', 'E', 24}\n",
        "\n",
        "C = A.symmetric_difference(B)\n",
        "print(\"C: \", C, \", μέγεθος: \", len(C))\n",
        "msg = \"Η λέξη test δεν υπάρχει σε κανένα σύνολο\"\n",
        "if ('test' in A):\n",
        "    msg = \"Η λέξη test είναι στο σύνολο Α\"\n",
        "\n",
        "if ('test' in B):\n",
        "    msg = \"Η λέξη test είναι στο σύνολο Β\"\n",
        "\n",
        "a = 0\n",
        "for x in C:\n",
        "    a += 1\n",
        "    print(a, \" : \", x, \", type: \", type(x))\n",
        "\n",
        "print(msg,\"\\nΤέλος προγράμματος\")"
      ],
      "metadata": {
        "colab": {
          "base_uri": "https://localhost:8080/"
        },
        "id": "oM5uZy-8_rKr",
        "outputId": "d18e2f90-e054-4218-fd38-54e5af5e8c05"
      },
      "execution_count": null,
      "outputs": [
        {
          "output_type": "stream",
          "name": "stdout",
          "text": [
            "C:  {'3', 23, 'test', 24, 'E', '2'} , μέγεθος:  6\n",
            "1  :  3 , type:  <class 'str'>\n",
            "2  :  23 , type:  <class 'int'>\n",
            "3  :  test , type:  <class 'str'>\n",
            "4  :  24 , type:  <class 'int'>\n",
            "5  :  E , type:  <class 'str'>\n",
            "6  :  2 , type:  <class 'str'>\n",
            "Η λέξη test είναι στο σύνολο Α \n",
            "Τέλος προγράμματος\n"
          ]
        }
      ]
    },
    {
      "cell_type": "code",
      "source": [
        "\"\"\"## **Slide 56**\"\"\"\n",
        "d1 = {'name' : 'Κώστας', 'age':43} \n",
        "print(d1['name'])\n",
        "\n",
        "d1['age'] = 44 #Ενημέρωση της τιμής υπάρχοντος κλειδιού 'age'\n",
        "print(d1['age'])\n",
        "\n",
        "d1['email'] = 'kostas@g.com' #Προσθήκη νέου ζεύγους κλειδί-τιμής\n",
        "print(d1)\n",
        "\n",
        "del d1['age'] #Αφαίρεση του ζεύγους με κλειδί 'age' από το λεξικό\n",
        "print(d1)"
      ],
      "metadata": {
        "colab": {
          "base_uri": "https://localhost:8080/"
        },
        "id": "B9ya9Idu_v3p",
        "outputId": "843a28b3-6157-4618-f65b-c05e9f7dcf68"
      },
      "execution_count": null,
      "outputs": [
        {
          "output_type": "stream",
          "name": "stdout",
          "text": [
            "Κώστας\n",
            "44\n",
            "{'name': 'Κώστας', 'age': 44, 'email': 'kostas@g.com'}\n",
            "{'name': 'Κώστας', 'email': 'kostas@g.com'}\n"
          ]
        }
      ]
    },
    {
      "cell_type": "code",
      "source": [
        "\"\"\"## **Slide 57**\"\"\"\n",
        "d1 = {'name' : 'Κώστας', 'age' : 43}\n",
        "print(d1.keys())\n",
        "print(d1.values())\n",
        "print(d1.items())"
      ],
      "metadata": {
        "colab": {
          "base_uri": "https://localhost:8080/"
        },
        "id": "faek4sUT_0LG",
        "outputId": "b13b2b0f-d05f-46a7-db7d-ebbfa10a15ab"
      },
      "execution_count": null,
      "outputs": [
        {
          "output_type": "stream",
          "name": "stdout",
          "text": [
            "dict_keys(['name', 'age'])\n",
            "dict_values(['Κώστας', 43])\n",
            "dict_items([('name', 'Κώστας'), ('age', 43)])\n"
          ]
        }
      ]
    },
    {
      "cell_type": "code",
      "source": [
        "\"\"\"## **Slide 58**\"\"\"\n",
        "first_dict = {'name' : 'Sotos', 'age' : 43}\n",
        "second_dict = {'job' : 'Dev', 'city' : 'Athens'}\n",
        "\n",
        "first_dict.update(second_dict) \n",
        "print(first_dict)\n",
        "\n",
        "\n",
        "for x in first_dict:\n",
        "  print(x)\n",
        "\n",
        "\n",
        "for x in first_dict:\n",
        "  print(x, \" : \", first_dict[x])\n",
        "\n",
        "\n",
        "for x,y in first_dict.items():\n",
        "  print(x, \" : \" ,y)\n"
      ],
      "metadata": {
        "colab": {
          "base_uri": "https://localhost:8080/"
        },
        "id": "3w3XTBUG_3nK",
        "outputId": "9a3799b8-46b3-4ba8-c72d-0fcbd146e185"
      },
      "execution_count": null,
      "outputs": [
        {
          "output_type": "stream",
          "name": "stdout",
          "text": [
            "{'name': 'Sotos', 'age': 43, 'job': 'Dev', 'city': 'Athens'}\n",
            "name\n",
            "age\n",
            "job\n",
            "city\n",
            "name  :  Sotos\n",
            "age  :  43\n",
            "job  :  Dev\n",
            "city  :  Athens\n",
            "name  :  Sotos\n",
            "age  :  43\n",
            "job  :  Dev\n",
            "city  :  Athens\n"
          ]
        }
      ]
    },
    {
      "cell_type": "code",
      "source": [
        "\"\"\"## **Slide 59**\"\"\"\n",
        "first_dict = {'name' : 'Sotos', 'age' : 43}\n",
        "\n",
        "print('name' in first_dict)\n",
        "print('Sotos' in first_dict)\n",
        "print('name' in first_dict.keys())\n",
        "print('name' in first_dict.values())\n",
        "print('Sotos' in first_dict.values())"
      ],
      "metadata": {
        "colab": {
          "base_uri": "https://localhost:8080/"
        },
        "id": "1oLbioGH_7st",
        "outputId": "14a62446-9405-4d21-c999-4c8b89fcc619"
      },
      "execution_count": null,
      "outputs": [
        {
          "output_type": "stream",
          "name": "stdout",
          "text": [
            "True\n",
            "False\n",
            "True\n",
            "False\n",
            "True\n"
          ]
        }
      ]
    },
    {
      "cell_type": "code",
      "source": [
        "\"\"\"## **Slide 60**\"\"\"\n",
        "first_dict = {'name' : 'Κώστας', 'age' : 43}\n",
        "print(first_dict['name'])\n",
        "print(first_dict.get('name'))"
      ],
      "metadata": {
        "colab": {
          "base_uri": "https://localhost:8080/"
        },
        "id": "_j9dlaKf__PD",
        "outputId": "4f654a65-02de-4f38-bc4b-a69e4ce08dc0"
      },
      "execution_count": null,
      "outputs": [
        {
          "output_type": "stream",
          "name": "stdout",
          "text": [
            "Κώστας\n",
            "Κώστας\n"
          ]
        }
      ]
    },
    {
      "cell_type": "code",
      "source": [
        "\"\"\"## **Slide 61**\"\"\"\n",
        "employees = {'1001' : {'name' : 'Κώστας',  'age' : 43},\n",
        "             '1002' : {'name' : 'Πέτρος',  'age' : 23},\n",
        "             '1003' : {'name' : 'Νίκος',  'age' : 64}}\n",
        "\n",
        "print(employees['1001']['name'])\n",
        "\n",
        "for id, info in employees.items():\n",
        "  print(\"\\nRecord :\", id)\n",
        "  for key in info:\n",
        "    print(key + ':', info[key])"
      ],
      "metadata": {
        "colab": {
          "base_uri": "https://localhost:8080/"
        },
        "id": "dUCj57oqADS3",
        "outputId": "d9035373-af90-4f90-b79c-241eb6d0f6d4"
      },
      "execution_count": null,
      "outputs": [
        {
          "output_type": "stream",
          "name": "stdout",
          "text": [
            "Κώστας\n",
            "\n",
            "Record : 1001\n",
            "name: Κώστας\n",
            "age: 43\n",
            "\n",
            "Record : 1002\n",
            "name: Πέτρος\n",
            "age: 23\n",
            "\n",
            "Record : 1003\n",
            "name: Νίκος\n",
            "age: 64\n"
          ]
        }
      ]
    },
    {
      "cell_type": "code",
      "source": [
        "\"\"\"### **Slide 62**\"\"\"\n",
        "ymnos = '''και σαν πρώτα ανδρειωμένη, χαίρε, ω χαίρε, Ἐλευθεριά!'''\n",
        "freq = {} # λεξικό καταγραφής πλήθους εμφάνισης χαρακτήρων\n",
        "\n",
        "for ch in ymnos:\n",
        "  freq[ch] = freq.get(ch, 0) + 1\n",
        "print(freq)"
      ],
      "metadata": {
        "colab": {
          "base_uri": "https://localhost:8080/"
        },
        "id": "gVdnhpgHAHS8",
        "outputId": "db386221-a3d5-46b9-df3a-4f02f46d105d"
      },
      "execution_count": null,
      "outputs": [
        {
          "output_type": "stream",
          "name": "stdout",
          "text": [
            "{'κ': 1, 'α': 6, 'ι': 3, ' ': 7, 'σ': 1, 'ν': 3, 'π': 1, 'ρ': 5, 'ώ': 1, 'τ': 1, 'δ': 1, 'ε': 5, 'ω': 2, 'μ': 1, 'έ': 1, 'η': 1, ',': 3, 'χ': 2, 'ί': 2, 'Ἐ': 1, 'λ': 1, 'υ': 1, 'θ': 1, 'ά': 1, '!': 1}\n"
          ]
        }
      ]
    },
    {
      "cell_type": "code",
      "source": [
        "\"\"\"## **Slide 65**\"\"\"\n",
        "# διαχείριση επαφών\n",
        "epafes = {}\n",
        "while True:\n",
        "  reply = input('πατήστε + για νέα επαφή, ? για λίστα επαφών\\n>>>')\n",
        "  if not reply: break\n",
        "  if reply == '+':\n",
        "    name = input('όνομα:')\n",
        "    phone = input('τηλέφωνο:')\n",
        "    if name and phone: epafes[name] = phone\n",
        "    else: print('παρακαλώ δώστε στοιχεία')\n",
        "  elif reply == '?':\n",
        "    for e in sorted(epafes):\n",
        "      print('{}: {}'.format(e, epafes[e]))"
      ],
      "metadata": {
        "colab": {
          "base_uri": "https://localhost:8080/"
        },
        "id": "j2biw_X8AKsq",
        "outputId": "ccda463b-9330-426d-b3d4-e9970702a159"
      },
      "execution_count": null,
      "outputs": [
        {
          "name": "stdout",
          "output_type": "stream",
          "text": [
            "πατήστε + για νέα επαφή, ? για λίστα επαφών\n",
            ">>>?\n",
            "πατήστε + για νέα επαφή, ? για λίστα επαφών\n",
            ">>>+\n",
            "όνομα:manos\n",
            "τηλέφωνο:6999009988\n",
            "πατήστε + για νέα επαφή, ? για λίστα επαφών\n",
            ">>>?\n",
            "manos: 6999009988\n",
            "πατήστε + για νέα επαφή, ? για λίστα επαφών\n",
            ">>>\n"
          ]
        }
      ]
    },
    {
      "cell_type": "code",
      "source": [
        "\"\"\"## **Slide 71**\"\"\"\n",
        "def hello(): #ορισμός συνάρτησης\n",
        "    print('Hello World!')\n",
        "hello() #κλήση συνάρτησης\n",
        "hello() #κλήση συνάρτησης\n",
        "\n",
        "def add(x, y):\n",
        "  return x + y # \n",
        "r = add(5, 10) #κλήση συνάρτησης\n",
        "print(r)\n",
        "r2 = add(20, 30) # 2η κλήση\n",
        "print(r2)"
      ],
      "metadata": {
        "colab": {
          "base_uri": "https://localhost:8080/"
        },
        "id": "AYi9tL0sAXZu",
        "outputId": "e926dc3c-1fcc-4bec-8eb0-f71deb04e25e"
      },
      "execution_count": null,
      "outputs": [
        {
          "output_type": "stream",
          "name": "stdout",
          "text": [
            "Hello World!\n",
            "Hello World!\n",
            "15\n",
            "50\n"
          ]
        }
      ]
    },
    {
      "cell_type": "code",
      "source": [
        "\"\"\"## **Slide 73**\"\"\"\n",
        "def hello():\n",
        "  a = 'Hello'\n",
        "  b = 'World!'\n",
        "  c = a+' '+b\n",
        "  return c\n",
        "\n",
        "res = hello()\n",
        "print(res)\n",
        "\n",
        "def hello(a, b): #ορισμός συνάρτησης με 2 παράμετρούς\n",
        "  c = a + ' '  +b #εντολές \n",
        "  return c #επιστροφή αποτελέσματος\n",
        "res = hello('καλή', 'μέρα!') #κλήση συνάρτησης με ορίσματα παραμέτρων\n",
        "print(res)"
      ],
      "metadata": {
        "colab": {
          "base_uri": "https://localhost:8080/"
        },
        "id": "tmDmpTzqAems",
        "outputId": "3e9a7693-eb16-41df-9b45-78d3a98764ec"
      },
      "execution_count": null,
      "outputs": [
        {
          "output_type": "stream",
          "name": "stdout",
          "text": [
            "Hello World!\n",
            "καλή μέρα!\n"
          ]
        }
      ]
    },
    {
      "cell_type": "code",
      "source": [
        "\"\"\"## **Slide 74**\"\"\"\n",
        "def compare(x, y):\n",
        "  if x > y:\n",
        "    res = 'x is bigger than y'\n",
        "  elif x < y:\n",
        "    res = 'x is smaller than y'\n",
        "  else:\n",
        "    res = 'x is equal with y'\n",
        "  return res\n",
        "\n",
        "print(compare(2, 15))\n",
        "print(compare(22, 15))\n",
        "\n",
        "print(compare(y=22, x=1))"
      ],
      "metadata": {
        "colab": {
          "base_uri": "https://localhost:8080/"
        },
        "id": "WVD1r0QfAjIP",
        "outputId": "4ac1122b-9bf5-4ad1-e210-cabbe73174a7"
      },
      "execution_count": null,
      "outputs": [
        {
          "output_type": "stream",
          "name": "stdout",
          "text": [
            "x is smaller than y\n",
            "x is bigger than y\n",
            "x is smaller than y\n"
          ]
        }
      ]
    },
    {
      "cell_type": "code",
      "source": [
        "\"\"\"## **Slide 75**\"\"\"\n",
        "def compare(x, y=10):# το x είναι υποχρεωτικό και το y προαιρετικό\n",
        "  if x > y:\n",
        "    res = 'x is bigger than y'\n",
        "  elif x < y:\n",
        "    res = 'x is smaller than y'\n",
        "  else:\n",
        "    res = 'x is equal with y'\n",
        "  return res\n",
        "\n",
        "print(compare(x=5))\n",
        "print(compare(x=5, y=2))\n",
        "print(compare(y=2))"
      ],
      "metadata": {
        "colab": {
          "base_uri": "https://localhost:8080/",
          "height": 235
        },
        "id": "QCpXfPz1AnGA",
        "outputId": "d7f4aaf4-d462-47e0-a11e-d3c6ddaa73fe"
      },
      "execution_count": null,
      "outputs": [
        {
          "output_type": "stream",
          "name": "stdout",
          "text": [
            "x is smaller than y\n",
            "x is bigger than y\n"
          ]
        },
        {
          "output_type": "error",
          "ename": "TypeError",
          "evalue": "ignored",
          "traceback": [
            "\u001b[0;31m---------------------------------------------------------------------------\u001b[0m",
            "\u001b[0;31mTypeError\u001b[0m                                 Traceback (most recent call last)",
            "\u001b[0;32m<ipython-input-41-4cd6b98d30e3>\u001b[0m in \u001b[0;36m<module>\u001b[0;34m\u001b[0m\n\u001b[1;32m     11\u001b[0m \u001b[0mprint\u001b[0m\u001b[0;34m(\u001b[0m\u001b[0mcompare\u001b[0m\u001b[0;34m(\u001b[0m\u001b[0mx\u001b[0m\u001b[0;34m=\u001b[0m\u001b[0;36m5\u001b[0m\u001b[0;34m)\u001b[0m\u001b[0;34m)\u001b[0m\u001b[0;34m\u001b[0m\u001b[0;34m\u001b[0m\u001b[0m\n\u001b[1;32m     12\u001b[0m \u001b[0mprint\u001b[0m\u001b[0;34m(\u001b[0m\u001b[0mcompare\u001b[0m\u001b[0;34m(\u001b[0m\u001b[0mx\u001b[0m\u001b[0;34m=\u001b[0m\u001b[0;36m5\u001b[0m\u001b[0;34m,\u001b[0m \u001b[0my\u001b[0m\u001b[0;34m=\u001b[0m\u001b[0;36m2\u001b[0m\u001b[0;34m)\u001b[0m\u001b[0;34m)\u001b[0m\u001b[0;34m\u001b[0m\u001b[0;34m\u001b[0m\u001b[0m\n\u001b[0;32m---> 13\u001b[0;31m \u001b[0mprint\u001b[0m\u001b[0;34m(\u001b[0m\u001b[0mcompare\u001b[0m\u001b[0;34m(\u001b[0m\u001b[0my\u001b[0m\u001b[0;34m=\u001b[0m\u001b[0;36m2\u001b[0m\u001b[0;34m)\u001b[0m\u001b[0;34m)\u001b[0m\u001b[0;34m\u001b[0m\u001b[0;34m\u001b[0m\u001b[0m\n\u001b[0m",
            "\u001b[0;31mTypeError\u001b[0m: compare() missing 1 required positional argument: 'x'"
          ]
        }
      ]
    },
    {
      "cell_type": "code",
      "source": [
        "\"\"\"## **Slide 76**\"\"\"\n",
        "def add_arbitrary(*args): # δεν γνωρίζουμε το πλήθος των ορισμάτων\n",
        "  s = 0\n",
        "  for number in args:\n",
        "    s += number\n",
        "  return s\n",
        "\n",
        "x = 3\n",
        "y = 4\n",
        "print(add_arbitrary(x, y)) #κλήση με δύο ορίσματα\n",
        "\n",
        "z = 5\n",
        "w = 6\n",
        "print(add_arbitrary(x, y, z, w)) #κλήση με 4 ορίσματα\n"
      ],
      "metadata": {
        "colab": {
          "base_uri": "https://localhost:8080/"
        },
        "id": "bzEH7eAMAu4V",
        "outputId": "47e48542-778b-4a6b-cc18-88683a305cb3"
      },
      "execution_count": null,
      "outputs": [
        {
          "output_type": "stream",
          "name": "stdout",
          "text": [
            "7\n",
            "18\n"
          ]
        }
      ]
    },
    {
      "cell_type": "code",
      "source": [
        "\"\"\"## **Slide 77**\"\"\"\n",
        "li = [1,2,4]\n",
        "print(li)\n",
        "\n",
        "print(*li)"
      ],
      "metadata": {
        "colab": {
          "base_uri": "https://localhost:8080/"
        },
        "id": "Pc5LPW55Azb4",
        "outputId": "bfa28422-ecaa-4eb3-d009-ec2b6ee9b789"
      },
      "execution_count": null,
      "outputs": [
        {
          "output_type": "stream",
          "name": "stdout",
          "text": [
            "[1, 2, 4]\n",
            "1 2 4\n"
          ]
        }
      ]
    },
    {
      "cell_type": "code",
      "source": [
        "\"\"\"## **Slide 78**\"\"\"\n",
        "def helloWorld():\n",
        "  a = 'Hello'\n",
        "  b = 'World! '\n",
        "  c = a + ' ' + b\n",
        "  return c\n",
        "\n",
        "print(helloWorld()) \n",
        "print(a)"
      ],
      "metadata": {
        "colab": {
          "base_uri": "https://localhost:8080/"
        },
        "id": "mXZ9pkK9A2z6",
        "outputId": "d8015b6d-e36b-4522-cd54-05924f16d5fd"
      },
      "execution_count": null,
      "outputs": [
        {
          "output_type": "stream",
          "name": "stdout",
          "text": [
            "Hello World! \n",
            "6\n"
          ]
        }
      ]
    },
    {
      "cell_type": "code",
      "source": [
        "\"\"\"## **Slide 79**\"\"\"\n",
        "a = 'Hello'\n",
        "\n",
        "def helloWorld():\n",
        "  b = 'World! '\n",
        "  c = a + ' ' + b\n",
        "  return c\n",
        "\n",
        "print(helloWorld()) \n",
        "print(a)"
      ],
      "metadata": {
        "colab": {
          "base_uri": "https://localhost:8080/"
        },
        "id": "kR9zOPetA6nq",
        "outputId": "e361faa3-5b19-47cc-e63e-0ff8a5db97a8"
      },
      "execution_count": null,
      "outputs": [
        {
          "output_type": "stream",
          "name": "stdout",
          "text": [
            "Hello World! \n",
            "Hello\n"
          ]
        }
      ]
    },
    {
      "cell_type": "code",
      "source": [
        "\"\"\"## **Slide 80**\"\"\"\n",
        "\n",
        "a = 'Hello'\n",
        "def hello():\n",
        "  b = 'World!'\n",
        "  c = a + ' ' + b\n",
        "  return c\n",
        "print(hello()) \n",
        "print(a)\n",
        "\n",
        "\n",
        "a = 'Hello'\n",
        "def hello(new_a):\n",
        "  a = new_a      \n",
        "  b = 'World!'\n",
        "  c = a + ' ' + b\n",
        "  return c\n",
        "print(hello('Demo')) \n",
        "print(a)\n",
        "\n",
        "\n",
        "a = 'Hello'\n",
        "def hello(new_a):\n",
        "  global a\n",
        "  a = new_a \n",
        "  b = 'World!'\n",
        "  c = a + ' ' + b\n",
        "  return c\n",
        "print(hello('Demo')) \n",
        "print(a)"
      ],
      "metadata": {
        "colab": {
          "base_uri": "https://localhost:8080/"
        },
        "id": "jaXkpjXkA-eg",
        "outputId": "25419bc6-a4bb-4eb8-c6d3-c3d4add31b38"
      },
      "execution_count": null,
      "outputs": [
        {
          "output_type": "stream",
          "name": "stdout",
          "text": [
            "Hello World!\n",
            "Hello\n",
            "Demo World!\n",
            "Hello\n",
            "Demo World!\n",
            "Demo\n"
          ]
        }
      ]
    },
    {
      "cell_type": "code",
      "source": [
        "\"\"\"## **Slide 81**\"\"\"\n",
        "def countdown(num):\n",
        "  if num <= 0:\n",
        "    print('Stop')\n",
        "  else:\n",
        "    print(num)\n",
        "    countdown(num-1)\n",
        "countdown(4)"
      ],
      "metadata": {
        "colab": {
          "base_uri": "https://localhost:8080/"
        },
        "id": "NNYDsbUDBDPG",
        "outputId": "eedb47de-2c57-4adb-cd51-04f5b140726a"
      },
      "execution_count": null,
      "outputs": [
        {
          "output_type": "stream",
          "name": "stdout",
          "text": [
            "4\n",
            "3\n",
            "2\n",
            "1\n",
            "Stop\n"
          ]
        }
      ]
    },
    {
      "cell_type": "code",
      "source": [
        "\"\"\"## **Slide 83**\"\"\"\n",
        "def factorial_recursive(num):\n",
        "  '''αναδρομικός υπολογισμός παραγοντικού'''\n",
        "  if num == 0 or num == 1:\n",
        "    return 1\n",
        "  return num * factorial_recursive(num-1)\n",
        "\n",
        "def factorial_iteration(num):\n",
        "  ''' επαναληπτικός υπολογισμός παραγοντικού'''\n",
        "  if num == 0 or num == 1:\n",
        "    return 1\n",
        "  p = 1\n",
        "  for i in range(1,num+1):\n",
        "    p *= i\n",
        "  return p  \n",
        "\n",
        "\n",
        "print(factorial_recursive(5))\n",
        "print(factorial_iteration(5))"
      ],
      "metadata": {
        "colab": {
          "base_uri": "https://localhost:8080/"
        },
        "id": "5PoQtgswBGi3",
        "outputId": "18f8b87e-9e18-4406-a386-e64a91dc7d36"
      },
      "execution_count": null,
      "outputs": [
        {
          "output_type": "stream",
          "name": "stdout",
          "text": [
            "120\n",
            "120\n"
          ]
        }
      ]
    },
    {
      "cell_type": "code",
      "source": [
        "\"\"\"## **Slide 84**\"\"\"\n",
        "def prosthesi(x, y):\n",
        "  \"\"\"Η συνάρτηση αυτή πραγματοποιεί πρόσθεση δύο αριθμών και επιστρέφει το αποτέλεσμα\"\"\"\n",
        "  c = x+y\n",
        "  return c\n",
        "print(prosthesi(2, 3))\n",
        "print(prosthesi.__doc__)"
      ],
      "metadata": {
        "colab": {
          "base_uri": "https://localhost:8080/"
        },
        "id": "MZxA86wBBKjG",
        "outputId": "7f286acf-b62b-404b-f653-f1e210ae80e5"
      },
      "execution_count": null,
      "outputs": [
        {
          "output_type": "stream",
          "name": "stdout",
          "text": [
            "5\n",
            "Η συνάρτηση αυτή πραγματοποιεί πρόσθεση δύο αριθμών και επιστρέφει το αποτέλεσμα\n"
          ]
        }
      ]
    },
    {
      "cell_type": "code",
      "source": [
        "\"\"\"## **Slide 86**\"\"\"\n",
        "!pip install mathimatika\n",
        "#mathimatika.py\n",
        "def prosthesi(x, y):\n",
        "  \"\"\"Η συνάρτηση αυτή πραγματοποιεί πρόσθεση δύο αριθμών και επιστρέφει το αποτέλεσμα\"\"\"\n",
        "  c = x+y\n",
        "  return c\n",
        "\n",
        "def aferesi(x, y):\n",
        "  \"\"\"Η συνάρτηση αυτή πραγματοποιεί αφαίρεση ενός αριθμού από έναν άλλον και επιστρέφει το αποτέλεσμα\"\"\"\n",
        "  c = x-y\n",
        "  return c\n",
        "\n",
        "#my_code.py\n",
        "from  mathimatika import *\n",
        "\n",
        "res = prosthesi(1, 3)\n",
        "print(res)\n",
        "res2 = aferesi(5, 3)\n",
        "print(res2)"
      ],
      "metadata": {
        "colab": {
          "base_uri": "https://localhost:8080/",
          "height": 426
        },
        "id": "6jHih6xqBPCm",
        "outputId": "c583d039-d08f-4f3b-ab0a-10771be272c2"
      },
      "execution_count": null,
      "outputs": [
        {
          "output_type": "stream",
          "name": "stdout",
          "text": [
            "Looking in indexes: https://pypi.org/simple, https://us-python.pkg.dev/colab-wheels/public/simple/\n",
            "\u001b[31mERROR: Could not find a version that satisfies the requirement mathimatika (from versions: none)\u001b[0m\n",
            "\u001b[31mERROR: No matching distribution found for mathimatika\u001b[0m\n"
          ]
        },
        {
          "output_type": "error",
          "ename": "ModuleNotFoundError",
          "evalue": "ignored",
          "traceback": [
            "\u001b[0;31m---------------------------------------------------------------------------\u001b[0m",
            "\u001b[0;31mModuleNotFoundError\u001b[0m                       Traceback (most recent call last)",
            "\u001b[0;32m<ipython-input-51-14cce2fdaf9e>\u001b[0m in \u001b[0;36m<module>\u001b[0;34m\u001b[0m\n\u001b[1;32m     13\u001b[0m \u001b[0;34m\u001b[0m\u001b[0m\n\u001b[1;32m     14\u001b[0m \u001b[0;31m#my_code.py\u001b[0m\u001b[0;34m\u001b[0m\u001b[0;34m\u001b[0m\u001b[0;34m\u001b[0m\u001b[0m\n\u001b[0;32m---> 15\u001b[0;31m \u001b[0;32mfrom\u001b[0m  \u001b[0mmathimatika\u001b[0m \u001b[0;32mimport\u001b[0m \u001b[0;34m*\u001b[0m\u001b[0;34m\u001b[0m\u001b[0;34m\u001b[0m\u001b[0m\n\u001b[0m\u001b[1;32m     16\u001b[0m \u001b[0;34m\u001b[0m\u001b[0m\n\u001b[1;32m     17\u001b[0m \u001b[0mres\u001b[0m \u001b[0;34m=\u001b[0m \u001b[0mprosthesi\u001b[0m\u001b[0;34m(\u001b[0m\u001b[0;36m1\u001b[0m\u001b[0;34m,\u001b[0m \u001b[0;36m3\u001b[0m\u001b[0;34m)\u001b[0m\u001b[0;34m\u001b[0m\u001b[0;34m\u001b[0m\u001b[0m\n",
            "\u001b[0;31mModuleNotFoundError\u001b[0m: No module named 'mathimatika'",
            "",
            "\u001b[0;31m---------------------------------------------------------------------------\u001b[0;32m\nNOTE: If your import is failing due to a missing package, you can\nmanually install dependencies using either !pip or !apt.\n\nTo view examples of installing some common dependencies, click the\n\"Open Examples\" button below.\n\u001b[0;31m---------------------------------------------------------------------------\u001b[0m\n"
          ],
          "errorDetails": {
            "actions": [
              {
                "action": "open_url",
                "actionText": "Open Examples",
                "url": "/notebooks/snippets/importing_libraries.ipynb"
              }
            ]
          }
        }
      ]
    },
    {
      "cell_type": "code",
      "source": [
        "\"\"\"## **Slide 88**\"\"\"\n",
        "def pascal_triangle(n):\n",
        "    triangle = []\n",
        "    for i in range(n):\n",
        "        triangle.append([1]*(i+1))\n",
        "    for i in range(2,n):\n",
        "        for j in range(1,i):\n",
        "            triangle[i][j] = triangle[i-1][j-1] + triangle[i-1][j]\n",
        "    for x in triangle:\n",
        "        print(x)\n",
        "    return triangle\n",
        "pascal_triangle(5)\n",
        "\n",
        "# Εναλλακτικά (αναδρομική)\n",
        "def pascal_triangle(n):\n",
        "  if n<2: return [1]\n",
        "  L = pascal_triangle(n-1)\n",
        "  print(L)\n",
        "  M = []\n",
        "  for i in range(n-2):\n",
        "    M.append(L[i]+L[i+1])\n",
        "  return [1]+M+[1]\n",
        "pascal_triangle(5)\n",
        "\n",
        "def pascal_triangle_v2(n):\n",
        "   trow = [1]\n",
        "   y = [0]\n",
        "   for x in range(n):\n",
        "      print(trow)\n",
        "      trow=[l+r for l,r in zip(trow+y, y+trow)]\n",
        "   return n>=1\n",
        "pascal_triangle_v2(5)"
      ],
      "metadata": {
        "colab": {
          "base_uri": "https://localhost:8080/"
        },
        "id": "XTtNWmv5BjEl",
        "outputId": "6c72482f-3320-497a-c3e8-b64228fa24c6"
      },
      "execution_count": null,
      "outputs": [
        {
          "output_type": "stream",
          "name": "stdout",
          "text": [
            "[1]\n",
            "[1, 1]\n",
            "[1, 2, 1]\n",
            "[1, 3, 3, 1]\n",
            "[1, 4, 6, 4, 1]\n",
            "[1]\n",
            "[1, 1]\n",
            "[1, 2, 1]\n",
            "[1, 3, 3, 1]\n",
            "[1]\n",
            "[1, 1]\n",
            "[1, 2, 1]\n",
            "[1, 3, 3, 1]\n",
            "[1, 4, 6, 4, 1]\n"
          ]
        },
        {
          "output_type": "execute_result",
          "data": {
            "text/plain": [
              "True"
            ]
          },
          "metadata": {},
          "execution_count": 52
        }
      ]
    },
    {
      "cell_type": "code",
      "source": [
        "\"\"\"## **Slide 91**\"\"\"\n",
        "import random\n",
        "print(random.random())\n",
        "print(random.randint(1,10))\n",
        "print(random.randrange(1,10,2))\n",
        "print(random.uniform(1,10))\n",
        "\n",
        "import random\n",
        "print(random.seed(35))\n",
        "print(random.random())\n",
        "print(random.randint(1,10))\n",
        "print(random.randrange(1,10,2))\n",
        "print(random.uniform(1,10))"
      ],
      "metadata": {
        "colab": {
          "base_uri": "https://localhost:8080/"
        },
        "id": "hN61mOhXBq0l",
        "outputId": "d7b42428-833e-4200-fa44-c2b858cd3d88"
      },
      "execution_count": null,
      "outputs": [
        {
          "output_type": "stream",
          "name": "stdout",
          "text": [
            "0.5878578190603554\n",
            "10\n",
            "3\n",
            "4.894579353495784\n",
            "None\n",
            "0.5486946056438222\n",
            "3\n",
            "5\n",
            "8.785406115550089\n"
          ]
        }
      ]
    },
    {
      "cell_type": "code",
      "source": [
        "\"\"\"## **Slide 93**\"\"\"\n",
        "#coffee-vendor-v1.py\n",
        "drinks = {\n",
        "    '1': ['Καφές: 1.50 €', 150],\n",
        "    '2': ['Καφές με γάλα: 1.80 €', 180],\n",
        "    '3': ['Σοκολάτα: 2.10 €', 210],\n",
        "    '4': ['Σοκολάτα με γάλα: 2.40 €', 240]\n",
        "}\n",
        "currencies = [10, 20, 50, 100, 200, 500, 1000] # accepted coins/notes\n",
        "\n",
        "def menu():\n",
        "    '''βασικό μενού επιστρέφει ως ακέραιο την επιλογή του χρήστη'''\n",
        "    print(30*\"_\")\n",
        "    for drink in drinks:\n",
        "        print(drink, drinks[drink][0])\n",
        "    print(\"0\", \"Έξοδος\")\n",
        "    print(30*\"_\")\n",
        "    while True:\n",
        "        reply = input(\"Επιλέξτε ρόφημα (1-4) ή 0 για έξοδο: \")\n",
        "        if reply in drinks.keys() or reply == '0': break\n",
        "    return int(reply)\n",
        "\n",
        "def process_payment(selection):\n",
        "    '''μηχανισμός πληρωμής με βάση την επιλογή του χρήστη'''\n",
        "    msg_currencies = '\\nΠαρακαλώ εισάγετε .10, .20, .50, 1, 2, 5, 10 € :'\n",
        "    to_pay = drinks[str(selection)][1]\n",
        "    print(f'\\nΈχει παραγγελθεί: {drinks[str(selection)][0]}\\n')\n",
        "    while True:\n",
        "        try:\n",
        "            new_payment = int(float(input(msg_currencies))*100)\n",
        "        except ValueError:\n",
        "            # print('Προσοχή επιλέξτε αποδεκτά νομίσματα')\n",
        "            continue\n",
        "        if new_payment in currencies:\n",
        "            to_pay -= new_payment\n",
        "            if to_pay > 0:\n",
        "                print(f\"Πρέπει να πληρώσετε {to_pay/100:.2f}€ ακόμη\")\n",
        "            else: break\n",
        "    manage_rest(-to_pay)\n",
        "\n",
        "def manage_rest(rest, cancel=False):\n",
        "    '''υπολογίζει και πληροφορεί τον χρήστη για τα ρέστα του'''\n",
        "    # TODO: να υλοποιήσουμε τη δυνατότητα ακύρωσης παραγγελίας ενώ γίνεται η πληρωμή\n",
        "    if rest: \n",
        "        print(f'Παρακαλώ παραλάβετε {rest/100:.2f} ρέστα...')\n",
        "        for currency in sorted(currencies[:-1], reverse=True ):\n",
        "            quantity = rest//currency\n",
        "            if quantity: \n",
        "                print(f'ρέστα: {quantity} x {currency/100:.2f}€')\n",
        "                rest -= quantity * currency\n",
        "                if not rest: break\n",
        "    if not cancel: print('\\nΑπολαύστε το ρόφημά σας...')\n",
        "\n",
        "##  κυρίως πρόγραμμα \n",
        "if __name__ == \"__main__\":\n",
        "    while True:\n",
        "        user_selection = menu()\n",
        "        if not user_selection: break\n",
        "        process_payment(user_selection)\n",
        "\n",
        "\n",
        "#coffee-vendor-v2.py\n",
        "drinks = {\n",
        "    '1': ['Καφές: 1.50 €', 150],\n",
        "    '2': ['Καφές με γάλα: 1.80 €', 180],\n",
        "    '3': ['Σοκολάτα: 2.10 €', 210],\n",
        "    '4': ['Σοκολάτα με γάλα: 2.40 €', 240]\n",
        "}\n",
        "currencies = [10, 20, 50, 100, 200, 500, 1000] # accepted coins/notes\n",
        "\n",
        "def menu():\n",
        "    '''βασικό μενού επιστρέφει ως ακέραιο την επιλογή του χρήστη'''\n",
        "    print(30*\"_\")\n",
        "    for drink in drinks:\n",
        "        print(drink, drinks[drink][0])\n",
        "    print(\"0\", \"Έξοδος\")\n",
        "    print(30*\"_\")\n",
        "    while True:\n",
        "        reply = input(\"Επιλέξτε ρόφημα (1-4) ή 0 για έξοδο: \")\n",
        "        if reply in drinks.keys() or reply == '0': break\n",
        "    return int(reply)\n",
        "\n",
        "def process_payment(selection):\n",
        "    '''μηχανισμός πληρωμής με βάση την επιλογή του χρήστη'''\n",
        "    msg_currencies = '\\nΠαρακαλώ εισάγετε .10, .20, .50, 1, 2, 5, 10 € :'\n",
        "    to_pay = drinks[str(selection)][1]\n",
        "    print(f'\\nΈχει παραγγελθεί: {drinks[str(selection)][0]}\\n')\n",
        "    while True:\n",
        "        try:\n",
        "            new_payment = int(float(input(msg_currencies))*100)\n",
        "        except ValueError:\n",
        "            # print('Προσοχή επιλέξτε αποδεκτά νομίσματα')\n",
        "            continue\n",
        "        if new_payment in currencies:\n",
        "            to_pay -= new_payment\n",
        "            if to_pay > 0:\n",
        "                print(f\"Πρέπει να πληρώσετε {to_pay/100:.2f}€ ακόμη\")\n",
        "            else: break\n",
        "    manage_rest(-to_pay)\n",
        "\n",
        "def manage_rest(rest, cancel=False):\n",
        "    '''υπολογίζει και πληροφορεί τον χρήστη για τα ρέστα του'''\n",
        "    # TODO: να υλοποιήσουμε τη δυνατότητα ακύρωσης παραγγελίας ενώ γίνεται η πληρωμή\n",
        "    if rest: \n",
        "        print(f'Παρακαλώ παραλάβετε {rest/100:.2f} ρέστα...')\n",
        "        for currency in sorted(currencies[:-1], reverse=True ):\n",
        "            quantity = rest//currency\n",
        "            if quantity: \n",
        "                print(f'ρέστα: {quantity} x {currency/100:.2f}€')\n",
        "                rest -= quantity * currency\n",
        "                if not rest: break\n",
        "    if not cancel: print('\\nΑπολαύστε το ρόφημά σας...')\n",
        "\n",
        "##  κυρίως πρόγραμμα \n",
        "if __name__ == \"__main__\":\n",
        "    while True:\n",
        "        user_selection = menu()\n",
        "        if not user_selection: break\n",
        "        process_payment(user_selection)"
      ],
      "metadata": {
        "colab": {
          "base_uri": "https://localhost:8080/"
        },
        "id": "m_PbDlYwBu5N",
        "outputId": "3d5ab9fe-9945-481a-ce56-80f40880308d"
      },
      "execution_count": null,
      "outputs": [
        {
          "name": "stdout",
          "output_type": "stream",
          "text": [
            "______________________________\n",
            "1 Καφές: 1.50 €\n",
            "2 Καφές με γάλα: 1.80 €\n",
            "3 Σοκολάτα: 2.10 €\n",
            "4 Σοκολάτα με γάλα: 2.40 €\n",
            "0 Έξοδος\n",
            "______________________________\n",
            "Επιλέξτε ρόφημα (1-4) ή 0 για έξοδο: 1\n",
            "\n",
            "Έχει παραγγελθεί: Καφές: 1.50 €\n",
            "\n",
            "\n",
            "Παρακαλώ εισάγετε .10, .20, .50, 1, 2, 5, 10 € :20\n",
            "\n",
            "Παρακαλώ εισάγετε .10, .20, .50, 1, 2, 5, 10 € :10\n",
            "Παρακαλώ παραλάβετε 8.50 ρέστα...\n",
            "ρέστα: 1 x 5.00€\n",
            "ρέστα: 1 x 2.00€\n",
            "ρέστα: 1 x 1.00€\n",
            "ρέστα: 1 x 0.50€\n",
            "\n",
            "Απολαύστε το ρόφημά σας...\n",
            "______________________________\n",
            "1 Καφές: 1.50 €\n",
            "2 Καφές με γάλα: 1.80 €\n",
            "3 Σοκολάτα: 2.10 €\n",
            "4 Σοκολάτα με γάλα: 2.40 €\n",
            "0 Έξοδος\n",
            "______________________________\n",
            "Επιλέξτε ρόφημα (1-4) ή 0 για έξοδο: 0\n",
            "______________________________\n",
            "1 Καφές: 1.50 €\n",
            "2 Καφές με γάλα: 1.80 €\n",
            "3 Σοκολάτα: 2.10 €\n",
            "4 Σοκολάτα με γάλα: 2.40 €\n",
            "0 Έξοδος\n",
            "______________________________\n",
            "Επιλέξτε ρόφημα (1-4) ή 0 για έξοδο: 0\n"
          ]
        }
      ]
    },
    {
      "cell_type": "code",
      "source": [
        "\"\"\"## **Slide 98**\"\"\"\n",
        "a = [1,2,3]\n",
        "b = a\n",
        "a.append(4)\n",
        "print(b)\n",
        "\n",
        "a = 5\n",
        "b = a\n",
        "a+=1\n",
        "print(b)\n"
      ],
      "metadata": {
        "colab": {
          "base_uri": "https://localhost:8080/"
        },
        "id": "8Z0e-UqHB97y",
        "outputId": "ac3a4e7c-cf35-42fc-f4a1-eb3c50945753"
      },
      "execution_count": null,
      "outputs": [
        {
          "output_type": "stream",
          "name": "stdout",
          "text": [
            "[1, 2, 3, 4]\n",
            "5\n"
          ]
        }
      ]
    }
  ]
}