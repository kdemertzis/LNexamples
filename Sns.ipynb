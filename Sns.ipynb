{
  "nbformat": 4,
  "nbformat_minor": 0,
  "metadata": {
    "colab": {
      "provenance": [],
      "authorship_tag": "ABX9TyMlRgH4dtgyuzKbRSv2KYdH",
      "include_colab_link": true
    },
    "kernelspec": {
      "name": "python3",
      "display_name": "Python 3"
    },
    "language_info": {
      "name": "python"
    }
  },
  "cells": [
    {
      "cell_type": "markdown",
      "metadata": {
        "id": "view-in-github",
        "colab_type": "text"
      },
      "source": [
        "<a href=\"https://colab.research.google.com/github/kdemertzis/LNexamples/blob/main/Sns.ipynb\" target=\"_parent\"><img src=\"https://colab.research.google.com/assets/colab-badge.svg\" alt=\"Open In Colab\"/></a>"
      ]
    },
    {
      "cell_type": "code",
      "source": [
        "from sklearn.cluster import KMeans\n",
        "from sklearn.decomposition import PCA\n",
        "from sklearn.preprocessing import StandardScaler\n",
        "import matplotlib.pyplot as plt\n",
        "import seaborn as sns"
      ],
      "metadata": {
        "id": "22DVjjCKEyIG"
      },
      "execution_count": null,
      "outputs": []
    },
    {
      "cell_type": "code",
      "source": [],
      "metadata": {
        "id": "kCYZjHBhFBE4"
      },
      "execution_count": null,
      "outputs": []
    },
    {
      "cell_type": "code",
      "source": [
        "data = pd.read_csv('data.csv')\n",
        "scaler = StandardScaler()\n",
        "data_scaled = scaler.fit_transform(data)"
      ],
      "metadata": {
        "id": "SqcKTjmzEz__"
      },
      "execution_count": null,
      "outputs": []
    },
    {
      "cell_type": "code",
      "source": [
        "kmeans = KMeans(n_clusters=3)\n",
        "kmeans.fit(data_scaled)"
      ],
      "metadata": {
        "id": "b88knWNKFDKv"
      },
      "execution_count": null,
      "outputs": []
    },
    {
      "cell_type": "code",
      "source": [
        "pca = PCA(n_components=2)\n",
        "pca_transformed = pca.fit_transform(data_scaled)"
      ],
      "metadata": {
        "id": "dwGxu0BoFIH7"
      },
      "execution_count": null,
      "outputs": []
    },
    {
      "cell_type": "code",
      "source": [
        "sns.scatterplot(x=pca_transformed[:,0], y=pca_transformed[:,1], hue=kmeans.labels_, palette='Set1')\n",
        "plt.title('Intra-cluster similarity')\n",
        "plt.show()"
      ],
      "metadata": {
        "id": "1pk46ylqFNYj"
      },
      "execution_count": null,
      "outputs": []
    },
    {
      "cell_type": "code",
      "source": [
        "distance = kmeans.transform(data_scaled)"
      ],
      "metadata": {
        "id": "tOE4JNHJFRty"
      },
      "execution_count": null,
      "outputs": []
    },
    {
      "cell_type": "code",
      "source": [
        "anomaly_index = distance.argmax(axis=0)\n",
        "anomaly = data.iloc[anomaly_index]"
      ],
      "metadata": {
        "id": "iYoXmAciFX1r"
      },
      "execution_count": null,
      "outputs": []
    },
    {
      "cell_type": "code",
      "source": [
        "sns.scatterplot(x=pca_transformed[:,0], y=pca_transformed[:,1], hue=kmeans.labels_, palette='Set1')\n",
        "sns.scatterplot(x=pca_transformed[anomaly_index,0], y=pca_transformed[anomaly_index,1], color='black', marker='x')\n",
        "plt.title('Anomaly')\n",
        "plt.show()"
      ],
      "metadata": {
        "id": "2K14OyYeFc7-"
      },
      "execution_count": null,
      "outputs": []
    }
  ]
}