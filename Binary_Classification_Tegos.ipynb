{
  "nbformat": 4,
  "nbformat_minor": 0,
  "metadata": {
    "colab": {
      "name": "Untitled7.ipynb",
      "provenance": [],
      "authorship_tag": "ABX9TyMTr66qS1xK2Gb8fqXUF+3J",
      "include_colab_link": true
    },
    "kernelspec": {
      "name": "python3",
      "display_name": "Python 3"
    },
    "widgets": {
      "application/vnd.jupyter.widget-state+json": {
        "01f25b32f88c4bb0a2f4344bd34077c5": {
          "model_module": "@jupyter-widgets/controls",
          "model_name": "VBoxModel",
          "model_module_version": "1.5.0",
          "state": {
            "_dom_classes": [
              "widget-interact"
            ],
            "_model_module": "@jupyter-widgets/controls",
            "_model_module_version": "1.5.0",
            "_model_name": "VBoxModel",
            "_view_count": null,
            "_view_module": "@jupyter-widgets/controls",
            "_view_module_version": "1.5.0",
            "_view_name": "VBoxView",
            "box_style": "",
            "children": [
              "IPY_MODEL_95b77165c38a4141898f464e667c26ce",
              "IPY_MODEL_f0bddd31900441ee8263ded61610ae78"
            ],
            "layout": "IPY_MODEL_3f5701f646db435fa6b8a962ed65cc01"
          }
        },
        "95b77165c38a4141898f464e667c26ce": {
          "model_module": "@jupyter-widgets/controls",
          "model_name": "ToggleButtonsModel",
          "model_module_version": "1.5.0",
          "state": {
            "_dom_classes": [],
            "_model_module": "@jupyter-widgets/controls",
            "_model_module_version": "1.5.0",
            "_model_name": "ToggleButtonsModel",
            "_options_labels": [
              "Pipeline Plot",
              "Hyperparameters",
              "AUC",
              "Confusion Matrix",
              "Threshold",
              "Precision Recall",
              "Prediction Error",
              "Class Report",
              "Feature Selection",
              "Learning Curve",
              "Manifold Learning",
              "Calibration Curve",
              "Validation Curve",
              "Dimensions",
              "Feature Importance",
              "Feature Importance (All)",
              "Decision Boundary",
              "Lift Chart",
              "Gain Chart",
              "Decision Tree",
              "KS Statistic Plot"
            ],
            "_view_count": null,
            "_view_module": "@jupyter-widgets/controls",
            "_view_module_version": "1.5.0",
            "_view_name": "ToggleButtonsView",
            "button_style": "",
            "description": "Plot Type:",
            "description_tooltip": null,
            "disabled": false,
            "icons": [
              ""
            ],
            "index": 3,
            "layout": "IPY_MODEL_2712f64b76034759a3b46b6e69a2d161",
            "style": "IPY_MODEL_73ab143cb6004e049c97d3eb11573a13",
            "tooltips": []
          }
        },
        "f0bddd31900441ee8263ded61610ae78": {
          "model_module": "@jupyter-widgets/output",
          "model_name": "OutputModel",
          "model_module_version": "1.0.0",
          "state": {
            "_dom_classes": [],
            "_model_module": "@jupyter-widgets/output",
            "_model_module_version": "1.0.0",
            "_model_name": "OutputModel",
            "_view_count": null,
            "_view_module": "@jupyter-widgets/output",
            "_view_module_version": "1.0.0",
            "_view_name": "OutputView",
            "layout": "IPY_MODEL_42a4ab2fc9be4288b5a9ef369742ec97",
            "msg_id": "",
            "outputs": [
              {
                "output_type": "display_data",
                "data": {
                  "text/plain": "<Figure size 800x550 with 1 Axes>",
                  "image/png": "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\n"
                },
                "metadata": {}
              }
            ]
          }
        },
        "3f5701f646db435fa6b8a962ed65cc01": {
          "model_module": "@jupyter-widgets/base",
          "model_name": "LayoutModel",
          "model_module_version": "1.2.0",
          "state": {
            "_model_module": "@jupyter-widgets/base",
            "_model_module_version": "1.2.0",
            "_model_name": "LayoutModel",
            "_view_count": null,
            "_view_module": "@jupyter-widgets/base",
            "_view_module_version": "1.2.0",
            "_view_name": "LayoutView",
            "align_content": null,
            "align_items": null,
            "align_self": null,
            "border": null,
            "bottom": null,
            "display": null,
            "flex": null,
            "flex_flow": null,
            "grid_area": null,
            "grid_auto_columns": null,
            "grid_auto_flow": null,
            "grid_auto_rows": null,
            "grid_column": null,
            "grid_gap": null,
            "grid_row": null,
            "grid_template_areas": null,
            "grid_template_columns": null,
            "grid_template_rows": null,
            "height": null,
            "justify_content": null,
            "justify_items": null,
            "left": null,
            "margin": null,
            "max_height": null,
            "max_width": null,
            "min_height": null,
            "min_width": null,
            "object_fit": null,
            "object_position": null,
            "order": null,
            "overflow": null,
            "overflow_x": null,
            "overflow_y": null,
            "padding": null,
            "right": null,
            "top": null,
            "visibility": null,
            "width": null
          }
        },
        "2712f64b76034759a3b46b6e69a2d161": {
          "model_module": "@jupyter-widgets/base",
          "model_name": "LayoutModel",
          "model_module_version": "1.2.0",
          "state": {
            "_model_module": "@jupyter-widgets/base",
            "_model_module_version": "1.2.0",
            "_model_name": "LayoutModel",
            "_view_count": null,
            "_view_module": "@jupyter-widgets/base",
            "_view_module_version": "1.2.0",
            "_view_name": "LayoutView",
            "align_content": null,
            "align_items": null,
            "align_self": null,
            "border": null,
            "bottom": null,
            "display": null,
            "flex": null,
            "flex_flow": null,
            "grid_area": null,
            "grid_auto_columns": null,
            "grid_auto_flow": null,
            "grid_auto_rows": null,
            "grid_column": null,
            "grid_gap": null,
            "grid_row": null,
            "grid_template_areas": null,
            "grid_template_columns": null,
            "grid_template_rows": null,
            "height": null,
            "justify_content": null,
            "justify_items": null,
            "left": null,
            "margin": null,
            "max_height": null,
            "max_width": null,
            "min_height": null,
            "min_width": null,
            "object_fit": null,
            "object_position": null,
            "order": null,
            "overflow": null,
            "overflow_x": null,
            "overflow_y": null,
            "padding": null,
            "right": null,
            "top": null,
            "visibility": null,
            "width": null
          }
        },
        "73ab143cb6004e049c97d3eb11573a13": {
          "model_module": "@jupyter-widgets/controls",
          "model_name": "ToggleButtonsStyleModel",
          "model_module_version": "1.5.0",
          "state": {
            "_model_module": "@jupyter-widgets/controls",
            "_model_module_version": "1.5.0",
            "_model_name": "ToggleButtonsStyleModel",
            "_view_count": null,
            "_view_module": "@jupyter-widgets/base",
            "_view_module_version": "1.2.0",
            "_view_name": "StyleView",
            "button_width": "",
            "description_width": "",
            "font_weight": ""
          }
        },
        "42a4ab2fc9be4288b5a9ef369742ec97": {
          "model_module": "@jupyter-widgets/base",
          "model_name": "LayoutModel",
          "model_module_version": "1.2.0",
          "state": {
            "_model_module": "@jupyter-widgets/base",
            "_model_module_version": "1.2.0",
            "_model_name": "LayoutModel",
            "_view_count": null,
            "_view_module": "@jupyter-widgets/base",
            "_view_module_version": "1.2.0",
            "_view_name": "LayoutView",
            "align_content": null,
            "align_items": null,
            "align_self": null,
            "border": null,
            "bottom": null,
            "display": null,
            "flex": null,
            "flex_flow": null,
            "grid_area": null,
            "grid_auto_columns": null,
            "grid_auto_flow": null,
            "grid_auto_rows": null,
            "grid_column": null,
            "grid_gap": null,
            "grid_row": null,
            "grid_template_areas": null,
            "grid_template_columns": null,
            "grid_template_rows": null,
            "height": null,
            "justify_content": null,
            "justify_items": null,
            "left": null,
            "margin": null,
            "max_height": null,
            "max_width": null,
            "min_height": null,
            "min_width": null,
            "object_fit": null,
            "object_position": null,
            "order": null,
            "overflow": null,
            "overflow_x": null,
            "overflow_y": null,
            "padding": null,
            "right": null,
            "top": null,
            "visibility": null,
            "width": null
          }
        }
      }
    }
  },
  "cells": [
    {
      "cell_type": "markdown",
      "metadata": {
        "id": "view-in-github",
        "colab_type": "text"
      },
      "source": [
        "<a href=\"https://colab.research.google.com/github/kdemertzis/LNexamples/blob/main/Binary_Classification_Tegos.ipynb\" target=\"_parent\"><img src=\"https://colab.research.google.com/assets/colab-badge.svg\" alt=\"Open In Colab\"/></a>"
      ]
    },
    {
      "cell_type": "code",
      "metadata": {
        "id": "2rvGqQdY9C6s",
        "colab": {
          "base_uri": "https://localhost:8080/"
        },
        "outputId": "7658bde7-ee7a-49e2-80fe-ac7dcb1d1b7a"
      },
      "source": [
        "!pip install pycaret"
      ],
      "execution_count": 1,
      "outputs": [
        {
          "output_type": "stream",
          "name": "stdout",
          "text": [
            "Requirement already satisfied: pycaret in /usr/local/lib/python3.10/dist-packages (3.0.4)\n",
            "Requirement already satisfied: ipython>=5.5.0 in /usr/local/lib/python3.10/dist-packages (from pycaret) (7.34.0)\n",
            "Requirement already satisfied: ipywidgets>=7.6.5 in /usr/local/lib/python3.10/dist-packages (from pycaret) (7.7.1)\n",
            "Requirement already satisfied: tqdm>=4.62.0 in /usr/local/lib/python3.10/dist-packages (from pycaret) (4.66.1)\n",
            "Requirement already satisfied: numpy<1.24,>=1.21 in /usr/local/lib/python3.10/dist-packages (from pycaret) (1.23.5)\n",
            "Requirement already satisfied: pandas<2.0.0,>=1.3.0 in /usr/local/lib/python3.10/dist-packages (from pycaret) (1.5.3)\n",
            "Requirement already satisfied: jinja2>=1.2 in /usr/local/lib/python3.10/dist-packages (from pycaret) (3.1.2)\n",
            "Requirement already satisfied: scipy<2.0.0 in /usr/local/lib/python3.10/dist-packages (from pycaret) (1.10.1)\n",
            "Requirement already satisfied: joblib>=1.2.0 in /usr/local/lib/python3.10/dist-packages (from pycaret) (1.3.2)\n",
            "Requirement already satisfied: scikit-learn<1.3.0,>=1.0 in /usr/local/lib/python3.10/dist-packages (from pycaret) (1.2.2)\n",
            "Requirement already satisfied: pyod>=1.0.8 in /usr/local/lib/python3.10/dist-packages (from pycaret) (1.1.0)\n",
            "Requirement already satisfied: imbalanced-learn>=0.8.1 in /usr/local/lib/python3.10/dist-packages (from pycaret) (0.10.1)\n",
            "Requirement already satisfied: category-encoders>=2.4.0 in /usr/local/lib/python3.10/dist-packages (from pycaret) (2.6.2)\n",
            "Requirement already satisfied: lightgbm>=3.0.0 in /usr/local/lib/python3.10/dist-packages (from pycaret) (4.0.0)\n",
            "Requirement already satisfied: numba>=0.55.0 in /usr/local/lib/python3.10/dist-packages (from pycaret) (0.56.4)\n",
            "Requirement already satisfied: requests>=2.27.1 in /usr/local/lib/python3.10/dist-packages (from pycaret) (2.31.0)\n",
            "Requirement already satisfied: psutil>=5.9.0 in /usr/local/lib/python3.10/dist-packages (from pycaret) (5.9.5)\n",
            "Requirement already satisfied: markupsafe>=2.0.1 in /usr/local/lib/python3.10/dist-packages (from pycaret) (2.1.3)\n",
            "Requirement already satisfied: importlib-metadata>=4.12.0 in /usr/local/lib/python3.10/dist-packages (from pycaret) (6.8.0)\n",
            "Requirement already satisfied: nbformat>=4.2.0 in /usr/local/lib/python3.10/dist-packages (from pycaret) (5.9.2)\n",
            "Requirement already satisfied: cloudpickle in /usr/local/lib/python3.10/dist-packages (from pycaret) (2.2.1)\n",
            "Requirement already satisfied: deprecation>=2.1.0 in /usr/local/lib/python3.10/dist-packages (from pycaret) (2.1.0)\n",
            "Requirement already satisfied: xxhash in /usr/local/lib/python3.10/dist-packages (from pycaret) (3.3.0)\n",
            "Requirement already satisfied: matplotlib>=3.3.0 in /usr/local/lib/python3.10/dist-packages (from pycaret) (3.7.1)\n",
            "Requirement already satisfied: scikit-plot>=0.3.7 in /usr/local/lib/python3.10/dist-packages (from pycaret) (0.3.7)\n",
            "Requirement already satisfied: yellowbrick>=1.4 in /usr/local/lib/python3.10/dist-packages (from pycaret) (1.5)\n",
            "Requirement already satisfied: plotly>=5.0.0 in /usr/local/lib/python3.10/dist-packages (from pycaret) (5.15.0)\n",
            "Requirement already satisfied: kaleido>=0.2.1 in /usr/local/lib/python3.10/dist-packages (from pycaret) (0.2.1)\n",
            "Requirement already satisfied: schemdraw==0.15 in /usr/local/lib/python3.10/dist-packages (from pycaret) (0.15)\n",
            "Requirement already satisfied: plotly-resampler>=0.8.3.1 in /usr/local/lib/python3.10/dist-packages (from pycaret) (0.9.1)\n",
            "Requirement already satisfied: statsmodels>=0.12.1 in /usr/local/lib/python3.10/dist-packages (from pycaret) (0.14.0)\n",
            "Requirement already satisfied: sktime!=0.17.1,!=0.17.2,!=0.18.0,>=0.16.1 in /usr/local/lib/python3.10/dist-packages (from pycaret) (0.21.0)\n",
            "Requirement already satisfied: tbats>=1.1.3 in /usr/local/lib/python3.10/dist-packages (from pycaret) (1.1.3)\n",
            "Requirement already satisfied: pmdarima!=1.8.1,<3.0.0,>=1.8.0 in /usr/local/lib/python3.10/dist-packages (from pycaret) (2.0.3)\n",
            "Requirement already satisfied: wurlitzer in /usr/local/lib/python3.10/dist-packages (from pycaret) (3.0.3)\n",
            "Requirement already satisfied: patsy>=0.5.1 in /usr/local/lib/python3.10/dist-packages (from category-encoders>=2.4.0->pycaret) (0.5.3)\n",
            "Requirement already satisfied: packaging in /usr/local/lib/python3.10/dist-packages (from deprecation>=2.1.0->pycaret) (23.1)\n",
            "Requirement already satisfied: threadpoolctl>=2.0.0 in /usr/local/lib/python3.10/dist-packages (from imbalanced-learn>=0.8.1->pycaret) (3.2.0)\n",
            "Requirement already satisfied: zipp>=0.5 in /usr/local/lib/python3.10/dist-packages (from importlib-metadata>=4.12.0->pycaret) (3.16.2)\n",
            "Requirement already satisfied: setuptools>=18.5 in /usr/local/lib/python3.10/dist-packages (from ipython>=5.5.0->pycaret) (67.7.2)\n",
            "Requirement already satisfied: jedi>=0.16 in /usr/local/lib/python3.10/dist-packages (from ipython>=5.5.0->pycaret) (0.19.0)\n",
            "Requirement already satisfied: decorator in /usr/local/lib/python3.10/dist-packages (from ipython>=5.5.0->pycaret) (4.4.2)\n",
            "Requirement already satisfied: pickleshare in /usr/local/lib/python3.10/dist-packages (from ipython>=5.5.0->pycaret) (0.7.5)\n",
            "Requirement already satisfied: traitlets>=4.2 in /usr/local/lib/python3.10/dist-packages (from ipython>=5.5.0->pycaret) (5.7.1)\n",
            "Requirement already satisfied: prompt-toolkit!=3.0.0,!=3.0.1,<3.1.0,>=2.0.0 in /usr/local/lib/python3.10/dist-packages (from ipython>=5.5.0->pycaret) (3.0.39)\n",
            "Requirement already satisfied: pygments in /usr/local/lib/python3.10/dist-packages (from ipython>=5.5.0->pycaret) (2.16.1)\n",
            "Requirement already satisfied: backcall in /usr/local/lib/python3.10/dist-packages (from ipython>=5.5.0->pycaret) (0.2.0)\n",
            "Requirement already satisfied: matplotlib-inline in /usr/local/lib/python3.10/dist-packages (from ipython>=5.5.0->pycaret) (0.1.6)\n",
            "Requirement already satisfied: pexpect>4.3 in /usr/local/lib/python3.10/dist-packages (from ipython>=5.5.0->pycaret) (4.8.0)\n",
            "Requirement already satisfied: ipykernel>=4.5.1 in /usr/local/lib/python3.10/dist-packages (from ipywidgets>=7.6.5->pycaret) (5.5.6)\n",
            "Requirement already satisfied: ipython-genutils~=0.2.0 in /usr/local/lib/python3.10/dist-packages (from ipywidgets>=7.6.5->pycaret) (0.2.0)\n",
            "Requirement already satisfied: widgetsnbextension~=3.6.0 in /usr/local/lib/python3.10/dist-packages (from ipywidgets>=7.6.5->pycaret) (3.6.5)\n",
            "Requirement already satisfied: jupyterlab-widgets>=1.0.0 in /usr/local/lib/python3.10/dist-packages (from ipywidgets>=7.6.5->pycaret) (3.0.8)\n",
            "Requirement already satisfied: contourpy>=1.0.1 in /usr/local/lib/python3.10/dist-packages (from matplotlib>=3.3.0->pycaret) (1.1.0)\n",
            "Requirement already satisfied: cycler>=0.10 in /usr/local/lib/python3.10/dist-packages (from matplotlib>=3.3.0->pycaret) (0.11.0)\n",
            "Requirement already satisfied: fonttools>=4.22.0 in /usr/local/lib/python3.10/dist-packages (from matplotlib>=3.3.0->pycaret) (4.42.0)\n",
            "Requirement already satisfied: kiwisolver>=1.0.1 in /usr/local/lib/python3.10/dist-packages (from matplotlib>=3.3.0->pycaret) (1.4.4)\n",
            "Requirement already satisfied: pillow>=6.2.0 in /usr/local/lib/python3.10/dist-packages (from matplotlib>=3.3.0->pycaret) (9.4.0)\n",
            "Requirement already satisfied: pyparsing>=2.3.1 in /usr/local/lib/python3.10/dist-packages (from matplotlib>=3.3.0->pycaret) (3.1.1)\n",
            "Requirement already satisfied: python-dateutil>=2.7 in /usr/local/lib/python3.10/dist-packages (from matplotlib>=3.3.0->pycaret) (2.8.2)\n",
            "Requirement already satisfied: fastjsonschema in /usr/local/lib/python3.10/dist-packages (from nbformat>=4.2.0->pycaret) (2.18.0)\n",
            "Requirement already satisfied: jsonschema>=2.6 in /usr/local/lib/python3.10/dist-packages (from nbformat>=4.2.0->pycaret) (4.19.0)\n",
            "Requirement already satisfied: jupyter-core in /usr/local/lib/python3.10/dist-packages (from nbformat>=4.2.0->pycaret) (5.3.1)\n",
            "Requirement already satisfied: llvmlite<0.40,>=0.39.0dev0 in /usr/local/lib/python3.10/dist-packages (from numba>=0.55.0->pycaret) (0.39.1)\n",
            "Requirement already satisfied: pytz>=2020.1 in /usr/local/lib/python3.10/dist-packages (from pandas<2.0.0,>=1.3.0->pycaret) (2023.3)\n",
            "Requirement already satisfied: tenacity>=6.2.0 in /usr/local/lib/python3.10/dist-packages (from plotly>=5.0.0->pycaret) (8.2.3)\n",
            "Requirement already satisfied: dash<3.0.0,>=2.11.0 in /usr/local/lib/python3.10/dist-packages (from plotly-resampler>=0.8.3.1->pycaret) (2.12.1)\n",
            "Requirement already satisfied: orjson<4.0.0,>=3.8.0 in /usr/local/lib/python3.10/dist-packages (from plotly-resampler>=0.8.3.1->pycaret) (3.9.5)\n",
            "Requirement already satisfied: trace-updater>=0.0.8 in /usr/local/lib/python3.10/dist-packages (from plotly-resampler>=0.8.3.1->pycaret) (0.0.9.1)\n",
            "Requirement already satisfied: tsdownsample==0.1.2 in /usr/local/lib/python3.10/dist-packages (from plotly-resampler>=0.8.3.1->pycaret) (0.1.2)\n",
            "Requirement already satisfied: Cython!=0.29.18,!=0.29.31,>=0.29 in /usr/local/lib/python3.10/dist-packages (from pmdarima!=1.8.1,<3.0.0,>=1.8.0->pycaret) (0.29.36)\n",
            "Requirement already satisfied: urllib3 in /usr/local/lib/python3.10/dist-packages (from pmdarima!=1.8.1,<3.0.0,>=1.8.0->pycaret) (2.0.4)\n",
            "Requirement already satisfied: six in /usr/local/lib/python3.10/dist-packages (from pyod>=1.0.8->pycaret) (1.16.0)\n",
            "Requirement already satisfied: charset-normalizer<4,>=2 in /usr/local/lib/python3.10/dist-packages (from requests>=2.27.1->pycaret) (3.2.0)\n",
            "Requirement already satisfied: idna<4,>=2.5 in /usr/local/lib/python3.10/dist-packages (from requests>=2.27.1->pycaret) (3.4)\n",
            "Requirement already satisfied: certifi>=2017.4.17 in /usr/local/lib/python3.10/dist-packages (from requests>=2.27.1->pycaret) (2023.7.22)\n",
            "Requirement already satisfied: deprecated>=1.2.13 in /usr/local/lib/python3.10/dist-packages (from sktime!=0.17.1,!=0.17.2,!=0.18.0,>=0.16.1->pycaret) (1.2.14)\n",
            "Requirement already satisfied: scikit-base<0.6.0 in /usr/local/lib/python3.10/dist-packages (from sktime!=0.17.1,!=0.17.2,!=0.18.0,>=0.16.1->pycaret) (0.5.1)\n",
            "Requirement already satisfied: Flask<2.3.0,>=1.0.4 in /usr/local/lib/python3.10/dist-packages (from dash<3.0.0,>=2.11.0->plotly-resampler>=0.8.3.1->pycaret) (2.2.5)\n",
            "Requirement already satisfied: Werkzeug<2.3.0 in /usr/local/lib/python3.10/dist-packages (from dash<3.0.0,>=2.11.0->plotly-resampler>=0.8.3.1->pycaret) (2.2.3)\n",
            "Requirement already satisfied: dash-html-components==2.0.0 in /usr/local/lib/python3.10/dist-packages (from dash<3.0.0,>=2.11.0->plotly-resampler>=0.8.3.1->pycaret) (2.0.0)\n",
            "Requirement already satisfied: dash-core-components==2.0.0 in /usr/local/lib/python3.10/dist-packages (from dash<3.0.0,>=2.11.0->plotly-resampler>=0.8.3.1->pycaret) (2.0.0)\n",
            "Requirement already satisfied: dash-table==5.0.0 in /usr/local/lib/python3.10/dist-packages (from dash<3.0.0,>=2.11.0->plotly-resampler>=0.8.3.1->pycaret) (5.0.0)\n",
            "Requirement already satisfied: typing-extensions>=4.1.1 in /usr/local/lib/python3.10/dist-packages (from dash<3.0.0,>=2.11.0->plotly-resampler>=0.8.3.1->pycaret) (4.7.1)\n",
            "Requirement already satisfied: retrying in /usr/local/lib/python3.10/dist-packages (from dash<3.0.0,>=2.11.0->plotly-resampler>=0.8.3.1->pycaret) (1.3.4)\n",
            "Requirement already satisfied: ansi2html in /usr/local/lib/python3.10/dist-packages (from dash<3.0.0,>=2.11.0->plotly-resampler>=0.8.3.1->pycaret) (1.8.0)\n",
            "Requirement already satisfied: nest-asyncio in /usr/local/lib/python3.10/dist-packages (from dash<3.0.0,>=2.11.0->plotly-resampler>=0.8.3.1->pycaret) (1.5.7)\n",
            "Requirement already satisfied: wrapt<2,>=1.10 in /usr/local/lib/python3.10/dist-packages (from deprecated>=1.2.13->sktime!=0.17.1,!=0.17.2,!=0.18.0,>=0.16.1->pycaret) (1.14.1)\n",
            "Requirement already satisfied: jupyter-client in /usr/local/lib/python3.10/dist-packages (from ipykernel>=4.5.1->ipywidgets>=7.6.5->pycaret) (6.1.12)\n",
            "Requirement already satisfied: tornado>=4.2 in /usr/local/lib/python3.10/dist-packages (from ipykernel>=4.5.1->ipywidgets>=7.6.5->pycaret) (6.3.2)\n",
            "Requirement already satisfied: parso<0.9.0,>=0.8.3 in /usr/local/lib/python3.10/dist-packages (from jedi>=0.16->ipython>=5.5.0->pycaret) (0.8.3)\n",
            "Requirement already satisfied: attrs>=22.2.0 in /usr/local/lib/python3.10/dist-packages (from jsonschema>=2.6->nbformat>=4.2.0->pycaret) (23.1.0)\n",
            "Requirement already satisfied: jsonschema-specifications>=2023.03.6 in /usr/local/lib/python3.10/dist-packages (from jsonschema>=2.6->nbformat>=4.2.0->pycaret) (2023.7.1)\n",
            "Requirement already satisfied: referencing>=0.28.4 in /usr/local/lib/python3.10/dist-packages (from jsonschema>=2.6->nbformat>=4.2.0->pycaret) (0.30.2)\n",
            "Requirement already satisfied: rpds-py>=0.7.1 in /usr/local/lib/python3.10/dist-packages (from jsonschema>=2.6->nbformat>=4.2.0->pycaret) (0.9.2)\n",
            "Requirement already satisfied: ptyprocess>=0.5 in /usr/local/lib/python3.10/dist-packages (from pexpect>4.3->ipython>=5.5.0->pycaret) (0.7.0)\n",
            "Requirement already satisfied: wcwidth in /usr/local/lib/python3.10/dist-packages (from prompt-toolkit!=3.0.0,!=3.0.1,<3.1.0,>=2.0.0->ipython>=5.5.0->pycaret) (0.2.6)\n",
            "Requirement already satisfied: notebook>=4.4.1 in /usr/local/lib/python3.10/dist-packages (from widgetsnbextension~=3.6.0->ipywidgets>=7.6.5->pycaret) (6.5.5)\n",
            "Requirement already satisfied: platformdirs>=2.5 in /usr/local/lib/python3.10/dist-packages (from jupyter-core->nbformat>=4.2.0->pycaret) (3.10.0)\n",
            "Requirement already satisfied: itsdangerous>=2.0 in /usr/local/lib/python3.10/dist-packages (from Flask<2.3.0,>=1.0.4->dash<3.0.0,>=2.11.0->plotly-resampler>=0.8.3.1->pycaret) (2.1.2)\n",
            "Requirement already satisfied: click>=8.0 in /usr/local/lib/python3.10/dist-packages (from Flask<2.3.0,>=1.0.4->dash<3.0.0,>=2.11.0->plotly-resampler>=0.8.3.1->pycaret) (8.1.6)\n",
            "Requirement already satisfied: pyzmq<25,>=17 in /usr/local/lib/python3.10/dist-packages (from notebook>=4.4.1->widgetsnbextension~=3.6.0->ipywidgets>=7.6.5->pycaret) (23.2.1)\n",
            "Requirement already satisfied: argon2-cffi in /usr/local/lib/python3.10/dist-packages (from notebook>=4.4.1->widgetsnbextension~=3.6.0->ipywidgets>=7.6.5->pycaret) (23.1.0)\n",
            "Requirement already satisfied: nbconvert>=5 in /usr/local/lib/python3.10/dist-packages (from notebook>=4.4.1->widgetsnbextension~=3.6.0->ipywidgets>=7.6.5->pycaret) (6.5.4)\n",
            "Requirement already satisfied: Send2Trash>=1.8.0 in /usr/local/lib/python3.10/dist-packages (from notebook>=4.4.1->widgetsnbextension~=3.6.0->ipywidgets>=7.6.5->pycaret) (1.8.2)\n",
            "Requirement already satisfied: terminado>=0.8.3 in /usr/local/lib/python3.10/dist-packages (from notebook>=4.4.1->widgetsnbextension~=3.6.0->ipywidgets>=7.6.5->pycaret) (0.17.1)\n",
            "Requirement already satisfied: prometheus-client in /usr/local/lib/python3.10/dist-packages (from notebook>=4.4.1->widgetsnbextension~=3.6.0->ipywidgets>=7.6.5->pycaret) (0.17.1)\n",
            "Requirement already satisfied: nbclassic>=0.4.7 in /usr/local/lib/python3.10/dist-packages (from notebook>=4.4.1->widgetsnbextension~=3.6.0->ipywidgets>=7.6.5->pycaret) (1.0.0)\n",
            "Requirement already satisfied: jupyter-server>=1.8 in /usr/local/lib/python3.10/dist-packages (from nbclassic>=0.4.7->notebook>=4.4.1->widgetsnbextension~=3.6.0->ipywidgets>=7.6.5->pycaret) (1.24.0)\n",
            "Requirement already satisfied: notebook-shim>=0.2.3 in /usr/local/lib/python3.10/dist-packages (from nbclassic>=0.4.7->notebook>=4.4.1->widgetsnbextension~=3.6.0->ipywidgets>=7.6.5->pycaret) (0.2.3)\n",
            "Requirement already satisfied: lxml in /usr/local/lib/python3.10/dist-packages (from nbconvert>=5->notebook>=4.4.1->widgetsnbextension~=3.6.0->ipywidgets>=7.6.5->pycaret) (4.9.3)\n",
            "Requirement already satisfied: beautifulsoup4 in /usr/local/lib/python3.10/dist-packages (from nbconvert>=5->notebook>=4.4.1->widgetsnbextension~=3.6.0->ipywidgets>=7.6.5->pycaret) (4.11.2)\n",
            "Requirement already satisfied: bleach in /usr/local/lib/python3.10/dist-packages (from nbconvert>=5->notebook>=4.4.1->widgetsnbextension~=3.6.0->ipywidgets>=7.6.5->pycaret) (6.0.0)\n",
            "Requirement already satisfied: defusedxml in /usr/local/lib/python3.10/dist-packages (from nbconvert>=5->notebook>=4.4.1->widgetsnbextension~=3.6.0->ipywidgets>=7.6.5->pycaret) (0.7.1)\n",
            "Requirement already satisfied: entrypoints>=0.2.2 in /usr/local/lib/python3.10/dist-packages (from nbconvert>=5->notebook>=4.4.1->widgetsnbextension~=3.6.0->ipywidgets>=7.6.5->pycaret) (0.4)\n",
            "Requirement already satisfied: jupyterlab-pygments in /usr/local/lib/python3.10/dist-packages (from nbconvert>=5->notebook>=4.4.1->widgetsnbextension~=3.6.0->ipywidgets>=7.6.5->pycaret) (0.2.2)\n",
            "Requirement already satisfied: mistune<2,>=0.8.1 in /usr/local/lib/python3.10/dist-packages (from nbconvert>=5->notebook>=4.4.1->widgetsnbextension~=3.6.0->ipywidgets>=7.6.5->pycaret) (0.8.4)\n",
            "Requirement already satisfied: nbclient>=0.5.0 in /usr/local/lib/python3.10/dist-packages (from nbconvert>=5->notebook>=4.4.1->widgetsnbextension~=3.6.0->ipywidgets>=7.6.5->pycaret) (0.8.0)\n",
            "Requirement already satisfied: pandocfilters>=1.4.1 in /usr/local/lib/python3.10/dist-packages (from nbconvert>=5->notebook>=4.4.1->widgetsnbextension~=3.6.0->ipywidgets>=7.6.5->pycaret) (1.5.0)\n",
            "Requirement already satisfied: tinycss2 in /usr/local/lib/python3.10/dist-packages (from nbconvert>=5->notebook>=4.4.1->widgetsnbextension~=3.6.0->ipywidgets>=7.6.5->pycaret) (1.2.1)\n",
            "Requirement already satisfied: argon2-cffi-bindings in /usr/local/lib/python3.10/dist-packages (from argon2-cffi->notebook>=4.4.1->widgetsnbextension~=3.6.0->ipywidgets>=7.6.5->pycaret) (21.2.0)\n",
            "Requirement already satisfied: anyio<4,>=3.1.0 in /usr/local/lib/python3.10/dist-packages (from jupyter-server>=1.8->nbclassic>=0.4.7->notebook>=4.4.1->widgetsnbextension~=3.6.0->ipywidgets>=7.6.5->pycaret) (3.7.1)\n",
            "Requirement already satisfied: websocket-client in /usr/local/lib/python3.10/dist-packages (from jupyter-server>=1.8->nbclassic>=0.4.7->notebook>=4.4.1->widgetsnbextension~=3.6.0->ipywidgets>=7.6.5->pycaret) (1.6.1)\n",
            "Requirement already satisfied: cffi>=1.0.1 in /usr/local/lib/python3.10/dist-packages (from argon2-cffi-bindings->argon2-cffi->notebook>=4.4.1->widgetsnbextension~=3.6.0->ipywidgets>=7.6.5->pycaret) (1.15.1)\n",
            "Requirement already satisfied: soupsieve>1.2 in /usr/local/lib/python3.10/dist-packages (from beautifulsoup4->nbconvert>=5->notebook>=4.4.1->widgetsnbextension~=3.6.0->ipywidgets>=7.6.5->pycaret) (2.4.1)\n",
            "Requirement already satisfied: webencodings in /usr/local/lib/python3.10/dist-packages (from bleach->nbconvert>=5->notebook>=4.4.1->widgetsnbextension~=3.6.0->ipywidgets>=7.6.5->pycaret) (0.5.1)\n",
            "Requirement already satisfied: sniffio>=1.1 in /usr/local/lib/python3.10/dist-packages (from anyio<4,>=3.1.0->jupyter-server>=1.8->nbclassic>=0.4.7->notebook>=4.4.1->widgetsnbextension~=3.6.0->ipywidgets>=7.6.5->pycaret) (1.3.0)\n",
            "Requirement already satisfied: exceptiongroup in /usr/local/lib/python3.10/dist-packages (from anyio<4,>=3.1.0->jupyter-server>=1.8->nbclassic>=0.4.7->notebook>=4.4.1->widgetsnbextension~=3.6.0->ipywidgets>=7.6.5->pycaret) (1.1.3)\n",
            "Requirement already satisfied: pycparser in /usr/local/lib/python3.10/dist-packages (from cffi>=1.0.1->argon2-cffi-bindings->argon2-cffi->notebook>=4.4.1->widgetsnbextension~=3.6.0->ipywidgets>=7.6.5->pycaret) (2.21)\n"
          ]
        }
      ]
    },
    {
      "cell_type": "code",
      "metadata": {
        "id": "7LfnpwSS9nue"
      },
      "source": [
        "import pycaret\n",
        "import pandas as pd\n",
        "import numpy as np\n",
        "import matplotlib.pyplot as plt\n",
        "from pycaret.classification import *"
      ],
      "execution_count": 2,
      "outputs": []
    },
    {
      "cell_type": "code",
      "metadata": {
        "colab": {
          "base_uri": "https://localhost:8080/"
        },
        "id": "ZunbzPVa9a6g",
        "outputId": "9cfb1aba-a048-440b-97d0-2fea32ac8e36"
      },
      "source": [
        "# define the location of the dataset\n",
        "url = 'https://raw.githubusercontent.com/kdemertzis/LNexamples/main/tegos_remove_norm.csv'\n",
        "# load the dataset\n",
        "df = pd.read_csv(url, header=None)\n",
        "# summarize the shape of the dataset\n",
        "print(df.shape)"
      ],
      "execution_count": 3,
      "outputs": [
        {
          "output_type": "stream",
          "name": "stdout",
          "text": [
            "(5038, 5)\n"
          ]
        }
      ]
    },
    {
      "cell_type": "code",
      "metadata": {
        "id": "6_84I_Yy966o"
      },
      "source": [
        "# set column names as the column number\n",
        "n_cols = df.shape[1]\n",
        "df.columns = [str(i) for i in range(n_cols)]"
      ],
      "execution_count": 4,
      "outputs": []
    },
    {
      "cell_type": "code",
      "metadata": {
        "colab": {
          "base_uri": "https://localhost:8080/"
        },
        "id": "3YYTFixC98yA",
        "outputId": "d9a0d1cf-65d3-4e22-b199-7839ccc4b359"
      },
      "source": [
        "# summarize the first few rows of data\n",
        "print(df.head())"
      ],
      "execution_count": 5,
      "outputs": [
        {
          "output_type": "stream",
          "name": "stdout",
          "text": [
            "     0    1       2         3  4\n",
            "0  0.0  0.0  0.0500  0.066667  0\n",
            "1  0.0  0.0  0.0625  0.066667  1\n",
            "2  0.0  0.0  0.0875  0.080000  1\n",
            "3  0.0  0.0  0.0625  0.080000  0\n",
            "4  0.0  0.0  0.0625  0.080000  1\n"
          ]
        }
      ]
    },
    {
      "cell_type": "code",
      "metadata": {
        "id": "J6y3Zhq2-EZ8"
      },
      "source": [
        "# setup the dataset\n",
        "grid = setup(data=df, target=df.columns[-1], html=False, verbose=False)"
      ],
      "execution_count": 6,
      "outputs": []
    },
    {
      "cell_type": "code",
      "metadata": {
        "colab": {
          "base_uri": "https://localhost:8080/"
        },
        "id": "ZGJ7kigzA1Rf",
        "outputId": "1ff08b97-6c50-4fbc-f2e4-df5599d38d95"
      },
      "source": [
        "best = compare_models(cross_validation=False, n_select = 1)\n",
        "%load_ext tensorboard"
      ],
      "execution_count": 7,
      "outputs": [
        {
          "output_type": "stream",
          "name": "stderr",
          "text": [
            "                                                           "
          ]
        },
        {
          "output_type": "stream",
          "name": "stdout",
          "text": [
            "                                    Model  Accuracy     AUC  Recall   Prec.  \\\n",
            "lr                    Logistic Regression    0.7963  0.5861  0.0065  0.6667   \n",
            "ridge                    Ridge Classifier    0.7963  0.5028  0.0065  0.6667   \n",
            "lda          Linear Discriminant Analysis    0.7963  0.5886  0.0065  0.6667   \n",
            "svm                   SVM - Linear Kernel    0.7956  0.5000  0.0000  0.0000   \n",
            "dummy                    Dummy Classifier    0.7956  0.5000  0.0000  0.0000   \n",
            "gbc          Gradient Boosting Classifier    0.7950  0.5533  0.0388  0.4800   \n",
            "ada                  Ada Boost Classifier    0.7930  0.5577  0.0388  0.4286   \n",
            "qda       Quadratic Discriminant Analysis    0.7844  0.5844  0.1553  0.4248   \n",
            "lightgbm  Light Gradient Boosting Machine    0.7798  0.5440  0.0744  0.3286   \n",
            "nb                            Naive Bayes    0.7791  0.5805  0.1586  0.3984   \n",
            "xgboost         Extreme Gradient Boosting    0.7705  0.5253  0.0906  0.2979   \n",
            "et                 Extra Trees Classifier    0.7679  0.5515  0.1197  0.3190   \n",
            "rf               Random Forest Classifier    0.7665  0.5508  0.1197  0.3136   \n",
            "knn                K Neighbors Classifier    0.7606  0.5376  0.1036  0.2735   \n",
            "dt               Decision Tree Classifier    0.7520  0.5173  0.1392  0.2829   \n",
            "\n",
            "              F1   Kappa     MCC  TT (Sec)  \n",
            "lr        0.0128  0.0089  0.0511      0.02  \n",
            "ridge     0.0128  0.0089  0.0511      0.02  \n",
            "lda       0.0128  0.0089  0.0511      0.03  \n",
            "svm       0.0000  0.0000  0.0000      0.03  \n",
            "dummy     0.0000  0.0000  0.0000      0.02  \n",
            "gbc       0.0719  0.0426  0.0886      0.34  \n",
            "ada       0.0712  0.0386  0.0764      0.52  \n",
            "qda       0.2275  0.1325  0.1553      0.10  \n",
            "lightgbm  0.1214  0.0496  0.0679      0.63  \n",
            "nb        0.2269  0.1250  0.1432      0.02  \n",
            "xgboost   0.1390  0.0482  0.0597      3.34  \n",
            "et        0.1741  0.0704  0.0819      0.70  \n",
            "rf        0.1733  0.0680  0.0788      0.96  \n",
            "knn       0.1502  0.0428  0.0497      0.02  \n",
            "dt        0.1866  0.0599  0.0651      0.02  \n"
          ]
        },
        {
          "output_type": "stream",
          "name": "stderr",
          "text": [
            "\r"
          ]
        }
      ]
    },
    {
      "cell_type": "code",
      "metadata": {
        "colab": {
          "base_uri": "https://localhost:8080/"
        },
        "id": "TorFLtNx-kCm",
        "outputId": "d23374a2-6549-4793-80f4-d9690f003cdd"
      },
      "source": [
        "# report the best model\n",
        "print(best)"
      ],
      "execution_count": 8,
      "outputs": [
        {
          "output_type": "stream",
          "name": "stdout",
          "text": [
            "LogisticRegression(C=1.0, class_weight=None, dual=False, fit_intercept=True,\n",
            "                   intercept_scaling=1, l1_ratio=None, max_iter=1000,\n",
            "                   multi_class='auto', n_jobs=None, penalty='l2',\n",
            "                   random_state=6371, solver='lbfgs', tol=0.0001, verbose=0,\n",
            "                   warm_start=False)\n"
          ]
        }
      ]
    },
    {
      "cell_type": "code",
      "metadata": {
        "id": "_SvfGa2LGZoB",
        "outputId": "d676afdc-2768-408a-cef0-0e36cdc46aab",
        "colab": {
          "base_uri": "https://localhost:8080/"
        }
      },
      "source": [
        "ridge = create_model('ada')"
      ],
      "execution_count": 9,
      "outputs": [
        {
          "output_type": "stream",
          "name": "stderr",
          "text": [
            "                                                         "
          ]
        },
        {
          "output_type": "stream",
          "name": "stdout",
          "text": [
            "      Accuracy     AUC  Recall   Prec.      F1   Kappa     MCC\n",
            "Fold                                                          \n",
            "0       0.7875  0.5886  0.0548  0.4000  0.0964  0.0490  0.0815\n",
            "1       0.8017  0.5419  0.0417  0.7500  0.0789  0.0587  0.1451\n",
            "2       0.8045  0.5753  0.0556  0.8000  0.1039  0.0795  0.1773\n",
            "3       0.7989  0.6275  0.0556  0.5714  0.1013  0.0676  0.1297\n",
            "4       0.7989  0.5871  0.0694  0.5556  0.1235  0.0818  0.1411\n",
            "5       0.7904  0.5394  0.0278  0.3333  0.0513  0.0205  0.0422\n",
            "6       0.7898  0.5500  0.0139  0.2500  0.0263  0.0049  0.0121\n",
            "7       0.8011  0.4717  0.0694  0.6250  0.1250  0.0877  0.1590\n",
            "8       0.8068  0.5783  0.0556  1.0000  0.1053  0.0856  0.2114\n",
            "9       0.7812  0.5886  0.0278  0.2222  0.0494  0.0041  0.0071\n",
            "Mean    0.7961  0.5648  0.0471  0.5508  0.0861  0.0539  0.1106\n",
            "Std     0.0079  0.0399  0.0178  0.2404  0.0318  0.0313  0.0674\n"
          ]
        },
        {
          "output_type": "stream",
          "name": "stderr",
          "text": [
            "\r"
          ]
        }
      ]
    },
    {
      "cell_type": "code",
      "metadata": {
        "id": "XJTnGY38yxrE",
        "colab": {
          "base_uri": "https://localhost:8080/",
          "height": 638,
          "referenced_widgets": [
            "01f25b32f88c4bb0a2f4344bd34077c5",
            "95b77165c38a4141898f464e667c26ce",
            "f0bddd31900441ee8263ded61610ae78",
            "3f5701f646db435fa6b8a962ed65cc01",
            "2712f64b76034759a3b46b6e69a2d161",
            "73ab143cb6004e049c97d3eb11573a13",
            "42a4ab2fc9be4288b5a9ef369742ec97"
          ]
        },
        "outputId": "271441ce-88b5-4db4-97ef-ecf9ee980f54"
      },
      "source": [
        "evaluate_model(ridge)"
      ],
      "execution_count": 10,
      "outputs": [
        {
          "output_type": "display_data",
          "data": {
            "text/plain": [
              "interactive(children=(ToggleButtons(description='Plot Type:', icons=('',), options=(('Pipeline Plot', 'pipelin…"
            ],
            "application/vnd.jupyter.widget-view+json": {
              "version_major": 2,
              "version_minor": 0,
              "model_id": "01f25b32f88c4bb0a2f4344bd34077c5"
            }
          },
          "metadata": {
            "application/vnd.jupyter.widget-view+json": {
              "colab": {
                "custom_widget_manager": {
                  "url": "https://ssl.gstatic.com/colaboratory-static/widgets/colab-cdn-widget-manager/b3e629b1971e1542/manager.min.js"
                }
              }
            }
          }
        }
      ]
    }
  ]
}